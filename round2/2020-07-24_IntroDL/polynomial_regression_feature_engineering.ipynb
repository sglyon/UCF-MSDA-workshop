{
 "cells": [
  {
   "cell_type": "markdown",
   "metadata": {
    "slideshow": {
     "slide_type": "slide"
    }
   },
   "source": [
    "# Polynomial Regression Example\n",
    "\n",
    "**Spencer Lyon**\n",
    "\n",
    "*UCF MSDA Big Data Seminar*\n",
    "\n",
    "July 24, 2020\n"
   ]
  },
  {
   "cell_type": "markdown",
   "metadata": {
    "slideshow": {
     "slide_type": "subslide"
    }
   },
   "source": [
    "- In this notebook we will look at an example of how feature engineering is necessary for ML success\n",
    "- We'll start by importing some libraries and importing the dataset"
   ]
  },
  {
   "cell_type": "code",
   "execution_count": 23,
   "metadata": {
    "slideshow": {
     "slide_type": "subslide"
    }
   },
   "outputs": [],
   "source": [
    "import pandas as pd\n",
    "import numpy as np\n",
    "import matplotlib.pyplot as plt\n",
    "import seaborn as sns\n",
    "\n",
    "sns.set()\n",
    "\n",
    "from matplotlib.axes._axes import _log as matplotlib_axes_logger\n",
    "matplotlib_axes_logger.setLevel('ERROR')"
   ]
  },
  {
   "cell_type": "code",
   "execution_count": 29,
   "metadata": {
    "slideshow": {
     "slide_type": "slide"
    }
   },
   "outputs": [
    {
     "data": {
      "image/png": "[encoded data removed]",
      "text/plain": [
       "<Figure size 432x288 with 1 Axes>"
      ]
     },
     "metadata": {},
     "output_type": "display_data"
    }
   ],
   "source": [
    "df = pd.read_csv(\"cubic_data.csv\")\n",
    "df.plot.scatter(x=\"x\", y=\"y\", color=\"k\");"
   ]
  },
  {
   "cell_type": "markdown",
   "metadata": {
    "slideshow": {
     "slide_type": "slide"
    }
   },
   "source": [
    "- We will now use the scikit-learn library to fit a linear model\n",
    "- The model has the form $$y = w_0 + w_1 x$$"
   ]
  },
  {
   "cell_type": "code",
   "execution_count": 31,
   "metadata": {},
   "outputs": [],
   "source": [
    "from sklearn import linear_model\n",
    "from sklearn import metrics"
   ]
  },
  {
   "cell_type": "code",
   "execution_count": 32,
   "metadata": {},
   "outputs": [
    {
     "data": {
      "text/plain": [
       "LinearRegression(copy_X=True, fit_intercept=True, n_jobs=None,\n",
       "         normalize=False)"
      ]
     },
     "execution_count": 32,
     "metadata": {},
     "output_type": "execute_result"
    }
   ],
   "source": [
    "mod = linear_model.LinearRegression()\n",
    "mod.fit(df[[\"x\"]], df[\"y\"])"
   ]
  },
  {
   "cell_type": "code",
   "execution_count": 33,
   "metadata": {
    "slideshow": {
     "slide_type": "subslide"
    }
   },
   "outputs": [
    {
     "data": {
      "text/plain": [
       "(0.2869534114957024, array([0.99350208]))"
      ]
     },
     "execution_count": 33,
     "metadata": {},
     "output_type": "execute_result"
    }
   ],
   "source": [
    "mod.intercept_, mod.coef_"
   ]
  },
  {
   "cell_type": "markdown",
   "metadata": {},
   "source": [
    "- For this dataset, $w_0 = 0.2896$ and $w_1 = 0.9935$\n",
    "- A common metric for regression tasks is the mean squared error:"
   ]
  },
  {
   "cell_type": "code",
   "execution_count": 34,
   "metadata": {},
   "outputs": [
    {
     "data": {
      "text/plain": [
       "0.27253591903962454"
      ]
     },
     "execution_count": 34,
     "metadata": {},
     "output_type": "execute_result"
    }
   ],
   "source": [
    "linear_prediction = mod.predict(df[[\"x\"]])\n",
    "metrics.mean_squared_error(df[\"y\"], linear_prediction)"
   ]
  },
  {
   "cell_type": "markdown",
   "metadata": {
    "slideshow": {
     "slide_type": "subslide"
    }
   },
   "source": [
    "Below we will visualize the model and its fit"
   ]
  },
  {
   "cell_type": "code",
   "execution_count": 35,
   "metadata": {},
   "outputs": [
    {
     "data": {
      "image/png": "[encoded data removed]",
      "text/plain": [
       "<Figure size 432x288 with 1 Axes>"
      ]
     },
     "metadata": {},
     "output_type": "display_data"
    }
   ],
   "source": [
    "fig, ax = plt.subplots()\n",
    "df.plot.scatter(x=\"x\", y=\"y\", ax=ax, color=\"k\")\n",
    "ax.plot(df[\"x\"], linear_prediction);"
   ]
  },
  {
   "cell_type": "markdown",
   "metadata": {},
   "source": [
    "- After examining the dataset, we see that there may be a cubic pattern (why?)\n",
    "- Let's use sklearn to fit a cubic model of the form $$y = w_0 + w_1 x + w_2 x^2 + w_3 x^3$$"
   ]
  },
  {
   "cell_type": "code",
   "execution_count": 39,
   "metadata": {
    "slideshow": {
     "slide_type": "subslide"
    }
   },
   "outputs": [
    {
     "data": {
      "text/plain": [
       "LinearRegression(copy_X=True, fit_intercept=True, n_jobs=None,\n",
       "         normalize=False)"
      ]
     },
     "execution_count": 39,
     "metadata": {},
     "output_type": "execute_result"
    }
   ],
   "source": [
    "cubic = linear_model.LinearRegression()\n",
    "features = df[\"x\"].to_numpy()[:,None] ** np.array([1, 2, 3])[None, :]\n",
    "cubic.fit(features, df[\"y\"])"
   ]
  },
  {
   "cell_type": "markdown",
   "metadata": {
    "slideshow": {
     "slide_type": "subslide"
    }
   },
   "source": [
    "- Let's take a look a the coefficients and mse"
   ]
  },
  {
   "cell_type": "code",
   "execution_count": 41,
   "metadata": {},
   "outputs": [
    {
     "data": {
      "text/plain": [
       "(0.2532178764135722, array([ 2.79738384, -2.28920167,  0.61766012]))"
      ]
     },
     "execution_count": 41,
     "metadata": {},
     "output_type": "execute_result"
    }
   ],
   "source": [
    "cubic.intercept_, cubic.coef_"
   ]
  },
  {
   "cell_type": "code",
   "execution_count": 43,
   "metadata": {},
   "outputs": [
    {
     "data": {
      "text/plain": [
       "0.04901985301142532"
      ]
     },
     "execution_count": 43,
     "metadata": {},
     "output_type": "execute_result"
    }
   ],
   "source": [
    "cubic_prediction = cubic.predict(features)\n",
    "metrics.mean_squared_error(df[\"y\"], cubic_prediction)"
   ]
  },
  {
   "cell_type": "markdown",
   "metadata": {},
   "source": [
    "This is a much better MSE\n",
    "\n",
    "We can also visually see that the fit is better:"
   ]
  },
  {
   "cell_type": "code",
   "execution_count": 45,
   "metadata": {},
   "outputs": [
    {
     "data": {
      "image/png": "[encoded data removed]",
      "text/plain": [
       "<Figure size 432x288 with 1 Axes>"
      ]
     },
     "metadata": {},
     "output_type": "display_data"
    }
   ],
   "source": [
    "fig, ax = plt.subplots()\n",
    "df.plot.scatter(x=\"x\", y=\"y\", ax=ax, color=\"k\")\n",
    "ax.scatter(df[\"x\"], cubic_prediction);"
   ]
  },
  {
   "cell_type": "markdown",
   "metadata": {},
   "source": [
    "## Outcome\n",
    "\n",
    "- The cubic model fit this dataset far better than the linear model\n",
    "- This was a contrived example (the data is a cubic polynomial, plus some noise)\n",
    "- We knew the underlying relationship was cubic (domain expertiese) and transformed the data appropriately (feature enginnering)\n"
   ]
  },
  {
   "cell_type": "markdown",
   "metadata": {},
   "source": [
    "## Neural Networks\n",
    "\n",
    "- A common benefit of Neural networks is that they will do the feature engineering automatically\n",
    "- Let's try it out on this simple dataset\n",
    "- Don't worry about specifics of what the network is doing, we'll get back to that soon"
   ]
  },
  {
   "cell_type": "code",
   "execution_count": 48,
   "metadata": {},
   "outputs": [],
   "source": [
    "from sklearn import neural_network"
   ]
  },
  {
   "cell_type": "code",
   "execution_count": 50,
   "metadata": {},
   "outputs": [
    {
     "data": {
      "text/plain": [
       "MLPRegressor(activation='relu', alpha=0.0001, batch_size='auto', beta_1=0.9,\n",
       "       beta_2=0.999, early_stopping=False, epsilon=1e-08,\n",
       "       hidden_layer_sizes=(10, 10), learning_rate='constant',\n",
       "       learning_rate_init=0.001, max_iter=1000, momentum=0.9,\n",
       "       n_iter_no_change=10, nesterovs_momentum=True, power_t=0.5,\n",
       "       random_state=None, shuffle=True, solver='adam', tol=0.0001,\n",
       "       validation_fraction=0.1, verbose=False, warm_start=False)"
      ]
     },
     "execution_count": 50,
     "metadata": {},
     "output_type": "execute_result"
    }
   ],
   "source": [
    "nn = neural_network.MLPRegressor(hidden_layer_sizes=(10, 10), max_iter=1000)\n",
    "\n",
    "# fit with only x\n",
    "nn.fit(df[[\"x\"]], df[\"y\"])"
   ]
  },
  {
   "cell_type": "markdown",
   "metadata": {
    "slideshow": {
     "slide_type": "subslide"
    }
   },
   "source": [
    "- With linear models we could look at model weights (coefficients) to understand behavior\n",
    "- There isn't an obvious/straightforward way to understand what the model is doing "
   ]
  },
  {
   "cell_type": "code",
   "execution_count": 52,
   "metadata": {},
   "outputs": [
    {
     "data": {
      "text/plain": [
       "[array([[ 3.19400032e-01, -5.04383335e-01, -1.20466125e-03,\n",
       "          6.27287424e-01,  3.86562837e-01, -1.43360552e-07,\n",
       "          5.27210019e-01,  2.75765694e-02, -5.37998049e-01,\n",
       "         -3.92446551e-01]]),\n",
       " array([[ 7.13502143e-02,  1.99434732e-01,  1.44509459e-01,\n",
       "         -1.75586936e-02, -2.51901839e-01,  3.53855691e-01,\n",
       "          2.37595464e-01, -3.34923028e-01,  1.31442230e-01,\n",
       "          1.83865243e-01],\n",
       "        [ 8.51155816e-02,  3.09976677e-01,  1.50303057e-01,\n",
       "         -1.03345012e-01, -2.95056570e-01,  2.18175004e-01,\n",
       "         -5.73284464e-02,  1.97242769e-01, -1.52370249e-02,\n",
       "         -3.07135559e-01],\n",
       "        [-3.23992683e-02, -1.75415717e-01,  3.14113562e-01,\n",
       "         -3.68471773e-01,  3.62673047e-01,  1.95367637e-01,\n",
       "         -1.32250120e-01, -3.51839817e-01,  1.68195868e-01,\n",
       "         -3.61875560e-01],\n",
       "        [-2.13410305e-01, -3.86212990e-01,  1.34823768e-01,\n",
       "         -3.08122476e-06,  4.85441881e-01, -1.19323897e-01,\n",
       "          2.14933414e-01,  3.87249052e-01, -3.44806514e-01,\n",
       "         -3.37358963e-01],\n",
       "        [-3.06474162e-01, -1.87110837e-02,  4.69276902e-01,\n",
       "          1.97303291e-01,  5.29854087e-01,  4.61085964e-01,\n",
       "         -1.55897231e-01, -1.69527671e-01, -3.85407565e-02,\n",
       "          3.68510220e-01],\n",
       "        [ 2.48278773e-03, -2.73724424e-02, -2.03408798e-02,\n",
       "          5.77886299e-02, -1.35841199e-01, -8.45080365e-02,\n",
       "          1.59949518e-01,  2.30416856e-01,  3.96562726e-01,\n",
       "         -1.92716367e-01],\n",
       "        [-5.83989863e-01,  2.80991012e-02, -1.52608069e-01,\n",
       "         -1.17226214e-02,  3.27362904e-01,  4.65312633e-01,\n",
       "         -2.78087912e-01,  3.16504744e-01, -3.65277012e-01,\n",
       "          2.20397982e-01],\n",
       "        [ 4.47293373e-01, -1.30343416e-01, -3.65771072e-02,\n",
       "         -1.37609665e-01,  1.74336352e-02,  4.62415279e-01,\n",
       "          2.72096779e-01,  5.89073092e-01,  2.53133235e-01,\n",
       "         -2.85205446e-01],\n",
       "        [-4.65798556e-01,  1.27563343e-01,  2.12269092e-01,\n",
       "         -5.08533474e-04,  3.38838507e-01,  5.28289173e-02,\n",
       "         -9.51910912e-02,  1.18187760e-01,  1.23490507e-01,\n",
       "         -4.06485709e-01],\n",
       "        [ 3.17518794e-01, -2.21583224e-01,  2.39336297e-01,\n",
       "         -3.56166917e-01,  1.86351634e-01,  3.16219367e-01,\n",
       "          3.71579014e-05, -4.34468254e-01,  3.47914088e-03,\n",
       "          4.20206442e-01]]),\n",
       " array([[-0.51345262],\n",
       "        [ 0.46404748],\n",
       "        [ 0.16596732],\n",
       "        [ 0.13486451],\n",
       "        [ 0.63207057],\n",
       "        [ 0.46328394],\n",
       "        [ 0.36648349],\n",
       "        [ 0.80630446],\n",
       "        [-0.57663035],\n",
       "        [ 0.23213125]])]"
      ]
     },
     "execution_count": 52,
     "metadata": {},
     "output_type": "execute_result"
    }
   ],
   "source": [
    "nn.coefs_"
   ]
  },
  {
   "cell_type": "markdown",
   "metadata": {},
   "source": [
    "- This is known as *interpretability* and is something we will come back to\n",
    "- For now we'll look a"
   ]
  }
 ],
 "metadata": {
  "celltoolbar": "Slideshow",
  "kernelspec": {
   "display_name": "py3sglyon",
   "language": "python",
   "name": "py3sglyon"
  },
  "language_info": {
   "codemirror_mode": {
    "name": "ipython",
    "version": 3
   },
   "file_extension": ".py",
   "mimetype": "text/x-python",
   "name": "python",
   "nbconvert_exporter": "python",
   "pygments_lexer": "ipython3",
   "version": "3.6.8"
  }
 },
 "nbformat": 4,
 "nbformat_minor": 4
}
