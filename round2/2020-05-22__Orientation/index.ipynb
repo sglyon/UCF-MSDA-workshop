{
 "cells": [
  {
   "cell_type": "markdown",
   "metadata": {
    "slideshow": {
     "slide_type": "slide"
    }
   },
   "source": [
    "# MSDA Seminar Series\n",
    "\n",
    "**Spencer Lyon**\n",
    "\n",
    "**Week 1: 2020-05-22**"
   ]
  },
  {
   "cell_type": "markdown",
   "metadata": {
    "slideshow": {
     "slide_type": "subslide"
    }
   },
   "source": [
    "## About me\n",
    "\n",
    "- Wife and 5 kids moved to FL about two years ago\n",
    "- Physics and Economics undergrad at BYU (2013)\n",
    "- Economics PhD from NYU Stern (2018)\n",
    "- Core member of [quantecon](https://quantecon.org) team for last 7 years\n",
    "    - Imlpemented Julia libraries + bootstrapped website\n",
    "    - Lead author of the [QuantEcon datascience lectures](https://datascience.quantecon.org/)\n",
    "- Authored multiple course textbooks on data analytics (with emphasis in economics) in Python and Julia\n",
    "- Run a data consulting firm Valorum Data\n",
    "    - Work in various industries: retail, manufacturing, power and energy, finance\n",
    "    - Workflow: understand client business => gather data => build model => make better decisions => client $$ $\\uparrow$\n",
    "- Appointment at UCF:\n",
    "    - Primarily to teach data analytics, machine learning, deep learning\n",
    "    - Also contribute software/data analytics advice for research projects\n",
    "- Hobbies/outside interests: \n",
    "    - Church\n",
    "    - Family\n",
    "    - Sports (basketball/volleyball/tennis)\n",
    "    - Open source development (@sglyon on github)"
   ]
  },
  {
   "cell_type": "markdown",
   "metadata": {
    "slideshow": {
     "slide_type": "subslide"
    }
   },
   "source": [
    "## About you\n",
    "\n",
    "- How far in program?\n",
    "- What topics have you studied?\n",
    "- What topics would you like to study?\n",
    "- Is anybody working while doing the MSDA? If so, where?\n",
    "- Internships?"
   ]
  },
  {
   "cell_type": "markdown",
   "metadata": {
    "slideshow": {
     "slide_type": "subslide"
    }
   },
   "source": [
    "## About this series\n",
    "\n",
    "- Hands on workshop series"
   ]
  },
  {
   "cell_type": "markdown",
   "metadata": {
    "slideshow": {
     "slide_type": "fragment"
    }
   },
   "source": [
    "- Focused on **tools** and **techniques** for a robust data science workflow\n",
    "    - Includes algorithms and models: supervised learning, unsupervised learning, and (perhaps) reinforcement learning\n",
    "    - Programming languages: Julia, Python, R\n",
    "    - Libraries: scikit-learn, tensorflow, pytorch\n",
    "    - Topics: data collecting (scraping), data cleaning, visualization, modeling, automation, deployment\n",
    "    - Tools: version control (git), unit testing, editing envrionments (e.g. text editors, jupyter)"
   ]
  },
  {
   "cell_type": "markdown",
   "metadata": {
    "slideshow": {
     "slide_type": "fragment"
    }
   },
   "source": [
    "- Will intersperse **instruction**, **examples**, and **projects/competitions**"
   ]
  },
  {
   "cell_type": "markdown",
   "metadata": {
    "slideshow": {
     "slide_type": "fragment"
    }
   },
   "source": [
    "- Goals:\n",
    "    - Work together\n",
    "    - Get hands-on experience\n",
    "    - Have fun!"
   ]
  },
  {
   "cell_type": "markdown",
   "metadata": {
    "slideshow": {
     "slide_type": "slide"
    }
   },
   "source": [
    "# Looking ahead\n",
    "\n",
    "- Content driven by **you**, prepared by **faculty/PhD students** (me), explored **together**\n",
    "- TODO (see below)"
   ]
  },
  {
   "cell_type": "markdown",
   "metadata": {
    "slideshow": {
     "slide_type": "slide"
    }
   },
   "source": [
    "# Examples\n",
    "\n",
    "- Let's see some examples!\n",
    "- Many come from around the web\n",
    "- Others are projects I have worked on or am working on"
   ]
  },
  {
   "cell_type": "markdown",
   "metadata": {
    "slideshow": {
     "slide_type": "subslide"
    }
   },
   "source": [
    "## Interactive visualization: plotly"
   ]
  },
  {
   "cell_type": "code",
   "execution_count": null,
   "metadata": {},
   "outputs": [],
   "source": [
    "import plotly_express as px\n",
    "help(px.data.gapminder)\n",
    "gapminder = px.data.gapminder()\n",
    "\n",
    "# view the data\n",
    "gapminder.head()"
   ]
  },
  {
   "cell_type": "code",
   "execution_count": null,
   "metadata": {},
   "outputs": [],
   "source": [
    "gapminder.describe()"
   ]
  },
  {
   "cell_type": "code",
   "execution_count": null,
   "metadata": {},
   "outputs": [],
   "source": [
    "gapminder2007 = gapminder.loc[gapminder[\"year\"] == 2007, :]"
   ]
  },
  {
   "cell_type": "code",
   "execution_count": null,
   "metadata": {},
   "outputs": [],
   "source": [
    "# standard scatter chart\n",
    "px.scatter(gapminder2007, x=\"gdpPercap\", y=\"lifeExp\", color=\"continent\")"
   ]
  },
  {
   "cell_type": "code",
   "execution_count": null,
   "metadata": {},
   "outputs": [],
   "source": [
    "# add size basd on population\n",
    "px.scatter(gapminder2007, x=\"gdpPercap\", y=\"lifeExp\", color=\"continent\", size=\"pop\", size_max=60)"
   ]
  },
  {
   "cell_type": "code",
   "execution_count": null,
   "metadata": {},
   "outputs": [],
   "source": [
    "# add country labels on hover\n",
    "px.scatter(\n",
    "    gapminder2007, \n",
    "    x=\"gdpPercap\", y=\"lifeExp\", color=\"continent\", \n",
    "    size=\"pop\", size_max=60, \n",
    "    hover_name=\"country\"\n",
    ")\n"
   ]
  },
  {
   "cell_type": "code",
   "execution_count": null,
   "metadata": {},
   "outputs": [],
   "source": [
    "# look at all data, not just 2007, in an animation\n",
    "px.scatter(\n",
    "    gapminder, \n",
    "    x=\"gdpPercap\", y=\"lifeExp\", color=\"continent\",\n",
    "    size=\"pop\", size_max=60, \n",
    "    hover_name=\"country\",\n",
    "    animation_frame=\"year\", animation_group=\"country\",   # animation\n",
    "    log_x=True, range_x=[100,100000], range_y=[25,90],  # set axis type and bounds\n",
    "    labels=dict(pop=\"Population\", gdpPercap=\"GDP per Capita\", lifeExp=\"Life Expectancy\")  # clean labels\n",
    ")"
   ]
  },
  {
   "cell_type": "code",
   "execution_count": null,
   "metadata": {},
   "outputs": [],
   "source": [
    "# animated map\n",
    "px.choropleth(\n",
    "    gapminder, \n",
    "    locations=\"iso_alpha\", color=\"lifeExp\", hover_name=\"country\", \n",
    "    animation_frame=\"year\",\n",
    "    color_continuous_scale=px.colors.sequential.Viridis, projection=\"natural earth\"\n",
    ")"
   ]
  },
  {
   "cell_type": "markdown",
   "metadata": {
    "slideshow": {
     "slide_type": "subslide"
    }
   },
   "source": [
    "## Julia\n",
    "\n",
    "- New language: version 1.0 in 2018,  pre-1.0 around publically since early 2010s \n",
    "- General purposes, but targeted at numerical computing\n",
    "- Advanced compiler technology (JIT) and programming language design\n",
    "    - Leads to [*very efficient*](https://julialang.org/benchmarks/) code at runtime\n",
    "    - But also can be easy and elegant to write\n",
    "- See [other notebook](./julia.ipynb)"
   ]
  },
  {
   "cell_type": "markdown",
   "metadata": {
    "slideshow": {
     "slide_type": "slide"
    }
   },
   "source": [
    "## Economics based examples:\n",
    "\n",
    "- Classification\n",
    "- Regression"
   ]
  },
  {
   "cell_type": "markdown",
   "metadata": {
    "slideshow": {
     "slide_type": "slide"
    }
   },
   "source": [
    "## Need your input now\n",
    "\n",
    "- This will be most effective if the content is driven/chosen by YOU\n",
    "- Please fill out the following survey: https://forms.gle/bK2mywp4a9NmqTbp6\n",
    "- Some ideas\n",
    "    - Julia?\n",
    "    - Version control: git and github (gitlab)\n",
    "    - Deep learning (tensorflow or pytorch)\n",
    "    - Data collection: web scraping or API integrations\n",
    "    - "
   ]
  },
  {
   "cell_type": "markdown",
   "metadata": {
    "slideshow": {
     "slide_type": "slide"
    }
   },
   "source": [
    "# Resources:\n",
    "\n",
    "- Contact info:\n",
    "    - Spencer Lyon: spencer.lyon@ucf.edu\n",
    "    - Some sort of chat platform? Do you already use one? Do you want one? Should we make one?\n",
    "- Learning Python or Julia: [QuantEcon](https://quantecon.org)\n",
    "- [Python data science handbook](https://jakevdp.github.io/PythonDataScienceHandbook/) by Jake Vanderplas\n",
    "- google! \n",
    "- Documentation for libraries and languages"
   ]
  }
 ],
 "metadata": {
  "kernelspec": {
   "display_name": "py3sglyon",
   "language": "python",
   "name": "py3sglyon"
  },
  "language_info": {
   "codemirror_mode": {
    "name": "ipython",
    "version": 3
   },
   "file_extension": ".py",
   "mimetype": "text/x-python",
   "name": "python",
   "nbconvert_exporter": "python",
   "pygments_lexer": "ipython3",
   "version": "3.6.8"
  },
  "rise": {
   "scroll": true
  }
 },
 "nbformat": 4,
 "nbformat_minor": 4
}
