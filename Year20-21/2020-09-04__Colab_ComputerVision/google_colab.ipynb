{
 "cells": [
  {
   "cell_type": "markdown",
   "metadata": {
    "execution": {
     "iopub.execute_input": "2020-09-04T15:09:31.477336Z",
     "iopub.status.busy": "2020-09-04T15:09:31.477110Z",
     "iopub.status.idle": "2020-09-04T15:09:31.480960Z",
     "shell.execute_reply": "2020-09-04T15:09:31.480310Z",
     "shell.execute_reply.started": "2020-09-04T15:09:31.477310Z"
    }
   },
   "source": [
    "# Google Colab Overview\n",
    "\n",
    "**Spencer Lyon**\n",
    "\n",
    "**2020-09-04**\n",
    "\n",
    "- - -\n",
    "\n",
    "Today we'll continue to learn \n",
    "\n",
    "This notebook was authored on my computer and then uploaded to the GitHub repository for the seminar series\n",
    "\n",
    "You can see the notebook on GitHub [here](https://github.com/sglyon/UCF-MSDA-workshop/blob/master/Year20-21/2020-09-04__Colab_ComputerVision/google_colab.ipynb)\n",
    "\n",
    "This will be a static version of the notebook\n",
    "\n",
    "> Here static means you can't interact with it"
   ]
  },
  {
   "cell_type": "code",
   "execution_count": null,
   "metadata": {},
   "outputs": [],
   "source": []
  }
 ],
 "metadata": {
  "kernelspec": {
   "display_name": "Python 3",
   "language": "python",
   "name": "python3"
  },
  "language_info": {
   "codemirror_mode": {
    "name": "ipython",
    "version": 3
   },
   "file_extension": ".py",
   "mimetype": "text/x-python",
   "name": "python",
   "nbconvert_exporter": "python",
   "pygments_lexer": "ipython3",
   "version": "3.8.5"
  },
  "widgets": {
   "application/vnd.jupyter.widget-state+json": {
    "state": {},
    "version_major": 2,
    "version_minor": 0
   }
  }
 },
 "nbformat": 4,
 "nbformat_minor": 4
}
