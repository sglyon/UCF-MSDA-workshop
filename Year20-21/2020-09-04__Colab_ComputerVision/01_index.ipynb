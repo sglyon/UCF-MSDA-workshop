{
 "cells": [
  {
   "cell_type": "markdown",
   "metadata": {},
   "source": [
    "# UCF MSDA ML Seminar Series Kickoff\n",
    "\n",
    "**Spencer Lyon**\n",
    "\n",
    "**2020-09-04**\n",
    "\n",
    "- - - \n",
    "\n",
    "Outline:\n",
    "\n",
    "- Welcome!\n",
    "- Seminar Series overview\n",
    "    - Canvas\n",
    "    - GitHub\n",
    "    - Badges/requirements\n",
    "    - Preliminary Schedule\n",
    "- More Jupyter\n",
    "    - What *is* a notebook?\n",
    "    - \n",
    "- Computer Vision in X minutes\n",
    "    - "
   ]
  }
 ],
 "metadata": {
  "kernelspec": {
   "display_name": "Python 3",
   "language": "python",
   "name": "python3"
  },
  "language_info": {
   "codemirror_mode": {
    "name": "ipython",
    "version": 3
   },
   "file_extension": ".py",
   "mimetype": "text/x-python",
   "name": "python",
   "nbconvert_exporter": "python",
   "pygments_lexer": "ipython3",
   "version": "3.8.5"
  },
  "widgets": {
   "application/vnd.jupyter.widget-state+json": {
    "state": {},
    "version_major": 2,
    "version_minor": 0
   }
  }
 },
 "nbformat": 4,
 "nbformat_minor": 4
}
