{
 "cells": [
  {
   "cell_type": "code",
   "execution_count": null,
   "metadata": {},
   "outputs": [],
   "source": [
    "import covidcountydata as ccd\n",
    "import matplotlib.pyplot as plt\n",
    "import pandas as pd\n",
    "\n",
    "%matplotlib inline"
   ]
  },
  {
   "cell_type": "markdown",
   "metadata": {},
   "source": [
    "## Covid County Data\n",
    "\n",
    "[Covid County Data](https://covidcountydata.org/) is an organization that works to collect county-level COVID-19 relevant data.\n",
    "\n",
    "The main component of their Python client library is the `Client` object which can query their database and retrieve the data that you're interested in"
   ]
  },
  {
   "cell_type": "markdown",
   "metadata": {},
   "source": [
    "### Client"
   ]
  },
  {
   "cell_type": "code",
   "execution_count": null,
   "metadata": {},
   "outputs": [],
   "source": [
    "c = ccd.Client()"
   ]
  },
  {
   "cell_type": "markdown",
   "metadata": {},
   "source": [
    "You can register for an API key by using the `register` method. The first time your emai is used, an API key will be generated and saved onto your computer."
   ]
  },
  {
   "cell_type": "code",
   "execution_count": null,
   "metadata": {},
   "outputs": [],
   "source": [
    "# change to enter your email address!!!\n",
    "c.register(\"spencer.lyon@valorumdata.com\");"
   ]
  },
  {
   "cell_type": "markdown",
   "metadata": {},
   "source": [
    "You can see the names of each dataset by looking at the `datasets` property"
   ]
  },
  {
   "cell_type": "code",
   "execution_count": null,
   "metadata": {},
   "outputs": [],
   "source": [
    "c.datasets"
   ]
  },
  {
   "cell_type": "markdown",
   "metadata": {},
   "source": [
    "### Making a request\n",
    "\n",
    "We will select all of the demographic variables and a subset of variables from the `covid_us` endpoint"
   ]
  },
  {
   "cell_type": "code",
   "execution_count": null,
   "metadata": {},
   "outputs": [],
   "source": [
    "covid_variables = [\n",
    "    \"cases_total\",\n",
    "    \"deaths_total\",\n",
    "    \"tests_total\",\n",
    "]\n",
    "\n",
    "c.demographics(\n",
    "    state=12\n",
    ").covid_us(\n",
    "    variable=covid_variables\n",
    ")"
   ]
  },
  {
   "cell_type": "markdown",
   "metadata": {},
   "source": [
    "### Fetch\n",
    "\n",
    "Once we've specified what we want our request to entail, we can make the request"
   ]
  },
  {
   "cell_type": "code",
   "execution_count": null,
   "metadata": {},
   "outputs": [],
   "source": [
    "df = c.fetch()"
   ]
  },
  {
   "cell_type": "code",
   "execution_count": null,
   "metadata": {},
   "outputs": [],
   "source": [
    "df.info()"
   ]
  },
  {
   "cell_type": "markdown",
   "metadata": {},
   "source": [
    "The three COVID variables are all cumulative counts.\n",
    "\n",
    "Let's compute the daily new values for each of these variables, as well as a 7 day moving avergae "
   ]
  },
  {
   "cell_type": "code",
   "execution_count": null,
   "metadata": {},
   "outputs": [],
   "source": [
    "# Make sure things are sorted by location and date\n",
    "df = df.sort_values([\"location\", \"dt\"])\n",
    "\n",
    "for var in [\"cases\", \"deaths\", \"tests\"]:\n",
    "    # Once they're sorted we can compute the new cases/deaths/tests\n",
    "    # by taking the one element difference\n",
    "    df[f\"{var}_new\"]= df.groupby(\"location\")[f\"{var}_total\"].diff()\n",
    "    \n",
    "    # Get moving averages of the new variables given the daily variation\n",
    "    # driven by day-of-week and other outside factors\n",
    "    df[f\"{var}_7dma\"] = df.groupby(\"location\")[f\"{var}_new\"].apply(\n",
    "        lambda x: x.rolling(window=7, min_periods=7).mean()\n",
    "    )"
   ]
  },
  {
   "cell_type": "markdown",
   "metadata": {},
   "source": [
    "Let's visualize this data for Florida as a whole"
   ]
  },
  {
   "cell_type": "code",
   "execution_count": null,
   "metadata": {},
   "outputs": [],
   "source": [
    "# get florida data since start of march\n",
    "fl_df = df.query(\"(location == 12) & (dt >= '2020-03-01')\")\n",
    "\n",
    "fig, ax = plt.subplots(2, figsize=(12, 8))\n",
    "\n",
    "fig.suptitle(\"Florida COVID-19 cases and deaths\")\n",
    "\n",
    "# Plot cases\n",
    "fl_df.plot(\n",
    "    x=\"dt\", y=\"cases_new\", kind=\"line\", linewidth=1.0, \n",
    "    color=\"k\", alpha=0.5,\n",
    "    legend=False, ax=ax[0]\n",
    ")\n",
    "fl_df.plot(\n",
    "    x=\"dt\", y=\"cases_7dma\", kind=\"line\", linewidth=2.0,\n",
    "    color=\"k\", alpha=1.0,\n",
    "    legend=False, ax=ax[0]\n",
    ")\n",
    "\n",
    "# Get labels just right\n",
    "xmin, xmax = ax[0].get_xlim()\n",
    "ax[0].annotate(\n",
    "    \"7 day moving average\",\n",
    "    xy=(xmin + 0.70*(xmax-xmin), 1500),\n",
    "    color=\"k\"\n",
    ")\n",
    "ax[0].annotate(\n",
    "    \"Raw values\",\n",
    "    xy=(xmin + 0.6*(xmax-xmin), 5000),\n",
    "    color=\"k\", alpha=0.5\n",
    ")\n",
    "ax[0].annotate(\n",
    "    \"Case data\",\n",
    "    xy=(xmin + 0.025*(xmax-xmin), 14000),\n",
    "    color=\"k\", alpha=1.0, fontsize=18,\n",
    ")\n",
    "ax[0].set_xlabel(\"\")\n",
    "\n",
    "\n",
    "# plot deaths\n",
    "fl_df.plot(\n",
    "    x=\"dt\", y=\"deaths_new\", kind=\"line\", linewidth=1.0,\n",
    "    color=\"k\", alpha=0.5,\n",
    "    legend=False, ax=ax[1]\n",
    ")\n",
    "fl_df.plot(\n",
    "    x=\"dt\", y=\"deaths_7dma\", kind=\"line\", linewidth=2.0,\n",
    "    color=\"k\", alpha=1.0,\n",
    "    legend=False, ax=ax[1]\n",
    ")\n",
    "\n",
    "# get labels just right\n",
    "xmin, xmax = ax[1].get_xlim()\n",
    "ax[1].annotate(\n",
    "    \"7 day moving average\",\n",
    "    xy=(xmin + 0.70*(xmax-xmin), 0),\n",
    "    color=\"k\"\n",
    ")\n",
    "ax[1].annotate(\n",
    "    \"Raw values\",\n",
    "    xy=(xmin + 0.6*(xmax-xmin), 65),\n",
    "    color=\"k\", alpha=0.5\n",
    ")\n",
    "ax[1].annotate(\n",
    "    \"Death data\",\n",
    "    xy=(xmin + 0.025*(xmax-xmin), 240),\n",
    "    color=\"k\", alpha=1.0, fontsize=18,\n",
    ")\n",
    "ax[1].set_xlabel(\"Date\")\n",
    "\n",
    "for _ax in ax:\n",
    "    _ax.spines[\"top\"].set_visible(False)\n",
    "    _ax.spines[\"right\"].set_visible(False)\n",
    "    "
   ]
  },
  {
   "cell_type": "code",
   "execution_count": null,
   "metadata": {},
   "outputs": [],
   "source": [
    "fig.savefig(\"example.png\")"
   ]
  },
  {
   "cell_type": "markdown",
   "metadata": {},
   "source": [
    "## Interactive Graphing with `ipywidgets`\n",
    "\n",
    "Let's take the graph we just made and make it more interactive using the `ipywidget` tools"
   ]
  },
  {
   "cell_type": "code",
   "execution_count": null,
   "metadata": {},
   "outputs": [],
   "source": [
    "from ipywidgets import (\n",
    "    interactive_output, Checkbox, Dropdown, IntSlider,\n",
    "    Box, HBox, VBox\n",
    ")"
   ]
  },
  {
   "cell_type": "code",
   "execution_count": null,
   "metadata": {},
   "outputs": [],
   "source": [
    "def get_data(state):\n",
    "\n",
    "    c = ccd.Client()\n",
    "\n",
    "    covid_variables = [\n",
    "        \"cases_total\",\n",
    "        \"deaths_total\",\n",
    "        \"tests_total\",\n",
    "    ]\n",
    "\n",
    "    c.demographics(\n",
    "        state=state, variable=[\"Total population\"]\n",
    "    ).covid_us(\n",
    "        variable=covid_variables\n",
    "    )\n",
    "    \n",
    "    df = c.fetch()\n",
    "\n",
    "    # Make sure things are sorted by location and date\n",
    "    df = df.sort_values([\"location\", \"dt\"])\n",
    "\n",
    "    # Once they're sorted we can compute the new cases/deaths/tests\n",
    "    # by taking the one element difference\n",
    "    df[\"cases_new\"] = df.groupby(\"location\")[\"cases_total\"].diff()\n",
    "    df[\"deaths_new\"] = df.groupby(\"location\")[\"deaths_total\"].diff()\n",
    "    df[\"tests_new\"] = df.groupby(\"location\")[\"tests_total\"].diff()\n",
    "\n",
    "    return df\n"
   ]
  },
  {
   "cell_type": "code",
   "execution_count": null,
   "metadata": {},
   "outputs": [],
   "source": [
    "df = get_data(12)"
   ]
  },
  {
   "cell_type": "code",
   "execution_count": null,
   "metadata": {},
   "outputs": [],
   "source": [
    "def scale_data(df, pp=100_000):\n",
    "    scale_vars = [\n",
    "        \"cases_total\",\n",
    "        \"cases_new\",\n",
    "        \"deaths_total\",\n",
    "        \"deaths_new\",\n",
    "        \"tests_total\",\n",
    "        \"tests_new\"\n",
    "    ]\n",
    "    \n",
    "    for _var in scale_vars:\n",
    "        df.loc[:, _var] = df.loc[:, _var] / (df[\"Total population\"] / pp)\n",
    "    \n",
    "    return df"
   ]
  },
  {
   "cell_type": "code",
   "execution_count": null,
   "metadata": {},
   "outputs": [],
   "source": [
    "def compute_rolling_means(df, window=7):\n",
    "    # Get moving averages of the new variables given the daily variation\n",
    "    # driven by day-of-week and other outside factors\n",
    "    df = df.assign(\n",
    "        cases_ma=df.groupby(\"location\")[\"cases_new\"].apply(\n",
    "            lambda x: x.rolling(window=window, min_periods=window).mean()\n",
    "        ),\n",
    "        deaths_ma=df.groupby(\"location\")[\"deaths_new\"].apply(\n",
    "            lambda x: x.rolling(window=window, min_periods=window).mean()\n",
    "        ),\n",
    "        tests_ma=df.groupby(\"location\")[\"tests_new\"].apply(\n",
    "            lambda x: x.rolling(window=window, min_periods=window).mean()\n",
    "        )\n",
    "    )\n",
    "\n",
    "    return df"
   ]
  },
  {
   "cell_type": "code",
   "execution_count": null,
   "metadata": {},
   "outputs": [],
   "source": [
    "def fill_axis(ax, df, var, scale, window):\n",
    "    df.plot(\n",
    "        x=\"dt\", y=f\"{var.lower()}_new\", kind=\"line\",\n",
    "        linewidth=1.0, color=\"k\", alpha=0.5,\n",
    "        legend=False, ax=ax\n",
    "    )\n",
    "    df.plot(\n",
    "        x=\"dt\", y=f\"{var.lower()}_ma\", kind=\"line\", linewidth=2.0,\n",
    "        color=\"k\", alpha=1.0,\n",
    "        legend=False, ax=ax\n",
    "    )\n",
    "\n",
    "    xmin, xmax = ax.get_xlim()\n",
    "    ymin, ymax = ax.get_ylim()\n",
    "    ax.annotate(\n",
    "        f\"{window} day moving average\",\n",
    "        xy=(xmin + 0.20*(xmax-xmin), ymin + 0.4*(ymax-ymin)),\n",
    "        color=\"k\"\n",
    "    )\n",
    "    ax.annotate(\n",
    "        \"Raw values\",\n",
    "        xy=(xmin + 0.6*(xmax-xmin), ymin + 0.7*(ymax-ymin)),\n",
    "        color=\"k\", alpha=0.5\n",
    "    )\n",
    "    ax.annotate(\n",
    "        f\"{var} data\" + (\"\" if not scale else \" (per 100,000 population)\"),\n",
    "        xy=(xmin + 0.025*(xmax-xmin), 0.9*ymax),\n",
    "        color=\"k\", alpha=1.0, fontsize=18,\n",
    "    )\n",
    "\n",
    "    return ax"
   ]
  },
  {
   "cell_type": "code",
   "execution_count": null,
   "metadata": {},
   "outputs": [],
   "source": [
    "def generate_graph(df, fips, var1, var2, scaled=False, window=7):\n",
    "\n",
    "    # Restrict to the one location\n",
    "    df = df.query(f\"(location == {fips}) & (dt >='2020-03-01')\")\n",
    "\n",
    "    # Do we want to scale the values as instances per 100,000 people\n",
    "    if scaled:\n",
    "        df = scale_data(df, 100_000)\n",
    "    \n",
    "    # Compute the rolling means\n",
    "    df = compute_rolling_means(df, window)\n",
    "\n",
    "    # Create the figure\n",
    "    fig, ax = plt.subplots(2, figsize=(12, 8))\n",
    "    fig.suptitle(f\"Florida COVID-19 {var1} and {var2}\")\n",
    "\n",
    "    fill_axis(ax[0], df, var1, scaled, window)\n",
    "    fill_axis(ax[1], df, var2, scaled, window)\n",
    "    ax[0].set_xlabel(\"\")\n",
    "    ax[1].set_xlabel(\"Date\")\n",
    "\n",
    "    for _ax in ax:\n",
    "        _ax.spines[\"top\"].set_visible(False)\n",
    "        _ax.spines[\"right\"].set_visible(False)"
   ]
  },
  {
   "cell_type": "code",
   "execution_count": null,
   "metadata": {},
   "outputs": [],
   "source": [
    "# Create the interactive buttons\n",
    "scaled = Checkbox(\n",
    "    value=False,\n",
    "    description='Report population scaled values',\n",
    ")\n",
    "\n",
    "fips = Dropdown(\n",
    "    options=df[\"location\"].unique(),\n",
    "    value=df[\"location\"].min()\n",
    ")\n",
    "var1 = Dropdown(\n",
    "    options=['Cases', 'Deaths', 'Tests'],\n",
    "    value='Cases'\n",
    ")\n",
    "\n",
    "var2 = Dropdown(\n",
    "    options=['Cases', 'Deaths', 'Tests'],\n",
    "    value='Deaths'\n",
    ")\n",
    "\n",
    "\n",
    "window = IntSlider(\n",
    "    value=7,\n",
    "    min=3,\n",
    "    max=14,\n",
    "    step=1,\n",
    "    description='MA window:',\n",
    ")\n",
    "\n",
    "ui= VBox(\n",
    "    [\n",
    "        HBox([fips, var1, var2]),\n",
    "        HBox([scaled, window]),\n",
    "    ]\n",
    ")\n"
   ]
  },
  {
   "cell_type": "code",
   "execution_count": null,
   "metadata": {},
   "outputs": [],
   "source": [
    "def f(fips, var1, var2, scaled, window):\n",
    "    display(generate_graph(df, fips, var1, var2, scaled, window))\n",
    "\n",
    "out = interactive_output(\n",
    "    f, {\n",
    "        \"fips\": fips,\n",
    "        \"var1\": var1,\n",
    "        \"var2\": var2,\n",
    "        \"scaled\": scaled,\n",
    "        \"window\": window\n",
    "    }\n",
    ")\n",
    "\n",
    "display(ui, out);"
   ]
  },
  {
   "cell_type": "code",
   "execution_count": null,
   "metadata": {},
   "outputs": [],
   "source": []
  }
 ],
 "metadata": {
  "@webio": {
   "lastCommId": null,
   "lastKernelId": null
  },
  "kernelspec": {
   "display_name": "Python 3",
   "language": "python",
   "name": "python3"
  },
  "language_info": {
   "codemirror_mode": {
    "name": "ipython",
    "version": 3
   },
   "file_extension": ".py",
   "mimetype": "text/x-python",
   "name": "python",
   "nbconvert_exporter": "python",
   "pygments_lexer": "ipython3",
   "version": "3.8.3"
  }
 },
 "nbformat": 4,
 "nbformat_minor": 4
}
