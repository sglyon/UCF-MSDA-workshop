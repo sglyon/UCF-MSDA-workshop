{
 "cells": [
  {
   "cell_type": "markdown",
   "metadata": {
    "slideshow": {
     "slide_type": "slide"
    }
   },
   "source": [
    "## Simple example -- pairwise distance\n",
    "\n",
    "Suppose we have `N` vectors in $\\mathbb{R}^3$, stored as a $3 \\times N$ matrix and labeled $x_1 \\in \\mathbb{R}^3$, $x_2 \\in \\mathbb{R}^3$, ..., $x_N \\in \\mathbb{R}^3$\n",
    "\n",
    "Suppose we also have a metric function $\\rho: \\mathbb{R}^3 \\times \\mathbb{R}^3 \\rightarrow \\mathbb{R}^+$  that we would like to apply to each pair of vectors to compute an $N \\times N$ matrix $D$, where the $i,j$ element is give by $D_{i,j} = \\rho(x_i, x_j)$\n",
    "\n",
    "Let's start with the Euclidean (L2) norm $\\rho(x, y) = \\sqrt{\\sum_{i=1}^3(x_i - y_i)^2}$\n",
    "\n",
    "Here's how we might compute this in Julia"
   ]
  },
  {
   "cell_type": "code",
   "execution_count": 1,
   "metadata": {
    "slideshow": {
     "slide_type": "subslide"
    }
   },
   "outputs": [
    {
     "data": {
      "text/plain": [
       "3×1500 Array{Float64,2}:\n",
       "  0.715844   1.45206    0.823386  …  -0.969235  -0.118297  -0.877812\n",
       " -1.21844    0.147635   1.08595       0.178751  -0.133487   1.32263 \n",
       " -0.533013  -1.40513   -1.07828      -3.1798     0.363955   0.205532"
      ]
     },
     "execution_count": 1,
     "metadata": {},
     "output_type": "execute_result"
    }
   ],
   "source": [
    "N = 1500\n",
    "X = randn(3, N)  # create the matrix of random numbers drawn from N(0, 1)"
   ]
  },
  {
   "cell_type": "code",
   "execution_count": 14,
   "metadata": {
    "slideshow": {
     "slide_type": "subslide"
    }
   },
   "outputs": [
    {
     "name": "stdout",
     "output_type": "stream",
     "text": [
      "  0.745252 seconds (6.80 M allocations: 740.609 MiB, 42.90% gc time)\n"
     ]
    },
    {
     "data": {
      "text/plain": [
       "1500×1500 Array{Float64,2}:\n",
       " 0.0       1.7801   2.37047  3.84236  2.47581   …  3.43469  1.6363    3.08905\n",
       " 1.7801    0.0      1.1758   4.5763   1.53997      3.00218  2.38216   3.06645\n",
       " 2.37047   1.1758   0.0      3.95544  1.12557      2.90739  2.11041   2.14436\n",
       " 3.84236   4.5763   3.95544  0.0      3.80534      4.1988   2.55115   2.0993 \n",
       " 2.47581   1.53997  1.12557  3.80534  0.0          1.78233  2.44776   2.40231\n",
       " 1.25205   1.61506  1.68716  3.16938  1.41881   …  2.38535  1.43661   2.26515\n",
       " 0.770282  1.7654   2.04729  3.26891  1.93211      2.8165   1.3412    2.54403\n",
       " 1.94038   2.92658  2.66198  2.24058  2.93576      3.9939   0.564735  1.81632\n",
       " 3.64545   4.36788  3.91051  3.0447   4.54292      5.83129  2.29928   2.66002\n",
       " 1.54604   2.05497  1.78117  2.55944  1.76181      2.82759  0.831962  1.6466 \n",
       " 2.16541   3.60794  3.60264  2.73328  3.84439   …  4.73151  1.53389   2.87756\n",
       " 1.06759   1.08171  1.31617  3.5942   1.55625      2.91847  1.36562   2.3485 \n",
       " 2.56983   3.14105  2.97576  3.75125  3.77169      5.25659  1.73784   2.71448\n",
       " ⋮                                              ⋱                            \n",
       " 1.77475   3.3623   3.50171  2.96259  3.6594       4.46334  1.55937   3.04639\n",
       " 3.07684   4.30349  4.05869  2.38454  4.36821      5.29084  1.98501   2.81837\n",
       " 0.804976  2.45128  2.78168  3.24351  2.77976   …  3.53941  1.40646   2.91391\n",
       " 1.54048   1.78855  2.89996  5.30112  2.93082      3.70586  3.08415   4.34249\n",
       " 1.53937   2.69533  2.58794  2.34601  2.65287      3.53079  0.720294  2.05642\n",
       " 2.00974   3.24794  3.08595  2.05637  3.15971      3.94531  1.07093   2.20342\n",
       " 0.875279  2.29451  2.48096  3.00102  2.54325      3.43897  1.01738   2.52404\n",
       " 3.60219   4.01595  3.22323  1.17766  3.35594   …  4.20979  2.04858   1.13513\n",
       " 2.86947   2.05117  1.20884  3.42868  0.710021     2.05445  2.40619   1.899  \n",
       " 3.43469   3.00218  2.90739  4.1988   1.78233      0.0      3.65784   3.57453\n",
       " 1.6363    2.38216  2.11041  2.55115  2.44776      3.65784  0.0       1.64992\n",
       " 3.08905   3.06645  2.14436  2.0993   2.40231      3.57453  1.64992   0.0    "
      ]
     },
     "execution_count": 14,
     "metadata": {},
     "output_type": "execute_result"
    }
   ],
   "source": [
    "function computeD(ρ, X)\n",
    "    m, N = size(X)\n",
    "    out = zeros(N, N)\n",
    "    for j in 1:N, i in 1:N\n",
    "        # [index...] notation. Colon means \"everything\" in dimension\n",
    "        out[i, j] = ρ(X[:, i], X[:, j])\n",
    "    end\n",
    "    out # implicit return of last expression in function\n",
    "end\n",
    "\n",
    "# short-hand function\n",
    "# the `.+` and `.^` apply \"elementwise\" to arguments\n",
    "# Can work with other functions `f` like `f.(arg1, arg2, arg3, ...)`\n",
    "ρ_l2(x, y) = sqrt(sum((x.-y).^2))\n",
    "\n",
    "@time D = computeD(ρ_l2, X)"
   ]
  },
  {
   "cell_type": "markdown",
   "metadata": {
    "slideshow": {
     "slide_type": "subslide"
    }
   },
   "source": [
    "Let's test our work  by showing the diagonal is all zeros:\n"
   ]
  },
  {
   "cell_type": "code",
   "execution_count": 4,
   "metadata": {},
   "outputs": [
    {
     "data": {
      "text/plain": [
       "0.0"
      ]
     },
     "execution_count": 4,
     "metadata": {},
     "output_type": "execute_result"
    }
   ],
   "source": [
    "using LinearAlgebra: diag\n",
    "\n",
    "# notice  the `.` notation for `abs`\n",
    "maximum(abs.(diag(D)))"
   ]
  },
  {
   "cell_type": "markdown",
   "metadata": {
    "slideshow": {
     "slide_type": "slide"
    }
   },
   "source": [
    "## Python implementation\n",
    "\n",
    "So that we can gauge performance"
   ]
  },
  {
   "cell_type": "code",
   "execution_count": 6,
   "metadata": {},
   "outputs": [],
   "source": [
    "using Pkg"
   ]
  },
  {
   "cell_type": "code",
   "execution_count": 7,
   "metadata": {},
   "outputs": [
    {
     "name": "stdout",
     "output_type": "stream",
     "text": [
      "\u001b[32m\u001b[1m  Updating\u001b[22m\u001b[39m registry at `~/.julia/registries/General`\n",
      "\u001b[32m\u001b[1m  Updating\u001b[22m\u001b[39m git-repo `https://github.com/JuliaRegistries/General.git`\n",
      "\u001b[?25l\u001b[2K\u001b[?25h"
     ]
    },
    {
     "name": "stderr",
     "output_type": "stream",
     "text": [
      "┌ Warning: Some registries failed to update:\n",
      "│     — /home/sglyon/.julia/registries/General — failed to fetch from repo\n",
      "└ @ Pkg.Types /build/julia/src/julia-1.3.1/usr/share/julia/stdlib/v1.3/Pkg/src/Types.jl:1199\n"
     ]
    },
    {
     "name": "stdout",
     "output_type": "stream",
     "text": [
      "\u001b[32m\u001b[1m Resolving\u001b[22m\u001b[39m package versions...\n",
      "\u001b[32m\u001b[1m Installed\u001b[22m\u001b[39m PyCall ─ v1.91.4\n",
      "\u001b[32m\u001b[1m  Updating\u001b[22m\u001b[39m `~/.julia/environments/v1.3/Project.toml`\n",
      " \u001b[90m [438e738f]\u001b[39m\u001b[92m + PyCall v1.91.4\u001b[39m\n",
      "\u001b[32m\u001b[1m  Updating\u001b[22m\u001b[39m `~/.julia/environments/v1.3/Manifest.toml`\n",
      " \u001b[90m [438e738f]\u001b[39m\u001b[92m + PyCall v1.91.4\u001b[39m\n",
      "\u001b[32m\u001b[1m  Building\u001b[22m\u001b[39m PyCall → `~/.julia/packages/PyCall/zqDXB/deps/build.log`\n"
     ]
    }
   ],
   "source": [
    "pkg\"add PyCall\""
   ]
  },
  {
   "cell_type": "code",
   "execution_count": 9,
   "metadata": {
    "slideshow": {
     "slide_type": "subslide"
    }
   },
   "outputs": [],
   "source": [
    "using PyCall"
   ]
  },
  {
   "cell_type": "code",
   "execution_count": 10,
   "metadata": {},
   "outputs": [
    {
     "data": {
      "text/plain": [
       "PyObject <function computeD at 0x7f1fe569b598>"
      ]
     },
     "execution_count": 10,
     "metadata": {},
     "output_type": "execute_result"
    }
   ],
   "source": [
    "py\"\"\"\n",
    "import numpy as np\n",
    "\n",
    "def ρ_l2(x, y):\n",
    "    return np.sqrt(np.sum((x - y) ** 2))\n",
    "\n",
    "\n",
    "def computeD(X, ρ=ρ_l2):\n",
    "    m, N = X.shape\n",
    "    out = np.zeros((N, N))\n",
    "    for i in range(N):\n",
    "        for j in range(N):\n",
    "            out[i, j] = ρ(X[:, i], X[:, j])\n",
    "    return out\n",
    "\"\"\"\n",
    "\n",
    "py_computeD = py\"computeD\""
   ]
  },
  {
   "cell_type": "code",
   "execution_count": 11,
   "metadata": {
    "slideshow": {
     "slide_type": "subslide"
    }
   },
   "outputs": [
    {
     "name": "stdout",
     "output_type": "stream",
     "text": [
      " 22.350265 seconds (1.57 M allocations: 96.763 MiB, 0.21% gc time)\n"
     ]
    },
    {
     "data": {
      "text/plain": [
       "1500×1500 Array{Float64,2}:\n",
       " 0.0       1.7801   2.37047  3.84236  2.47581   …  3.43469  1.6363    3.08905\n",
       " 1.7801    0.0      1.1758   4.5763   1.53997      3.00218  2.38216   3.06645\n",
       " 2.37047   1.1758   0.0      3.95544  1.12557      2.90739  2.11041   2.14436\n",
       " 3.84236   4.5763   3.95544  0.0      3.80534      4.1988   2.55115   2.0993 \n",
       " 2.47581   1.53997  1.12557  3.80534  0.0          1.78233  2.44776   2.40231\n",
       " 1.25205   1.61506  1.68716  3.16938  1.41881   …  2.38535  1.43661   2.26515\n",
       " 0.770282  1.7654   2.04729  3.26891  1.93211      2.8165   1.3412    2.54403\n",
       " 1.94038   2.92658  2.66198  2.24058  2.93576      3.9939   0.564735  1.81632\n",
       " 3.64545   4.36788  3.91051  3.0447   4.54292      5.83129  2.29928   2.66002\n",
       " 1.54604   2.05497  1.78117  2.55944  1.76181      2.82759  0.831962  1.6466 \n",
       " 2.16541   3.60794  3.60264  2.73328  3.84439   …  4.73151  1.53389   2.87756\n",
       " 1.06759   1.08171  1.31617  3.5942   1.55625      2.91847  1.36562   2.3485 \n",
       " 2.56983   3.14105  2.97576  3.75125  3.77169      5.25659  1.73784   2.71448\n",
       " ⋮                                              ⋱                            \n",
       " 1.77475   3.3623   3.50171  2.96259  3.6594       4.46334  1.55937   3.04639\n",
       " 3.07684   4.30349  4.05869  2.38454  4.36821      5.29084  1.98501   2.81837\n",
       " 0.804976  2.45128  2.78168  3.24351  2.77976   …  3.53941  1.40646   2.91391\n",
       " 1.54048   1.78855  2.89996  5.30112  2.93082      3.70586  3.08415   4.34249\n",
       " 1.53937   2.69533  2.58794  2.34601  2.65287      3.53079  0.720294  2.05642\n",
       " 2.00974   3.24794  3.08595  2.05637  3.15971      3.94531  1.07093   2.20342\n",
       " 0.875279  2.29451  2.48096  3.00102  2.54325      3.43897  1.01738   2.52404\n",
       " 3.60219   4.01595  3.22323  1.17766  3.35594   …  4.20979  2.04858   1.13513\n",
       " 2.86947   2.05117  1.20884  3.42868  0.710021     2.05445  2.40619   1.899  \n",
       " 3.43469   3.00218  2.90739  4.1988   1.78233      0.0      3.65784   3.57453\n",
       " 1.6363    2.38216  2.11041  2.55115  2.44776      3.65784  0.0       1.64992\n",
       " 3.08905   3.06645  2.14436  2.0993   2.40231      3.57453  1.64992   0.0    "
      ]
     },
     "execution_count": 11,
     "metadata": {},
     "output_type": "execute_result"
    }
   ],
   "source": [
    "@time py_D = py_computeD(X)"
   ]
  },
  {
   "cell_type": "code",
   "execution_count": 13,
   "metadata": {
    "slideshow": {
     "slide_type": "subslide"
    }
   },
   "outputs": [
    {
     "data": {
      "text/plain": [
       "0.0"
      ]
     },
     "execution_count": 13,
     "metadata": {},
     "output_type": "execute_result"
    }
   ],
   "source": [
    "maximum(abs.(D .- py_D))"
   ]
  },
  {
   "cell_type": "markdown",
   "metadata": {
    "slideshow": {
     "slide_type": "subslide"
    }
   },
   "source": [
    "On one run on my machine the Julia version took 0.745252 seconds whereas the Python one took 22.35 seconds. \n",
    "\n",
    "This was a pretty much \"free\" speedup as the code was almost the same for both languages. It is not uncommon to se factors of 100 or 1000 when moving hand-written Python code to Julia\n",
    "\n",
    "Note that the code in each example was not meant to reach optimal performance, both implementations could be improved"
   ]
  },
  {
   "cell_type": "markdown",
   "metadata": {
    "slideshow": {
     "slide_type": "slide"
    }
   },
   "source": [
    "## Faster Julia version\n",
    "\n"
   ]
  },
  {
   "cell_type": "code",
   "execution_count": 15,
   "metadata": {
    "slideshow": {
     "slide_type": "subslide"
    }
   },
   "outputs": [
    {
     "data": {
      "text/plain": [
       "computeD_l2 (generic function with 1 method)"
      ]
     },
     "execution_count": 15,
     "metadata": {},
     "output_type": "execute_result"
    }
   ],
   "source": [
    "function computeD_l2(X)\n",
    "    m, N = size(X)\n",
    "    out = zeros(N, N)\n",
    "    @inbounds for j in 1:N, i in 1:N\n",
    "        val = 0.0\n",
    "        @simd for d in 1:m\n",
    "            val += (X[d, i] - X[d, j])^2\n",
    "        end\n",
    "        out[i, j] = sqrt(val)\n",
    "    end\n",
    "    out # implicit return of last expression in function\n",
    "end"
   ]
  },
  {
   "cell_type": "code",
   "execution_count": 37,
   "metadata": {
    "slideshow": {
     "slide_type": "fragment"
    }
   },
   "outputs": [
    {
     "name": "stdout",
     "output_type": "stream",
     "text": [
      "  0.017431 seconds (6 allocations: 17.166 MiB)\n"
     ]
    }
   ],
   "source": [
    "@time D2 = computeD_l2(X);"
   ]
  },
  {
   "cell_type": "code",
   "execution_count": 38,
   "metadata": {},
   "outputs": [
    {
     "data": {
      "text/plain": [
       "8.881784197001252e-16"
      ]
     },
     "execution_count": 38,
     "metadata": {},
     "output_type": "execute_result"
    }
   ],
   "source": [
    "maximum(abs.(D .- D2))"
   ]
  },
  {
   "cell_type": "markdown",
   "metadata": {
    "slideshow": {
     "slide_type": "subslide"
    }
   },
   "source": [
    "On my machine this version of code ran the computation in 0.017620 seconds -- that's a 40x speedup over the original Julia and a 1268x speedup over the Python\n",
    "\n",
    "With Julia it is possible to write \"lower level\" code and get drastically better performance\n",
    "\n",
    "Sometimes you might hear that \"in Julia you can get C-like performance if you write C-like code\"\n",
    "\n",
    "This is typically not possible in other common data analytics languages like Python, Matlab, or R"
   ]
  },
  {
   "cell_type": "code",
   "execution_count": null,
   "metadata": {},
   "outputs": [],
   "source": []
  }
 ],
 "metadata": {
  "@webio": {
   "lastCommId": null,
   "lastKernelId": null
  },
  "celltoolbar": "Slideshow",
  "kernelspec": {
   "display_name": "Julia 1.1.0",
   "language": "julia",
   "name": "julia-1.1"
  },
  "language_info": {
   "file_extension": ".jl",
   "mimetype": "application/julia",
   "name": "julia",
   "version": "1.3.1"
  }
 },
 "nbformat": 4,
 "nbformat_minor": 4
}
