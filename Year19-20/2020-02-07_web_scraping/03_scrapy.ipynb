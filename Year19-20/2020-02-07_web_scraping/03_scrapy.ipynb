{
 "cells": [
  {
   "cell_type": "markdown",
   "metadata": {
    "slideshow": {
     "slide_type": "slide"
    }
   },
   "source": [
    "## Scrapy\n",
    "\n",
    "[Scrapy](https://scrapy.org/) is a python library for crawling and scraping websites\n",
    "\n",
    "We'll dive in to scrapy by following some of the examples from the projects (excellent) official documentation\n",
    "\n",
    "Scrapy is easier to run/learn using python files and the command line\n",
    "\n",
    "So, we'll use this notebook to help us stay on track/navigate, but will use the command line to run the code"
   ]
  },
  {
   "cell_type": "markdown",
   "metadata": {
    "slideshow": {
     "slide_type": "slide"
    }
   },
   "source": [
    "## Example -- quotes.toscrape.com\n",
    "\n",
    "\n",
    "Check out the source of [quote.toscrape.com/tag/humor](http://quote.toscrape.com/tag/humor) \n",
    "\n",
    "Notice the structure:\n",
    "\n",
    "- Each quote is in a `div` with class `quote`.\n",
    "- Within each quote div the actual quote is the text in `span` element with class `text`\n",
    "- Within each quote div the author is the text in a span element with class `small`"
   ]
  },
  {
   "cell_type": "markdown",
   "metadata": {
    "slideshow": {
     "slide_type": "subslide"
    }
   },
   "source": [
    "We can scrape this with the code in [01_quotes.py](01_quotes.py)\n",
    "\n",
    "Let's take a look..."
   ]
  },
  {
   "cell_type": "markdown",
   "metadata": {
    "slideshow": {
     "slide_type": "fragment"
    }
   },
   "source": [
    "To run the scraper execute `scrapy runspider 01_quotes.py -o quotes.json` from the command line"
   ]
  },
  {
   "cell_type": "markdown",
   "metadata": {
    "slideshow": {
     "slide_type": "slide"
    }
   },
   "source": [
    "## Example 2 -- multiple parse methods\n",
    "\n",
    "Let's do another example with the quotes website\n",
    "\n",
    "First, check out [http://quotes.toscrape.com/](http://quotes.toscrape.com/)\n",
    "\n",
    "Notice that each author has an about page (e.g. [http://quotes.toscrape.com/author/Albert-Einstein](http://quotes.toscrape.com/author/Albert-Einstein))\n",
    "\n",
    "Let's gather the name, birthday, and bio for each author"
   ]
  },
  {
   "cell_type": "markdown",
   "metadata": {
    "slideshow": {
     "slide_type": "subslide"
    }
   },
   "source": [
    "The code in [02_quote_authors.py](02_quote_authors.py) does this\n",
    "\n",
    "Run the spider with\n",
    "\n",
    "```bash\n",
    "scrapy runspider 02_quote_authors.py -o quote_authors.json\n",
    "```"
   ]
  },
  {
   "cell_type": "markdown",
   "metadata": {
    "slideshow": {
     "slide_type": "subslide"
    }
   },
   "source": [
    "**Exercise**: modify 02_quote_authors.py to also collect the location of the author's birth"
   ]
  },
  {
   "cell_type": "code",
   "execution_count": null,
   "metadata": {},
   "outputs": [],
   "source": []
  }
 ],
 "metadata": {
  "kernelspec": {
   "display_name": "Python (gpu2)",
   "language": "python",
   "name": "myenv"
  },
  "language_info": {
   "codemirror_mode": {
    "name": "ipython",
    "version": 3
   },
   "file_extension": ".py",
   "mimetype": "text/x-python",
   "name": "python",
   "nbconvert_exporter": "python",
   "pygments_lexer": "ipython3",
   "version": "3.7.3"
  }
 },
 "nbformat": 4,
 "nbformat_minor": 4
}
