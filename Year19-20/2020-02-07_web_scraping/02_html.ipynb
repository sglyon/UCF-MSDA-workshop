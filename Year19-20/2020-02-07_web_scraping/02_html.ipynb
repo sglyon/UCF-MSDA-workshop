{
 "cells": [
  {
   "cell_type": "markdown",
   "metadata": {
    "slideshow": {
     "slide_type": "subslide"
    }
   },
   "source": [
    "## HTML Basics\n",
    "\n",
    "In order to scrape the web, we need to understand the basics of how it is structured\n",
    "\n",
    "Web-browsers consume a structured markup language called HTML\n",
    "\n",
    "HTML is organized like a graph or tree composed of nested elements\n",
    "\n",
    "Let's take a look..."
   ]
  },
  {
   "cell_type": "markdown",
   "metadata": {
    "slideshow": {
     "slide_type": "slide"
    }
   },
   "source": [
    "### Tags\n",
    "\n",
    "The basic outline for nearly all websites is:\n",
    "\n",
    "\n",
    "```html\n",
    "<html>\n",
    "    <head>\n",
    "        load resources here\n",
    "    </head>\n",
    "    <body>\n",
    "        Website content here\n",
    "    </body>\n",
    "</html>\n",
    "```"
   ]
  },
  {
   "cell_type": "markdown",
   "metadata": {
    "slideshow": {
     "slide_type": "fragment"
    }
   },
   "source": [
    "The terms in the angle brackets (e.g. `<html>`) are called **tags**\n",
    "\n",
    "They always come in pairs\n",
    "\n",
    "The *opening* tag is `<tag_name>` and the *closing* one is `</tag_name>`\n",
    "\n"
   ]
  },
  {
   "cell_type": "markdown",
   "metadata": {
    "slideshow": {
     "slide_type": "subslide"
    }
   },
   "source": [
    "### Elements\n",
    "\n",
    "Tags can have content inside them\n",
    "\n",
    "For example, to create a large heading (e.g. title) we would write \n",
    "\n",
    "```html\n",
    "<h1>My Title!</h1>\n",
    "```\n",
    "\n",
    "The tag (`h1`) and associated content all together known as **elements**"
   ]
  },
  {
   "cell_type": "markdown",
   "metadata": {
    "slideshow": {
     "slide_type": "subslide"
    }
   },
   "source": [
    "### Nesting elements\n",
    "\n",
    "Elements can be nested inside one another"
   ]
  },
  {
   "cell_type": "markdown",
   "metadata": {
    "slideshow": {
     "slide_type": "fragment"
    }
   },
   "source": [
    "To created an *ordered list* (with numbers) I would do\n",
    "\n",
    "```html\n",
    "<ol>\n",
    "    <li>First list item</li>\n",
    "    <li>Second list item</li>\n",
    "</ol>\n",
    "```"
   ]
  },
  {
   "cell_type": "markdown",
   "metadata": {
    "slideshow": {
     "slide_type": "fragment"
    }
   },
   "source": [
    "The `<ol>` starts an ordered list, the `<li>` elements are *list items*\n",
    "\n",
    "It renders like this:\n",
    "\n",
    "<ol>\n",
    "    <li>First list item</li>\n",
    "    <li>Second list item</li>\n",
    "</ol>"
   ]
  },
  {
   "cell_type": "markdown",
   "metadata": {
    "slideshow": {
     "slide_type": "subslide"
    }
   },
   "source": [
    "### Attributes\n",
    "\n",
    "The last main feature of the HTML syntax is **attributes**\n",
    "\n",
    "Attributes are assigned by specifying `key=value` pairs inside the opening tag\n",
    "\n",
    "They instruct the browser for how the tag is supposed to behave"
   ]
  },
  {
   "cell_type": "markdown",
   "metadata": {
    "slideshow": {
     "slide_type": "subslide"
    }
   },
   "source": [
    "For example, we can display an image located at a particular url via\n",
    "\n",
    "```html\n",
    "<img src=\"https://media.giphy.com/media/tXTqLBYNf0N7W/giphy.gif\"/>\n",
    "```\n",
    "\n",
    "> (note that `<tag />` is shorthand for open and close with no content)"
   ]
  },
  {
   "cell_type": "markdown",
   "metadata": {},
   "source": [
    "<img src=\"https://media.giphy.com/media/tXTqLBYNf0N7W/giphy.gif\"/>"
   ]
  },
  {
   "cell_type": "markdown",
   "metadata": {
    "slideshow": {
     "slide_type": "subslide"
    }
   },
   "source": [
    "### Important attributes\n",
    "\n",
    "Each tag has different attributes to which the browser responds \n",
    "\n",
    "Two of the most important attributes for web scraping are\n",
    "\n",
    "| attribute | purpose | shorthand (you'll see soon ) |\n",
    "| --------- | ------- | ---------------------------- |\n",
    "| `class`   | group elements to apply behavior/style | `.` |\n",
    "| `id` | uniquely identifies a single element in an html document | `#` |\n",
    "\n",
    "These attributes can be applied to a tag of any type"
   ]
  },
  {
   "cell_type": "markdown",
   "metadata": {
    "slideshow": {
     "slide_type": "subslide"
    }
   },
   "source": [
    "### Example: UCF.edu\n",
    "\n",
    "Let's use our web browser to look at the source of the ucf.edu website\n",
    "\n",
    "Pay attention to:\n",
    "\n",
    "- Overall structure\n",
    "- Tag names\n",
    "- Element structure/nesting/ordering\n",
    "- Attributes -- especially the `class` and `id` attributes"
   ]
  }
 ],
 "metadata": {
  "kernelspec": {
   "display_name": "Python (gpu2)",
   "language": "python",
   "name": "myenv"
  },
  "language_info": {
   "codemirror_mode": {
    "name": "ipython",
    "version": 3
   },
   "file_extension": ".py",
   "mimetype": "text/x-python",
   "name": "python",
   "nbconvert_exporter": "python",
   "pygments_lexer": "ipython3",
   "version": "3.7.3"
  }
 },
 "nbformat": 4,
 "nbformat_minor": 4
}
