{
 "cells": [
  {
   "cell_type": "markdown",
   "metadata": {
    "slideshow": {
     "slide_type": "slide"
    }
   },
   "source": [
    "## Scraping IMDb\n",
    "\n",
    "The quotes website was very scraping friendly\n",
    "\n",
    "- Very structured\n",
    "- Not much \"noise\" to mentally sort through\n",
    "- Consistent in css classes\n",
    "\n",
    "Let's do something a bit more ambitious..."
   ]
  },
  {
   "cell_type": "markdown",
   "metadata": {
    "slideshow": {
     "slide_type": "subslide"
    }
   },
   "source": [
    "In an upcoming seminar we will learn how to use NLP to predict a user's overall movie rating based on the text in their review of the movie\n",
    "\n",
    "Today, we will start building that dataset by scraping movie and reviews from [IMDb.com](IMDb.com)"
   ]
  },
  {
   "cell_type": "markdown",
   "metadata": {},
   "source": [
    "## Getting started\n",
    "\n",
    "Let's start by scraping user reviews for the top rated movies\n",
    "\n",
    "First let's go here: [https://www.imdb.com/chart/top/?ref_=nv_mv_250](https://www.imdb.com/chart/top/?ref_=nv_mv_250)\n",
    "\n",
    "**Quiz**:\n",
    "\n",
    "- How do we view source of website?\n",
    "- What structure is there for the list of movies? \n",
    "- What tags do they have in common?\n",
    "- What about classes?"
   ]
  },
  {
   "cell_type": "markdown",
   "metadata": {},
   "source": [
    "### Get list of movies\n",
    "\n",
    "**WANT**: For each of the top 250 movies collect\n",
    "\n",
    "- rank\n",
    "- name\n",
    "- year\n",
    "- IMDb rating\n",
    "- a link to the movie's detail page\n",
    "\n",
    "I've written the structure of our spider, but we'll fill it in together based on what we learned by looking at the source...\n",
    "\n",
    "\n",
    "Let's open up [03_top_movies.py](03_top_movies.py) and get to work"
   ]
  },
  {
   "cell_type": "markdown",
   "metadata": {},
   "source": [
    "### Reviews\n",
    "\n",
    "Let's take a look at a page of reviews and see what we are up against \n",
    "\n",
    "Here [https://www.imdb.com/title/tt0111161/reviews](https://www.imdb.com/title/tt0111161/reviews?ref_=tt_ql_3)\n",
    "\n",
    "Quiz:\n",
    "\n",
    "- What structure is there about each review? \n",
    "- What classes are applied to each review?\n",
    "- How are reviews laid out relative to eachother and other content?"
   ]
  },
  {
   "cell_type": "markdown",
   "metadata": {},
   "source": [
    "### Scraping reviews\n",
    "\n",
    "**WANT**: For the first page of reviews for each of the top 250 movies, obtain the following:\n",
    "\n",
    "- Rating\n",
    "- Title of review\n",
    "- User\n",
    "- Date\n",
    "- Review text\n",
    "\n",
    "\n",
    "Again, I've written some boilerplate to get us started, let's work together to fill it in\n",
    "\n",
    "Go to [04_review_page.py](04_review_page.py)"
   ]
  }
 ],
 "metadata": {
  "kernelspec": {
   "display_name": "Python (gpu2)",
   "language": "python",
   "name": "myenv"
  },
  "language_info": {
   "codemirror_mode": {
    "name": "ipython",
    "version": 3
   },
   "file_extension": ".py",
   "mimetype": "text/x-python",
   "name": "python",
   "nbconvert_exporter": "python",
   "pygments_lexer": "ipython3",
   "version": "3.7.3"
  }
 },
 "nbformat": 4,
 "nbformat_minor": 4
}
