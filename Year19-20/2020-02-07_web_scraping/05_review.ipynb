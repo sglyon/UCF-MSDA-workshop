{
 "cells": [
  {
   "cell_type": "markdown",
   "metadata": {
    "slideshow": {
     "slide_type": "slide"
    }
   },
   "source": [
    "## Review\n",
    "\n",
    "Today we learned\n",
    "\n",
    "- The basics of HTML -- the language of the web\n",
    "- How to see source of web pages in our web browser\n",
    "- How to write a scrapy spider to extract data and follow links"
   ]
  },
  {
   "cell_type": "markdown",
   "metadata": {},
   "source": [
    "We applied our skills scrape information about the top 250 movies from IMDb\n",
    "\n",
    "We also scraped user reviews of those movies"
   ]
  },
  {
   "cell_type": "markdown",
   "metadata": {
    "slideshow": {
     "slide_type": "slide"
    }
   },
   "source": [
    "### Other tools\n",
    "\n",
    "We barely scratched the surface of web scraping\n",
    "\n",
    "There is much more to learn if you want to be able to programmatically extract data from *any* website\n",
    "\n",
    "Some tools to help you do it are:\n",
    "\n",
    "- [scrapy shell](https://docs.scrapy.org/en/latest/topics/shell.html) -- get content of website and load it into ipython session for interactive exploration of website as scrapy sees it when your spiders run\n",
    "- [Portia](https://github.com/scrapinghub/portia): point and click application for visually building scrapy spiders (no code required)\n",
    "- The [Xpath cheatsheet](https://devhints.io/xpath) and [Xpath testbed](http://www.whitebeam.org/library/guide/TechNotes/xpathtestbed.rhtm)"
   ]
  },
  {
   "cell_type": "markdown",
   "metadata": {
    "slideshow": {
     "slide_type": "slide"
    }
   },
   "source": [
    "### Homework\n",
    "\n",
    "In a few weeks we will hear from JJ again\n",
    "\n",
    "He will teach us how to use NLP techniques to build a model that will consume the text of a movie review and predict the user's rating\n",
    "\n",
    "Your homework is to collect more reviews!\n",
    "\n",
    "You can use the tools we built today to get you started"
   ]
  },
  {
   "cell_type": "markdown",
   "metadata": {
    "slideshow": {
     "slide_type": "subslide"
    }
   },
   "source": [
    "Consider getting reviews in the following categories:\n",
    "\n",
    "- Your favorite movies\n",
    "- All reviews for a movie instead of just the first page\n",
    "- Top N movies from each genre\n",
    "- All movies starring a particular actor\n",
    "- All movies by a certain producer and/or director\n",
    "\n",
    "Use your imagination!\n",
    "\n",
    "The more effort you put into this the more you will learn and the more fun JJ's next lecture will be"
   ]
  },
  {
   "cell_type": "code",
   "execution_count": null,
   "metadata": {},
   "outputs": [],
   "source": []
  }
 ],
 "metadata": {
  "kernelspec": {
   "display_name": "Python (gpu2)",
   "language": "python",
   "name": "myenv"
  },
  "language_info": {
   "codemirror_mode": {
    "name": "ipython",
    "version": 3
   },
   "file_extension": ".py",
   "mimetype": "text/x-python",
   "name": "python",
   "nbconvert_exporter": "python",
   "pygments_lexer": "ipython3",
   "version": "3.7.3"
  }
 },
 "nbformat": 4,
 "nbformat_minor": 4
}
