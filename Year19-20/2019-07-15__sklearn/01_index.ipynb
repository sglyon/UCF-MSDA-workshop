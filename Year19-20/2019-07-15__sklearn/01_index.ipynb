{
 "cells": [
  {
   "cell_type": "markdown",
   "metadata": {},
   "source": [
    "# AWS Server usage and scikit-learn\n",
    "\n",
    "Today we have two goals:\n",
    "\n",
    "1. Get all interested users set up on the new dedicated MSDA jupyterhub server\n",
    "2. Introduce the programming concepts behind using scikit-learn and touch on some algorithms\n",
    "\n",
    "\n",
    "\n",
    "Outline:\n",
    "\n",
    "- [jupyterhub Server](./02_aws.ipynb)\n",
    "- [ML concepts](./_03_ml_concepts)\n",
    "- Scikit-learn\n",
    "    - [Concepts](./04_sklearn_concepts.ipynb)\n",
    "    - [Regression](./05_sklearn_regression.ipynb)"
   ]
  },
  {
   "cell_type": "code",
   "execution_count": null,
   "metadata": {},
   "outputs": [],
   "source": []
  }
 ],
 "metadata": {
  "kernelspec": {
   "display_name": "Python 3",
   "language": "python",
   "name": "python3"
  },
  "language_info": {
   "codemirror_mode": {
    "name": "ipython",
    "version": 3
   },
   "file_extension": ".py",
   "mimetype": "text/x-python",
   "name": "python",
   "nbconvert_exporter": "python",
   "pygments_lexer": "ipython3",
   "version": "3.7.3"
  }
 },
 "nbformat": 4,
 "nbformat_minor": 2
}
