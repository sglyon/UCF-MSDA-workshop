{
 "cells": [
  {
   "cell_type": "markdown",
   "metadata": {},
   "source": [
    "# MSDA Jupyterhub server\n",
    "\n",
    "## What is Jupyterhub?\n",
    "\n",
    "Jupyterhub is a multi-user jupyter environment\n",
    "\n",
    "One person (me and research IT team) deals with installation and management of infrastructure\n",
    "\n",
    "Many people can use the server under their own account\n",
    "\n",
    "\n",
    "## Features (of our server)\n",
    "\n",
    "No individual installation necessary -- point your browser to the right url and you are good to go\n",
    "\n",
    "Hosted on AWS and \"always on\"\n",
    "\n",
    "Will scale to a more powerful machine during seminars so we can all use it at the same time (will scale back down on other days)\n",
    "\n",
    "Will have attached GPUs for accelerated model training, especially useful when we get to deep learning\n",
    "\n",
    "## Usage\n",
    "\n",
    "You can use it too! How?\n",
    "\n",
    "1. Send me a message with your desired username. This should be one word, all lowercase. E.g. my username is `slyon`\n",
    "2. Once I give you the OK, point your browser to https://18.210.223.125\n",
    "    - You will get a warning about an unsecure certificate. This is expected and temporary. For now do what your browser needs you to do in order to accept the warnings and visit the site anyway\n",
    "    - This is a temporary access url that will be replaced by something more formal this week\n",
    "3. Sign in with the username you provided in step (1) and the password I sent out in slack\n",
    "4. You should land on a page that looks like this: ![jlab_landing](./jlab_landing.png)\n",
    "5. Open a terminal by clicking the terminal icon. You should see something like this ![terminal](terminal.png)\n",
    "6. Change the password by ... \n",
    "    - Enter the command `passwd` followed by Return or Enter\n",
    "    - Then enter the original password I sent you in slack. No characters will appear  as you type, but it is working!\n",
    "    - Then enter your new password two times, pressing enter in between\n",
    "7. Enjoy!\n",
    "\n",
    "## Getting these materials\n",
    "\n",
    "After logging in to the server you can automatically fetch the latest version of the materials using this link: https://18.210.223.125/hub/user-redirect/git-pull?repo=https%3A%2F%2Fgithub.com%2Fsglyon%2FUCF-MSDA-workshop&urlpath=lab%2Ftree%2FUCF-MSDA-workshop%2FREADME.md\n",
    "\n",
    "I will post in slack also so you can click it and immediately pull all the latest materials from github\n",
    "\n",
    "In future sessions you can click the same link and it will grab any new materials you don't have yet"
   ]
  },
  {
   "cell_type": "code",
   "execution_count": null,
   "metadata": {},
   "outputs": [],
   "source": []
  }
 ],
 "metadata": {
  "kernelspec": {
   "display_name": "Python 3",
   "language": "python",
   "name": "python3"
  },
  "language_info": {
   "codemirror_mode": {
    "name": "ipython",
    "version": 3
   },
   "file_extension": ".py",
   "mimetype": "text/x-python",
   "name": "python",
   "nbconvert_exporter": "python",
   "pygments_lexer": "ipython3",
   "version": "3.7.3"
  }
 },
 "nbformat": 4,
 "nbformat_minor": 2
}
