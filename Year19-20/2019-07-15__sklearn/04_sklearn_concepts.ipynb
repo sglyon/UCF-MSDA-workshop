{
 "cells": [
  {
   "cell_type": "markdown",
   "metadata": {},
   "source": [
    "# Scikit-learn concepts\n",
    "\n",
    "Scikit-learn is a very popular and well-written/well-documented library for doing classical machine learning in Python\n",
    "\n",
    "There are a two key concepts you need to learn in order to use scikit-learn:\n",
    "\n",
    "- Data representation\n",
    "- The estimator API\n",
    "\n",
    "After learning these concepts you will be able to use scikit-learn as a laboratory for experimenting with different algorithms\n",
    "\n",
    "The possible uses for this laboratory are:\n",
    "\n",
    "- Learning and understanding a new ML algorithm\n",
    "- Exploring properties of a new dataset\n",
    "- Establishing a baseline model before trying something with higher complexity\n",
    "- Preprocessing data for use in more advanced algorithms and workflows\n",
    "\n",
    "In addition to these notes, we reccommend looking at the excellent resources in the [\"Introduction to Scikit-Learn\" chapter](https://jakevdp.github.io/PythonDataScienceHandbook/05.02-introducing-scikit-learn.html) of Jake Vanderplas' excellent, free book \"Python Datascience Handbook\"\n",
    "\n",
    "Some of the content in this section and others (will be noted) is borrowed from Jake's notes -- see the [license](https://github.com/jakevdp/PythonDataScienceHandbook/blob/master/LICENSE-TEXT) for his materials"
   ]
  },
  {
   "cell_type": "markdown",
   "metadata": {},
   "source": [
    "## Data representation\n",
    "\n",
    "For both supervised and unsupervised learning tasks, you must hand scikit-learn a 2-dimensional dataset containing one or more samples of one or more features\n",
    "\n",
    "We'll call this the feature or input matrix\n",
    "\n",
    "Each row of the feature matrix treated as an observation and each column is a feature or variable\n",
    "\n",
    "**Example**: In the housing price example, suppose we wanted to use the features `sqft_living`, `bedrooms`, and `bathrooms` as features in order to predict `price`. In this case our feature matrix `X` would look like\n",
    "\n",
    "$$X=\\begin{bmatrix} \n",
    "\\text{sqft_living}_1 & \\text{bedrooms}_1 & \\text{bathrooms}_1 \\\\\n",
    "\\text{sqft_living}_2 & \\text{bedrooms}_2 & \\text{bathrooms}_2 \\\\\n",
    "\\vdots & \\vdots & \\vdots \\\\\n",
    "\\text{sqft_living}_N & \\text{bedrooms}_N & \\text{bathrooms}_N\n",
    "\\end{bmatrix}$$\n",
    "\n",
    "where the subscripts denote a sample number and we have $N$ samples"
   ]
  },
  {
   "cell_type": "markdown",
   "metadata": {},
   "source": [
    "### Features\n",
    "\n",
    "The labels or features for a supervised learning task should be provided as either a 1 dimensional array or pandas Series\n",
    "\n",
    "In the housing price example we would have\n",
    "\n",
    "$$\n",
    "y = \\begin{bmatrix}\n",
    "\\text{price}_1 \\\\\n",
    "\\text{price}_2 \\\\\n",
    "\\vdots \\\\\n",
    "\\text{price}_N\n",
    "\\end{bmatrix}\n",
    "$$\n",
    "\n",
    "where again subscripts denote sample numbers and we have $N$ samples\n",
    "\n",
    "If we had more than one target variable (suppose we want to predict both the house price and estimated property tax) we would stack the labels side by side as columns\n",
    "\n",
    "For example\n",
    "\n",
    "$$\n",
    "y = \\begin{bmatrix}\n",
    "\\text{price}_1 & \\text{tax}_1 \\\\\n",
    "\\text{price}_2 & \\text{tax}_2\\\\\n",
    "\\vdots & \\vdots \\\\\n",
    "\\text{price}_N & \\text{tax}_N\n",
    "\\end{bmatrix}\n",
    "$$"
   ]
  },
  {
   "cell_type": "markdown",
   "metadata": {},
   "source": [
    "## Estimator API\n",
    "\n",
    "One of the biggest benefits of learning to use scikit-learn is that once you understand the core API you can very quickly try out different algorithms and estimators\n",
    "\n",
    "**Disclaimer**: the content below is made up  and a summary of how I think about and use scikit-learn. It hopefully lines up with the documentation and other resources, but I make no promises!\n",
    "\n",
    "The scikit-learn estimator has two main types of actor (class):\n",
    "\n",
    "1. Transformer: The takes an feature matrix `X` and returns a transformed feature matrix\n",
    "2. Predictor: Takes a feature matrix `X` and returns a predicted value/label/class/cluster"
   ]
  },
  {
   "cell_type": "markdown",
   "metadata": {},
   "source": [
    "### Transformers\n",
    "\n",
    "As an example transformer, consider the operation of standardizing the your dataset:\n",
    "\n",
    "Let $x^i$ represent the $i$th column of the matrix `X`. To standardize $x^i$  we would subtract its mean and divide by its standard deviation $\\tilde{x}^i_j = \\frac{x^i_j - \\text{mean}(x^i)}{\\text{std}(x^i)}$\n",
    "\n",
    "The fitting process for this transformer would be to compute the mean and standard deviation of each feature for later usage\n",
    "\n",
    "The scikit-learn class `preprocessing.StandardScaler` implements this procedure\n",
    "\n",
    "In order to fit the transformer we use the `.fit` method\n",
    "\n",
    "In order to transform a feature matrix `X` we then call the `.transform` method\n",
    "\n",
    "Let's see an example"
   ]
  },
  {
   "cell_type": "code",
   "execution_count": 8,
   "metadata": {},
   "outputs": [],
   "source": [
    "from sklearn import preprocessing\n",
    "import numpy as np\n",
    "\n",
    "scaler = preprocessing.StandardScaler()\n",
    "\n",
    "X = np.arange(12.0).reshape((4, 3))\n",
    "print(\"X =\\n\", X)"
   ]
  },
  {
   "cell_type": "code",
   "execution_count": 10,
   "metadata": {},
   "outputs": [
    {
     "data": {
      "text/plain": [
       "array([4.5, 5.5, 6.5])"
      ]
     },
     "execution_count": 10,
     "metadata": {},
     "output_type": "execute_result"
    }
   ],
   "source": [
    "X.mean(axis=0)"
   ]
  },
  {
   "cell_type": "code",
   "execution_count": 11,
   "metadata": {},
   "outputs": [
    {
     "data": {
      "text/plain": [
       "array([3.35410197, 3.35410197, 3.35410197])"
      ]
     },
     "execution_count": 11,
     "metadata": {},
     "output_type": "execute_result"
    }
   ],
   "source": [
    "X.std(axis=0)"
   ]
  },
  {
   "cell_type": "code",
   "execution_count": 12,
   "metadata": {},
   "outputs": [
    {
     "name": "stdout",
     "output_type": "stream",
     "text": [
      "transformed_X =\n",
      " [[-1.34164079 -1.34164079 -1.34164079]\n",
      " [-0.4472136  -0.4472136  -0.4472136 ]\n",
      " [ 0.4472136   0.4472136   0.4472136 ]\n",
      " [ 1.34164079  1.34164079  1.34164079]]\n"
     ]
    }
   ],
   "source": [
    "scaler.fit(X)  # will comptue mean and std of each column\n",
    "transformed_X = scaler.transform(X)\n",
    "\n",
    "print(\"transformed_X =\\n\", transformed_X)"
   ]
  },
  {
   "cell_type": "code",
   "execution_count": 13,
   "metadata": {},
   "outputs": [
    {
     "data": {
      "text/plain": [
       "array([0., 0., 0.])"
      ]
     },
     "execution_count": 13,
     "metadata": {},
     "output_type": "execute_result"
    }
   ],
   "source": [
    "transformed_X.mean(axis=0)  # should be 0"
   ]
  },
  {
   "cell_type": "code",
   "execution_count": 14,
   "metadata": {},
   "outputs": [
    {
     "data": {
      "text/plain": [
       "array([1., 1., 1.])"
      ]
     },
     "execution_count": 14,
     "metadata": {},
     "output_type": "execute_result"
    }
   ],
   "source": [
    "transformed_X.std(axis=0)  # should be 1"
   ]
  },
  {
   "cell_type": "markdown",
   "metadata": {},
   "source": [
    "**Check for understanding**: With your neighbor do the following:\n",
    "\n",
    "- Use `scaler` to transform the variable `new_X` defined in the code cell below\n",
    "    - Check the mean and standard deviation along `axis=0` (as we did above) for both `new_X` and the transformed version\n",
    "    - Does the transformed version of `new_X` have mean 0 and std 1? Why or why not?\n",
    "- Repeat the above, but this time transform `new_X` with the method `scaler.fit_transform`\n",
    "    - Check meean and standard deviation\n",
    "    - Does this transformed version of `new_X` have mean 0 and std 1? Why or why not? Explain"
   ]
  },
  {
   "cell_type": "code",
   "execution_count": 17,
   "metadata": {},
   "outputs": [],
   "source": [
    "new_X = np.random.randn(100, 3)\n",
    "\n",
    "# your code here"
   ]
  },
  {
   "cell_type": "code",
   "execution_count": 18,
   "metadata": {},
   "outputs": [],
   "source": [
    "from sklearn import linear_model"
   ]
  },
  {
   "cell_type": "markdown",
   "metadata": {},
   "source": [
    "### Predictors\n",
    "\n",
    "Predictors are the actual machine learning algorithms you've likely heard of: linear regression, decision trees, neural networks, ect.\n",
    "\n",
    "Like transformers they have a `.fit` method that takes as in input the feature matrix `X` and the target vector `y` and fits the machine learning model\n",
    "\n",
    "Unlike transformers there is not a `.transform` method, but rather a `.predict` method\n",
    "\n",
    "`.predict` takes as an input a feature matrix `X` and returns a predicted target, label, or cluster"
   ]
  },
  {
   "cell_type": "markdown",
   "metadata": {},
   "source": [
    "We'll dive in more when we get to real datasets, but for now we'll show you how to make the basic linear regression predictor"
   ]
  },
  {
   "cell_type": "code",
   "execution_count": 22,
   "metadata": {},
   "outputs": [
    {
     "data": {
      "text/plain": [
       "array([-1.,  5., 11., 17.])"
      ]
     },
     "execution_count": 22,
     "metadata": {},
     "output_type": "execute_result"
    }
   ],
   "source": [
    "from sklearn import linear_model\n",
    "\n",
    "y = X[:, 1] + 2 * X[:, 0] - X[:, 2]\n",
    "linreg = linear_model.LinearRegression()\n",
    "linreg.fit(X, y)\n",
    "linreg.predict(X)"
   ]
  },
  {
   "cell_type": "markdown",
   "metadata": {},
   "source": [
    "**Check for understanding**: With your neighbor do the following:\n",
    "\n",
    "- Come up with a new target vector and name it`y2` -- this can be anything you want\n",
    "- Experiment with the `linreg.fit_predict` method and see if you can determine what it does\n",
    "- Discuss with your neighbor"
   ]
  },
  {
   "cell_type": "markdown",
   "metadata": {},
   "source": [
    "### Pipelines\n",
    "\n",
    "It is very common in scikit-learn user code to see one or more transformers applied before sending the transformed data to a predictor\n",
    "\n",
    "In order to do this properly the user would have to call `.fit` on all transformers with training data, call \n",
    "\n",
    "In order to make this convenient and reproducible for users scikit-learn has the notion of a **pipeline**\n",
    "\n",
    "The basic structure of the pipeline is:\n",
    "\n",
    "```python\n",
    "[\n",
    "    transformer1,\n",
    "    transformer2,\n",
    "    ...,\n",
    "    transformerN,\n",
    "    predictor\n",
    "]\n",
    "```\n",
    "\n",
    "Once you have a pipeline you can call `.fit` on the pipeline and scikit learn will do the following:\n",
    "\n",
    "```python\n",
    "X1 = transformer1.fit_transform(X)\n",
    "X2 = transformer2.fit_transform(X1)\n",
    "...\n",
    "XN = transformerN.fit_transform(X)\n",
    "predictor.fit(XN, y)\n",
    "```\n",
    "\n",
    "You can then call `.predict` on the pipeline and sklearn will do the following:\n",
    "\n",
    "```python\n",
    "X1 = transformer1.transform(X)\n",
    "X2 = transformer2.transform(X1)\n",
    "...\n",
    "XN = transformerN.transform(X)\n",
    "output = predictor.predict(XN)\n",
    "```\n",
    "\n",
    "and return `output` for you.\n",
    "\n",
    "Notice:\n",
    "\n",
    "- All pipeline steps are `.fit` when you call `.fit`\n",
    "- When `.fit`ting or `.predict`ting, the pipeline will call `.transform` on all transformer layers using the data you pass in"
   ]
  },
  {
   "cell_type": "markdown",
   "metadata": {},
   "source": [
    "There are a few ways to make a pipeline, but my favorite is as follows:"
   ]
  },
  {
   "cell_type": "code",
   "execution_count": 25,
   "metadata": {},
   "outputs": [
    {
     "data": {
      "text/plain": [
       "array([-1.,  5., 11., 17.])"
      ]
     },
     "execution_count": 25,
     "metadata": {},
     "output_type": "execute_result"
    }
   ],
   "source": [
    "from sklearn import pipeline, linear_model\n",
    "\n",
    "model = pipeline.make_pipeline(\n",
    "    preprocessing.StandardScaler(),\n",
    "    linear_model.LinearRegression()\n",
    ")\n",
    "\n",
    "model.fit(X, y)\n",
    "\n",
    "model.predict(X)"
   ]
  },
  {
   "cell_type": "markdown",
   "metadata": {},
   "source": [
    "**Check for understanding**: Look at the routines available in the `preprocessing` module. Try including more than one transformer in your pipeline. Does it work?"
   ]
  },
  {
   "cell_type": "code",
   "execution_count": null,
   "metadata": {},
   "outputs": [],
   "source": []
  }
 ],
 "metadata": {
  "kernelspec": {
   "display_name": "Python 3",
   "language": "python",
   "name": "python3"
  },
  "language_info": {
   "codemirror_mode": {
    "name": "ipython",
    "version": 3
   },
   "file_extension": ".py",
   "mimetype": "text/x-python",
   "name": "python",
   "nbconvert_exporter": "python",
   "pygments_lexer": "ipython3",
   "version": "3.7.3"
  }
 },
 "nbformat": 4,
 "nbformat_minor": 2
}
