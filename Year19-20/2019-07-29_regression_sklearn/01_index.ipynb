{
 "cells": [
  {
   "cell_type": "markdown",
   "metadata": {},
   "source": [
    "# Regression with scikit-learn\n",
    "\n",
    "Today our main goal is to use the scikit-learn package (`sklearn` when importing in Python) to study Regression algorithms\n",
    "\n",
    "I will be using the MSDA jupyterhub server hosted on AWS for today, and invite you to do the same.\n",
    "\n",
    "\n",
    "\n",
    "\n",
    "\n",
    "Outline:\n",
    "\n",
    "- [Regression with Scikit-learn](./02_sklearn_regression.ipynb)"
   ]
  },
  {
   "cell_type": "code",
   "execution_count": null,
   "metadata": {},
   "outputs": [],
   "source": []
  }
 ],
 "metadata": {
  "kernelspec": {
   "display_name": "Python 3",
   "language": "python",
   "name": "python3"
  },
  "language_info": {
   "codemirror_mode": {
    "name": "ipython",
    "version": 3
   },
   "file_extension": ".py",
   "mimetype": "text/x-python",
   "name": "python",
   "nbconvert_exporter": "python",
   "pygments_lexer": "ipython3",
   "version": "3.7.3"
  }
 },
 "nbformat": 4,
 "nbformat_minor": 2
}
