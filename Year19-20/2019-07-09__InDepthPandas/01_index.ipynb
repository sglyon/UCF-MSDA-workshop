{
 "cells": [
  {
   "cell_type": "markdown",
   "metadata": {},
   "source": [
    "# MSDA Seminar Series\n",
    "\n",
    "**Spencer Lyon**\n",
    "\n",
    "**Date: 2019-07-08**\n",
    "\n",
    "- - -\n",
    "\n",
    "Today we will continue studying pandas.\n",
    "\n",
    "We'll do a brief (5-10 minute) review of what we learned last time and then will continue learning how to manipulate `Series` and `DataFrame` objects\n",
    "\n",
    "Outline:\n",
    "\n",
    "- [Review](02_review.ipynb) (15 minutes)\n",
    "    - Series and DataFrame\n",
    "- [Finish pandas intro](03_pandas_intro.ipynb) (10 minutes)\n",
    "    - Data types\n",
    "    - Changing DAtaFrames: new columns, change values, rename columns\n",
    "- [Core pandas](04_core_pandas.ipynb) (30+ minutes)\n",
    "    - Python `datetime`\n",
    "    - Pandas aggregations (`.agg`), scalar transformations (`.applymap`), and series transformations (`.apply`)\n",
    "    - Boolean selection\n",
    "- [The index](05_the_index.ipynb) (25 minutes)\n",
    "    - `set_index` and `reset_index`\n",
    "    - Data alignment\n",
    "    - Hierarchical index: greater than two-dimensional data in pandas\n",
    "  "
   ]
  },
  {
   "cell_type": "markdown",
   "metadata": {},
   "source": [
    "  \n",
    "Class input...\n",
    "\n",
    "There are a handful of other pandas materials I have prepared and ready to go\n",
    "\n",
    "They are useful to have in your data science toolbelt, but may be easy enough to study outside of seminar time.\n",
    "\n",
    "The materials are:\n",
    "\n",
    "- Reshaping data: pivot tables (n.b. I think this is a must to cover together)\n",
    "- Group by operations\n",
    "- Data storage formats with pandas (csv, excel, sql databases, json, feather, parquet, stata dta, etc.)\n",
    "- Cleaning data\n",
    "- Time series\n",
    "- Mergning/combining/aligning data sets\n",
    "\n",
    "Which ones do we want to cover together? Which ones should I give materials for and you can study on your own?\n",
    "\n",
    "Other topics we can study next:\n",
    "\n",
    "- ML in python, regression and classification with scikit-learn\n",
    "- Workflow best practices (version control, unit testing, git/github)\n",
    "- APIs and data scraping\n",
    "- Tensorflow/deep learning\n",
    "- Plotting in Python\n",
    "- Julia (I'll keep throwing this in b/c I think it is worth learning!)\n",
    "\n",
    "Note if we do algorithm type work we can build towards having an in class (or perhaps multi-session) compeition. I supply data and a way to evaluate performance, you compete in groups for best evaluation"
   ]
  },
  {
   "cell_type": "markdown",
   "metadata": {},
   "source": []
  }
 ],
 "metadata": {
  "kernelspec": {
   "display_name": "Python 3",
   "language": "python",
   "name": "python3"
  },
  "language_info": {
   "codemirror_mode": {
    "name": "ipython",
    "version": 3
   },
   "file_extension": ".py",
   "mimetype": "text/x-python",
   "name": "python",
   "nbconvert_exporter": "python",
   "pygments_lexer": "ipython3",
   "version": "3.7.3"
  }
 },
 "nbformat": 4,
 "nbformat_minor": 2
}
