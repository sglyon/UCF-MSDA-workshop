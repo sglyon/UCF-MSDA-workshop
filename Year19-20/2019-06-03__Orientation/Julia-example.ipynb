{
 "cells": [
  {
   "cell_type": "markdown",
   "metadata": {
    "slideshow": {
     "slide_type": "slide"
    }
   },
   "source": [
    "## Simple example -- pairwise distance\n",
    "\n",
    "Suppose we have `N` vectors in $\\mathbb{R}^3$, stored as a $3 \\times N$ matrix and labeled $x_1 \\in \\mathbb{R}^3$, $x_2 \\in \\mathbb{R}^3$, ..., $x_N \\in \\mathbb{R}^3$\n",
    "\n",
    "Suppose we also have a metric function $\\rho: \\mathbb{R}^3 \\times \\mathbb{R}^3 \\rightarrow \\mathbb{R}^+$  that we would like to apply to each pair of vectors to compute an $N \\times N$ matrix $D$, where the $i,j$ element is give by $D_{i,j} = \\rho(x_i, x_j)$\n",
    "\n",
    "Let's start with the Euclidean (L2) norm $\\rho(x, y) = \\sqrt{\\sum_{i=1}^3(x_i - y_i)^2}$\n",
    "\n",
    "Here's how we might compute this in Julia"
   ]
  },
  {
   "cell_type": "code",
   "execution_count": 16,
   "metadata": {
    "slideshow": {
     "slide_type": "subslide"
    }
   },
   "outputs": [
    {
     "data": {
      "text/plain": [
       "3×1500 Array{Float64,2}:\n",
       " -0.486749  0.0245151   1.34225   …  -0.536434   0.426064  -0.641357\n",
       "  1.92775   0.344174   -0.949785      2.03927    0.744031  -0.967209\n",
       " -1.83757   1.39897     0.738193      1.11685   -0.844427   0.022634"
      ]
     },
     "execution_count": 16,
     "metadata": {},
     "output_type": "execute_result"
    }
   ],
   "source": [
    "N = 1500\n",
    "X = randn(3, N)  # create the matrix of random numbers drawn from N(0, 1)"
   ]
  },
  {
   "cell_type": "code",
   "execution_count": 19,
   "metadata": {
    "slideshow": {
     "slide_type": "subslide"
    }
   },
   "outputs": [
    {
     "name": "stdout",
     "output_type": "stream",
     "text": [
      "  0.814886 seconds (9.05 M allocations: 809.070 MiB, 5.82% gc time)\n"
     ]
    },
    {
     "data": {
      "text/plain": [
       "1500×1500 Array{Float64,2}:\n",
       " 0.0      3.63927  4.27317  5.36205  3.25066   …  2.95694  1.79464   3.44456 \n",
       " 3.63927  0.0      1.96147  3.07954  1.3727       1.80766  2.31386   2.0143  \n",
       " 4.27317  1.96147  0.0      2.08418  1.8886       3.55068  2.49261   2.1088  \n",
       " 5.36205  3.07954  2.08418  0.0      2.3574       4.7799   3.8158    2.06075 \n",
       " 3.25066  1.3727   1.8886   2.3574   0.0          2.59603  1.91758   0.660686\n",
       " 2.59047  1.5745   1.82719  2.90138  0.907678  …  2.43719  1.03419   1.27267 \n",
       " 4.62637  2.30024  2.38274  1.45163  1.47734      3.77905  3.33918   1.24347 \n",
       " 2.55225  2.01782  2.88717  3.25543  1.08482      2.43454  1.84727   1.21248 \n",
       " 3.64518  1.1125   2.48884  2.83331  0.990152     2.18667  2.57456   1.4553  \n",
       " 3.65218  3.49078  3.81227  3.20425  2.22233      4.13203  3.19039   1.73503 \n",
       " 3.00428  2.64668  1.77791  3.40994  2.33841   …  3.44643  1.34646   2.52786 \n",
       " 3.6116   4.03071  2.78767  3.84434  3.37138      4.83928  2.40468   3.28314 \n",
       " 4.03737  3.81977  3.72171  2.87819  2.46487      4.68527  3.38804   1.84797 \n",
       " ⋮                                             ⋱                             \n",
       " 3.22671  2.34378  1.35939  2.53394  1.64536      3.47706  1.52402   1.67844 \n",
       " 3.30155  1.0782   1.32845  2.43549  0.710456     2.49324  1.71387   1.22795 \n",
       " 2.01979  2.07418  2.26956  3.67086  1.7746    …  2.40993  0.275367  2.11122 \n",
       " 2.01598  2.7064   2.60915  3.46755  1.81951      3.17141  0.894592  1.81105 \n",
       " 5.75182  3.19244  1.55161  1.69124  3.04521      4.94241  3.98359   3.0486  \n",
       " 2.25422  2.39342  3.57939  4.04517  1.82186      2.18162  2.13178   2.01875 \n",
       " 2.31951  2.70271  3.28014  3.51871  1.62565      2.99524  1.92333   1.49986 \n",
       " 3.43163  1.39719  1.45084  2.09947  0.450141  …  2.81147  1.91281   0.791043\n",
       " 3.04785  1.47353  3.2764   4.06322  1.87153      1.07883  2.48754   2.40665 \n",
       " 2.95694  1.80766  3.55068  4.7799   2.59603      0.0      2.53981   3.20113 \n",
       " 1.79464  2.31386  2.49261  3.8158   1.91758      2.53981  0.0       2.19534 \n",
       " 3.44456  2.0143   2.1088   2.06075  0.660686     3.20113  2.19534   0.0     "
      ]
     },
     "execution_count": 19,
     "metadata": {},
     "output_type": "execute_result"
    }
   ],
   "source": [
    "function computeD(ρ, X)\n",
    "    m, N = size(X)\n",
    "    out = zeros(N, N)\n",
    "    for j in 1:N, i in 1:N\n",
    "        # [index...] notation. Colon means \"everything\" in dimension\n",
    "        out[i, j] = ρ(X[:, i], X[:, j])\n",
    "    end\n",
    "    out # implicit return of last expression in function\n",
    "end\n",
    "\n",
    "# short-hand function\n",
    "# the `.+` and `.^` apply \"elementwise\" to arguments\n",
    "# Can work with other functions `f` like `f.(arg1, arg2, arg3, ...)`\n",
    "ρ_l2(x, y) = sqrt(sum((x.-y).^2))\n",
    "\n",
    "@time D = computeD(ρ_l2, X)"
   ]
  },
  {
   "cell_type": "markdown",
   "metadata": {
    "slideshow": {
     "slide_type": "subslide"
    }
   },
   "source": [
    "Let's test our work  by showing the diagonal is all zeros:\n"
   ]
  },
  {
   "cell_type": "code",
   "execution_count": 20,
   "metadata": {},
   "outputs": [
    {
     "data": {
      "text/plain": [
       "0.0"
      ]
     },
     "execution_count": 20,
     "metadata": {},
     "output_type": "execute_result"
    }
   ],
   "source": [
    "using LinearAlgebra: diag\n",
    "\n",
    "# notice  the `.` notation for `abs`\n",
    "maximum(abs.(diag(D) .- zeros(N)))"
   ]
  },
  {
   "cell_type": "markdown",
   "metadata": {
    "slideshow": {
     "slide_type": "slide"
    }
   },
   "source": [
    "## Python implementation\n",
    "\n",
    "So that we can gauge performance"
   ]
  },
  {
   "cell_type": "code",
   "execution_count": 21,
   "metadata": {
    "slideshow": {
     "slide_type": "subslide"
    }
   },
   "outputs": [],
   "source": [
    "using PyCall"
   ]
  },
  {
   "cell_type": "code",
   "execution_count": 22,
   "metadata": {},
   "outputs": [
    {
     "data": {
      "text/plain": [
       "PyObject <function computeD at 0x7f6026439ae8>"
      ]
     },
     "execution_count": 22,
     "metadata": {},
     "output_type": "execute_result"
    }
   ],
   "source": [
    "py\"\"\"\n",
    "import numpy as np\n",
    "\n",
    "def ρ_l2(x, y):\n",
    "    return np.sqrt(np.sum((x - y) ** 2))\n",
    "\n",
    "\n",
    "def computeD(X, ρ=ρ_l2):\n",
    "    m, N = X.shape\n",
    "    out = np.zeros((N, N))\n",
    "    for i in range(N):\n",
    "        for j in range(N):\n",
    "            out[i, j] = ρ(X[:, i], X[:, j])\n",
    "    return out\n",
    "\"\"\"\n",
    "\n",
    "py_computeD = py\"computeD\""
   ]
  },
  {
   "cell_type": "code",
   "execution_count": 23,
   "metadata": {
    "slideshow": {
     "slide_type": "subslide"
    }
   },
   "outputs": [
    {
     "name": "stdout",
     "output_type": "stream",
     "text": [
      " 18.615087 seconds (45 allocations: 17.168 MiB, 0.08% gc time)\n"
     ]
    },
    {
     "data": {
      "text/plain": [
       "1500×1500 Array{Float64,2}:\n",
       " 0.0      3.63927  4.27317  5.36205  3.25066   …  2.95694  1.79464   3.44456 \n",
       " 3.63927  0.0      1.96147  3.07954  1.3727       1.80766  2.31386   2.0143  \n",
       " 4.27317  1.96147  0.0      2.08418  1.8886       3.55068  2.49261   2.1088  \n",
       " 5.36205  3.07954  2.08418  0.0      2.3574       4.7799   3.8158    2.06075 \n",
       " 3.25066  1.3727   1.8886   2.3574   0.0          2.59603  1.91758   0.660686\n",
       " 2.59047  1.5745   1.82719  2.90138  0.907678  …  2.43719  1.03419   1.27267 \n",
       " 4.62637  2.30024  2.38274  1.45163  1.47734      3.77905  3.33918   1.24347 \n",
       " 2.55225  2.01782  2.88717  3.25543  1.08482      2.43454  1.84727   1.21248 \n",
       " 3.64518  1.1125   2.48884  2.83331  0.990152     2.18667  2.57456   1.4553  \n",
       " 3.65218  3.49078  3.81227  3.20425  2.22233      4.13203  3.19039   1.73503 \n",
       " 3.00428  2.64668  1.77791  3.40994  2.33841   …  3.44643  1.34646   2.52786 \n",
       " 3.6116   4.03071  2.78767  3.84434  3.37138      4.83928  2.40468   3.28314 \n",
       " 4.03737  3.81977  3.72171  2.87819  2.46487      4.68527  3.38804   1.84797 \n",
       " ⋮                                             ⋱                             \n",
       " 3.22671  2.34378  1.35939  2.53394  1.64536      3.47706  1.52402   1.67844 \n",
       " 3.30155  1.0782   1.32845  2.43549  0.710456     2.49324  1.71387   1.22795 \n",
       " 2.01979  2.07418  2.26956  3.67086  1.7746    …  2.40993  0.275367  2.11122 \n",
       " 2.01598  2.7064   2.60915  3.46755  1.81951      3.17141  0.894592  1.81105 \n",
       " 5.75182  3.19244  1.55161  1.69124  3.04521      4.94241  3.98359   3.0486  \n",
       " 2.25422  2.39342  3.57939  4.04517  1.82186      2.18162  2.13178   2.01875 \n",
       " 2.31951  2.70271  3.28014  3.51871  1.62565      2.99524  1.92333   1.49986 \n",
       " 3.43163  1.39719  1.45084  2.09947  0.450141  …  2.81147  1.91281   0.791043\n",
       " 3.04785  1.47353  3.2764   4.06322  1.87153      1.07883  2.48754   2.40665 \n",
       " 2.95694  1.80766  3.55068  4.7799   2.59603      0.0      2.53981   3.20113 \n",
       " 1.79464  2.31386  2.49261  3.8158   1.91758      2.53981  0.0       2.19534 \n",
       " 3.44456  2.0143   2.1088   2.06075  0.660686     3.20113  2.19534   0.0     "
      ]
     },
     "execution_count": 23,
     "metadata": {},
     "output_type": "execute_result"
    }
   ],
   "source": [
    "@time py_D = py_computeD(X)"
   ]
  },
  {
   "cell_type": "code",
   "execution_count": 24,
   "metadata": {
    "slideshow": {
     "slide_type": "subslide"
    }
   },
   "outputs": [
    {
     "data": {
      "text/plain": [
       "0.0"
      ]
     },
     "execution_count": 24,
     "metadata": {},
     "output_type": "execute_result"
    }
   ],
   "source": [
    "maximum(abs.(D .- py_D))"
   ]
  },
  {
   "cell_type": "markdown",
   "metadata": {
    "slideshow": {
     "slide_type": "subslide"
    }
   },
   "source": [
    "On one run on my machine the Julia version took 1.49 seconds whereas the Python one took 18.76 seconds. \n",
    "\n",
    "This was a pretty much \"free\" speedup as the code was almost the same for both languages. It is not uncommon to se factors of 100 or 1000 when moving hand-written Python code to Julia\n",
    "\n",
    "Note that the code in each example was not meant to reach optimal performance, both implementations could be improved"
   ]
  },
  {
   "cell_type": "markdown",
   "metadata": {
    "slideshow": {
     "slide_type": "slide"
    }
   },
   "source": [
    "## Faster Julia version\n",
    "\n"
   ]
  },
  {
   "cell_type": "code",
   "execution_count": 25,
   "metadata": {
    "slideshow": {
     "slide_type": "subslide"
    }
   },
   "outputs": [
    {
     "data": {
      "text/plain": [
       "computeD_l2 (generic function with 1 method)"
      ]
     },
     "execution_count": 25,
     "metadata": {},
     "output_type": "execute_result"
    }
   ],
   "source": [
    "function computeD_l2(X)\n",
    "    m, N = size(X)\n",
    "    out = zeros(N, N)\n",
    "    @inbounds for j in 1:N, i in 1:N\n",
    "        # [index...] notation. Colon means \"everything\" in dimension\n",
    "        val = 0.0\n",
    "        @simd for d in 1:m\n",
    "            val += (X[d, i] - X[d, j])^2\n",
    "        end\n",
    "        out[i, j] = sqrt(val)\n",
    "    end\n",
    "    out # implicit return of last expression in function\n",
    "end"
   ]
  },
  {
   "cell_type": "code",
   "execution_count": 33,
   "metadata": {
    "slideshow": {
     "slide_type": "fragment"
    }
   },
   "outputs": [
    {
     "name": "stdout",
     "output_type": "stream",
     "text": [
      "  0.017628 seconds (6 allocations: 17.166 MiB, 28.30% gc time)\n"
     ]
    }
   ],
   "source": [
    "@time D2 = computeD_l2(X);"
   ]
  },
  {
   "cell_type": "code",
   "execution_count": 34,
   "metadata": {},
   "outputs": [
    {
     "data": {
      "text/plain": [
       "8.881784197001252e-16"
      ]
     },
     "execution_count": 34,
     "metadata": {},
     "output_type": "execute_result"
    }
   ],
   "source": [
    "maximum(abs.(D .- D2))"
   ]
  },
  {
   "cell_type": "markdown",
   "metadata": {
    "slideshow": {
     "slide_type": "subslide"
    }
   },
   "source": [
    "On my machine this version of code ran the computation in 0.0095 seconds -- that's a 157x speedup over the original Julia and a 1978x speedup over the Python\n",
    "\n",
    "With Julia it is possible to write \"lower level\" code and get drastically better performance\n",
    "\n",
    "Sometimes you might hear that \"in Julia you can get C-like performance if you write C-like code\"\n",
    "\n",
    "This is typically not possible in other common data analytics languages like Python, Matlab, or R"
   ]
  },
  {
   "cell_type": "code",
   "execution_count": null,
   "metadata": {},
   "outputs": [],
   "source": []
  }
 ],
 "metadata": {
  "@webio": {
   "lastCommId": null,
   "lastKernelId": null
  },
  "celltoolbar": "Slideshow",
  "kernelspec": {
   "display_name": "Julia 1.1.0",
   "language": "julia",
   "name": "julia-1.1"
  },
  "language_info": {
   "file_extension": ".jl",
   "mimetype": "application/julia",
   "name": "julia",
   "version": "1.1.0"
  }
 },
 "nbformat": 4,
 "nbformat_minor": 2
}
