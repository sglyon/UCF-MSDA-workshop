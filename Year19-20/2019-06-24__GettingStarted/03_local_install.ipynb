{
 "cells": [
  {
   "cell_type": "markdown",
   "metadata": {},
   "source": [
    "# Local Installation\n",
    "\n",
    "**Prerequisites**\n",
    "\n",
    "- None!  \n",
    "\n",
    "\n",
    "**Outcomes**\n",
    "\n",
    "- Install Python on your computer  \n",
    "- Know what the Jupyter notebook is  \n",
    "- Be able to start the Jupyter notebook on your computer  \n",
    "- Be able to open specific notebooks from your computer  "
   ]
  },
  {
   "cell_type": "markdown",
   "metadata": {},
   "source": [
    "## Installation\n",
    "\n",
    "Visit [continuum.io](https://www.anaconda.com/download) and download the\n",
    "Anaconda Python distribution for your operating system (Windows/Mac OS/Linux).\n",
    "Be sure to download the Python 3.X (where X is some number greater than or\n",
    "equal to 7) version, not the 2.7 version\n",
    "\n",
    "Now, buckle up. It’s time to begin."
   ]
  },
  {
   "cell_type": "markdown",
   "metadata": {},
   "source": [
    "### Intro to Jupyter\n",
    "\n",
    "- Most of the material will be administered using\n",
    "  [Jupyter](http://jupyter.org/) notebooks  \n",
    "- It is a file format that allows us to mix text, code, and output\n",
    "  -  Ideal for presentations/teaching and presenting results  \n",
    "- Has three components:\n",
    "  1. **Kernel** that is responsible for executing code in a specific programming language (you can ignore this)\n",
    "  2. **GUI** that runs in your web browser (what we will interact with)  \n",
    "  3. **Server** that manages communication between GUI and kernels (start this once per session)"
   ]
  },
  {
   "cell_type": "markdown",
   "metadata": {},
   "source": [
    "## Starting Jupyter\n",
    "\n",
    "Start the Jupyter notebook by following these steps\n",
    "\n",
    "1. Open a terminal\n",
    "  -  Windows: Open “Anaconda Command Prompt” (perhaps via search)\n",
    "  -  Mac OS: Open terminal (command+space => type terminal => press enter)\n",
    "  -  Linux: You probably know how, but, if not, then ask for help  \n",
    "1. Type `jupyter lab` in the terminal and press enter  \n",
    "1. Keep the terminal open the whole time you’re working in the notebook  \n",
    "1. If your web browser doesn’t open, read what was written in terminal and look for something that looks like  "
   ]
  },
  {
   "cell_type": "markdown",
   "metadata": {
    "hide-output": false
   },
   "source": [
    "```markdown\n",
    "Copy/paste this URL into your browser when you connect for the first time,\n",
    "to login with a token:\n",
    "    http://localhost:8888/?token=9a39d3741a4f0b200c6e4b07d8e5c04a089899cddc72e7f8\n",
    "```\n"
   ]
  },
  {
   "cell_type": "markdown",
   "metadata": {},
   "source": [
    "and copy/paste the line starting with `http://` into your web browser."
   ]
  },
  {
   "cell_type": "markdown",
   "metadata": {},
   "source": [
    "## Opening this file\n",
    "\n",
    "- Once web browser is open, you should see something like this:  \n",
    "\n",
    "\n",
    "<img src=\"https://storage.googleapis.com/ds4e/_static/pyfun/jupyter_lab.png\" alt=\"jupyter\\_lab.png\" style=\"\">\n",
    "\n",
    "  \n",
    "- The filenames will be different  \n",
    "- It *should* list the contents of your personal home directory (folder)  \n",
    "\n",
    "**Download materials**\n",
    "\n",
    "- To downlaod all the materials for this class visit [http://localhost:8888/git-pull?repo=https%3A%2F%2Fgithub.com%2Fsglyon%2FUCF-MSDA-workshop&urlpath=lab%2Ftree%2FUCF-MSDA-workshop%2F](http://localhost:8888/git-pull?repo=https%3A%2F%2Fgithub.com%2Fsglyon%2FUCF-MSDA-workshop&urlpath=lab%2Ftree%2FUCF-MSDA-workshop%2F) (will post to slack channel also)\n",
    "\n",
    "\n",
    "<blockquote>\n",
    "\n",
    "**Check for understanding**\n",
    "\n",
    "Open this file in Jupyter by navigating to the `2019-06-24__GettingStarted` and \n",
    "clicking the `local_install.ipynb` file\n",
    "\n",
    "\n",
    "</blockquote>"
   ]
  },
  {
   "cell_type": "code",
   "execution_count": null,
   "metadata": {},
   "outputs": [],
   "source": []
  }
 ],
 "metadata": {
  "filename": "local_install.rst",
  "kernelspec": {
   "display_name": "Python 3",
   "language": "python",
   "name": "python3"
  },
  "language_info": {
   "codemirror_mode": {
    "name": "ipython",
    "version": 3
   },
   "file_extension": ".py",
   "mimetype": "text/x-python",
   "name": "python",
   "nbconvert_exporter": "python",
   "pygments_lexer": "ipython3",
   "version": "3.7.3"
  },
  "title": "Local Installation"
 },
 "nbformat": 4,
 "nbformat_minor": 2
}
