{
 "cells": [
  {
   "cell_type": "markdown",
   "metadata": {},
   "source": [
    "# Introduction\n",
    "\n",
    "**Prerequisites**\n",
    "\n",
    "- Good attitude  \n",
    "- Good work ethic  \n",
    "\n",
    "\n",
    "**Outcomes**\n",
    "\n",
    "- Understand what a programming language is.  \n",
    "- Know why we chose Python  \n",
    "- Know what the Jupyter notebook is  \n",
    "- Know Jupyter notebook basics: cell modes, editing/evaluating cells  "
   ]
  },
  {
   "cell_type": "markdown",
   "metadata": {},
   "source": [
    "## Welcome\n",
    "\n",
    "Welcome to the start of your path to learning how to work with data in the\n",
    "Python programming language!\n",
    "\n",
    "A programming language is, loosely speaking, a structured subset of natural\n",
    "language (words) and special characters (e.g. `,` or `{`) that allow humans\n",
    "to describe operations they would like their computer to perform on their behalf\n",
    "\n",
    "It is then the job of the programming language to translate these words and\n",
    "symbols into instructions the computer can execute"
   ]
  },
  {
   "cell_type": "markdown",
   "metadata": {},
   "source": [
    "### Why Python?\n",
    "\n",
    "Among the hundreds of programming languages, we chose to teach you Python for the following reasons\n",
    "\n",
    "- Easy to learn and use (relative to other programming languages)  \n",
    "- Designed with readability in mind  \n",
    "- Excellent tools for handling data efficiently and succinctly  \n",
    "- Cemented as the world’s [third most popular](https://www.zdnet.com/article/programming-language-of-the-year-python-is-standout-in-latest-rankings/)\n",
    "  programming language, the most popular scripting language, and an increasing standard for\n",
    "  [data analysis in industry](https://medium.com/@data_driven/python-vs-r-for-data-science-and-the-winner-is-3ebb1a968197)  \n",
    "- General purpose: Initially you will learn Python for data analysis, but it\n",
    "  can also used for websites, database management, web scraping, financial\n",
    "  modeling, data visualization, etc.  In particular, it is the world’s best language for\n",
    "  [gluing](https://en.wikipedia.org/wiki/Glue_code)  those different pieces together.  \n",
    "\n",
    "\n",
    "The general purpose nature of Python comes at a cost: it is often called “the second best language\n",
    "for everything”.  But the flip-side of that argument is it is a great language to have in your\n",
    "toolbox to solve all sorts of problems and patch them together.  Hence, a versatile “second-best”\n",
    "language is typically the best one to learn first.\n",
    "\n",
    "Some other languages to consider\n",
    "\n",
    "- R has a spectacular ecosystem of statistical packages, and is defensible as a choice for pure\n",
    "  data science.  However, it is a difficult general-purpose language to use and ill-suited towards\n",
    "  the versatile glue code in which Python excels.  Nevertheless, it can be a useful second-language\n",
    "  to learn for projects that are entirely statistical.  \n",
    "- Matlab has much more natural notation for writing linear algebra heavy code.  However, it is:\n",
    "  (a) expensive; (b) poor at dealing with data analysis; (3) grossly inferior to Python as a\n",
    "  language; and (4) being left behind as Python and Julia ecosystems expand to more packages.  \n",
    "- Julia is in part a far better version of Matlab, which can be as fast as Fortran or C.  However,\n",
    "  it has a young and immature environment and is currently more appropriate for academics and\n",
    "  scientific computing specialists.  \n",
    "\n",
    "\n",
    "Another consideration with programming language is runtime performance, where both Python and R can\n",
    "be slow for general purpose code.  For the most part this will not be an issue for doing data\n",
    "science and machine learning, as most datascience packages in Python (and R) call out to\n",
    "high-performance code written in other languages in the background.  If you are writing more\n",
    "traditional scientific/technical computing in Python, there are [things that can help](http://numba.pydata.org/) make Python faster in limited cases, but other languages like Julia and\n",
    "Matlab can become more appealing."
   ]
  },
  {
   "cell_type": "markdown",
   "metadata": {},
   "source": [
    "### Why Open Source?\n",
    "\n",
    "Software development has changed radically in the last decade, increasingly becoming a process of\n",
    "stitching together both established high quality libraries, and state-of-the-art research projects\n",
    "\n",
    "A major disadvantage of Matlab, Stata, and other proprietary languages is that they are not\n",
    "open-source, and unable to work within this new paradigm\n",
    "\n",
    "Forgetting the cost for a moment, the benefits of using an open-source language are pragmatic rather\n",
    "than ideological\n",
    "\n",
    "- Open source languages are easier for everyone in the world to write and share packages because\n",
    "  the code is accessible and available  \n",
    "- With the right kinds of open source licenses, academics, businesses, and hobbyists all have\n",
    "  incentives to contribute  \n",
    "- Because open-source languages are managed on publicly accessible sites (e.g. GitHub), it is\n",
    "  easier to built a community and collaborate  \n",
    "- Package management systems (i.e. a way to find, download, install, and upgrade packages) in\n",
    "  open-source languages can be very open and accessible since they don’t need to deal with\n",
    "  proprietary software licenses  \n",
    "\n",
    "\n",
    "Taking Matlab as an example: it has no package management system at all, and due to the license and\n",
    "language limitations it is unlikely to ever catch up"
   ]
  },
  {
   "cell_type": "markdown",
   "metadata": {},
   "source": [
    "### Installation\n",
    "\n",
    "If you are accessing these materials via a Jupyter(Hub) server, you can skip\n",
    "this section\n",
    "\n",
    "If you are not viewing them on an already established Jupyter server, please\n",
    "follow the [local installation instructions](local_install.ipynb) and come back\n",
    "here when you are finished"
   ]
  },
  {
   "cell_type": "markdown",
   "metadata": {},
   "source": [
    "### Jupyter notebook basics\n",
    "\n",
    "There are a few things that we should know about Jupyter notebooks up front\n",
    "\n",
    "1. Notebooks are made up of cells  \n",
    "1. Cells have inputs and outputs  \n",
    "1. We use cells of two main types:  \n",
    "  1. Markdown cells\n",
    "    -  Contain [markdown](https://github.com/adam-p/markdown-here/wiki/Markdown-Here-Cheatsheet) text\n",
    "    -  Output is rendered in place of the input when the cell is executed  \n",
    "  1. Code cells\n",
    "    -  Contain Python (or other language) code\n",
    "    -  Inputs have an `In [ ]:` to the left\n",
    "    -  When executed, output placed below the input with `Out [ ]:` to the left  "
   ]
  },
  {
   "cell_type": "code",
   "execution_count": null,
   "metadata": {
    "hide-output": false
   },
   "outputs": [],
   "source": [
    "1 + 1"
   ]
  },
  {
   "cell_type": "markdown",
   "metadata": {},
   "source": [
    "#### Editing cells\n",
    "\n",
    "The selected cells can be in one of two modes:\n",
    "\n",
    "1. Command mode: This mode is for making high level changes to the notebook\n",
    "  itself. For example changing the order of cells, creating a new cell etc…  \n",
    "  - You know you’re in command mode when there is a blue sidebar on left of\n",
    "    cell  \n",
    "  - Pressing keys tells Jupyter notebook to run commands. For example, `a`\n",
    "    adds a new cell above the current cell, `b` adds one below the current\n",
    "    cell, and `dd` deletes the current cell  \n",
    "  - up arrow (or `k`) changes the selected cell to the cell above the\n",
    "    current one and down arrow (or `j`) changes to the cell below  \n",
    "1. Edit mode: Used when editing the content inside of cells.  \n",
    "  - When in edit mode the selected cell displays a green sidebar on left  \n",
    "  - Can edit the content of a cell  \n",
    "\n",
    "\n",
    "Some useful commands\n",
    "\n",
    "- To go from command mode to edit mode press enter or double click the mouse  \n",
    "- Go from edit mode to command mode by pressing escape  \n",
    "- You can evaluate a cell by pressing shift+enter (meaning shift and enter at\n",
    "  the same time)  \n",
    "\n",
    "\n",
    "<blockquote>\n",
    "\n",
    "**Check for understanding**\n",
    "\n",
    "In the *code* cell below (notice the `In [ ]:` to the left) type a quote(`\"`), your name, then another quote (`\"`) and evaluate the cell\n",
    "\n",
    "> \n",
    "</blockquote>"
   ]
  },
  {
   "cell_type": "code",
   "execution_count": null,
   "metadata": {
    "hide-output": true
   },
   "outputs": [],
   "source": [
    "# code here!"
   ]
  },
  {
   "cell_type": "markdown",
   "metadata": {},
   "source": [
    "<blockquote>\n",
    "\n",
    "\n",
    "</blockquote>"
   ]
  },
  {
   "cell_type": "markdown",
   "metadata": {},
   "source": [
    "#### Getting help\n",
    "\n",
    "For more help with Jupyter notebook, see the `Help` menu at the top\n",
    "\n",
    "<blockquote>\n",
    "\n",
    "**Check for understanding**\n",
    "\n",
    "Experiment with the different options in the help menu. You might try items\n",
    "like “User Interface Tour” and “Keyboard Shortcuts”.\n",
    "\n",
    "\n",
    "</blockquote>"
   ]
  }
 ],
 "metadata": {
  "filename": "intro.rst",
  "kernelspec": {
   "display_name": "Python 3",
   "language": "python",
   "name": "python3"
  },
  "language_info": {
   "codemirror_mode": {
    "name": "ipython",
    "version": 3
   },
   "file_extension": ".py",
   "mimetype": "text/x-python",
   "name": "python",
   "nbconvert_exporter": "python",
   "pygments_lexer": "ipython3",
   "version": "3.7.3"
  },
  "title": "Introduction"
 },
 "nbformat": 4,
 "nbformat_minor": 2
}
