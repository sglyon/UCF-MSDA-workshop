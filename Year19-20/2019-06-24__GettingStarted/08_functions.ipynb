{
 "cells": [
  {
   "cell_type": "markdown",
   "metadata": {},
   "source": [
    "# Functions\n",
    "\n",
    "**Prerequisites**\n",
    "\n",
    "- [Introduction](intro.ipynb)  \n",
    "- [Basics](basics.ipynb)  \n",
    "- [Collections](collections.ipynb)  \n",
    "- [Control Flow](control_flow.ipynb)  \n",
    "\n",
    "\n",
    "**Outcomes**\n",
    "\n",
    "- Economic Production Functions  \n",
    "  \n",
    "  - Understand the basics of production functions in economics  \n",
    "  \n",
    "- Functions  \n",
    "  \n",
    "  - Know how to define your own function  \n",
    "  - Know how to find and write your own function documentation  \n",
    "  - Know why we use functions  \n",
    "  \n",
    "\n",
    "\n",
    "\n",
    "<a id='production-functions'></a>"
   ]
  },
  {
   "cell_type": "markdown",
   "metadata": {},
   "source": [
    "## Application: Production Functions\n",
    "\n",
    "Production functions are useful when modeling the economics of firms producing\n",
    "goods, or the aggregate output in an economy (e.g. the\n",
    "solow model which we will discuss later)\n",
    "\n",
    "The term “function” here is in a mathematical sense, but we will be making a\n",
    "tight connection between the programming of mathematical functions as Python\n",
    "functions"
   ]
  },
  {
   "cell_type": "markdown",
   "metadata": {},
   "source": [
    "### Factors of Production\n",
    "\n",
    "The [factors of production](https://en.wikipedia.org/wiki/Factors_of_production)\n",
    "are the inputs used in the production of some sort of output\n",
    "\n",
    "Some example factors of production include\n",
    "\n",
    "- [Physical capital](https://en.wikipedia.org/wiki/Physical_capital), e.g.\n",
    "  machines, buildings, computers, and power stations  \n",
    "- Labor, e.g. all of the hours of work from different types of employees of a\n",
    "  firm  \n",
    "- [Human Capital](https://en.wikipedia.org/wiki/Human_capital), e.g. the\n",
    "  knowledge of employees within a firm  \n",
    "\n",
    "\n",
    "A [production function](https://en.wikipedia.org/wiki/Production_function)\n",
    "maps a set of inputs into the output, e.g. the amount of wheat produced by a\n",
    "farm, or widgets produced in a factory\n",
    "\n",
    "As an example of the notation, denote the total units of labor and\n",
    "physical capital used in a factory as $ L $ and $ K $ respectively\n",
    "\n",
    "If we denote the physical output of the factory as $ Y $, then a production\n",
    "function $ F $ transforming labor and capital into output might have the\n",
    "form\n",
    "\n",
    "$$\n",
    "Y = F(K, L)\n",
    "$$\n",
    "\n",
    "\n",
    "<a id='cobb-douglass-example'></a>"
   ]
  },
  {
   "cell_type": "markdown",
   "metadata": {},
   "source": [
    "### An Example Production Function\n",
    "\n",
    "Throughout this lecture, we will use the\n",
    "[Cobb-Douglass](https://en.wikipedia.org/wiki/Cobb%E2%80%93Douglas_production_function)\n",
    "production function, as a vehicle for helping us understand how to create Python\n",
    "functions and why they are useful\n",
    "\n",
    "The Cobb-Douglass production function has appealing statistical properties when\n",
    "brought to data\n",
    "\n",
    "The Cobb-Douglass production function is displayed below\n",
    "\n",
    "$$\n",
    "Y = z K^{\\alpha} L^{1-\\alpha}\n",
    "$$\n",
    "\n",
    "The function is parameterized by\n",
    "\n",
    "- A parameter $ \\alpha \\in [0,1] $, called the “output elasticity of\n",
    "  capital”  \n",
    "- A value $ z $ called the [Total Factor Productivity](https://en.wikipedia.org/wiki/Total_factor_productivity) (TFP)  "
   ]
  },
  {
   "cell_type": "markdown",
   "metadata": {},
   "source": [
    "## What are (Python) functions?\n",
    "\n",
    "In this class we will often talk about `function`s\n",
    "\n",
    "So what is a function?\n",
    "\n",
    "We like to think of a function as being similar to a production line in a\n",
    "manufacturing plant: we pass zero or more things in, operations take place in a\n",
    "set linear sequence, and zero or more things come out (can you see how Python\n",
    "functions might relate to production functions??)\n",
    "\n",
    "We use functions for the following purposes:\n",
    "\n",
    "- **Re-usability**: Writing code to do a specific task just once, and\n",
    "  reuse the code by calling the function  \n",
    "- **Organization**: Keep the code for distinct operations separated and\n",
    "  organized  \n",
    "- **Sharing/collaboration**: Sharing code across multiple projects or\n",
    "  sharing pieces of code with collaborators  "
   ]
  },
  {
   "cell_type": "markdown",
   "metadata": {},
   "source": [
    "## How to define (Python) functions?\n",
    "\n",
    "The basic syntax to create our own function is as follows:"
   ]
  },
  {
   "cell_type": "code",
   "execution_count": null,
   "metadata": {
    "hide-output": false
   },
   "outputs": [],
   "source": [
    "def function_name(inputs):\n",
    "    # step 1\n",
    "    # step 2\n",
    "    # ...\n",
    "    return outputs"
   ]
  },
  {
   "cell_type": "markdown",
   "metadata": {},
   "source": [
    "Here we see two new *keywords*: `def` and `return`\n",
    "\n",
    "- `def` is used to tell Python we would like to define a new function  \n",
    "- `return` is used to tell Python what we would like to **return** from a\n",
    "  function  \n",
    "\n",
    "\n",
    "Let’s look at an example and then discuss each part:"
   ]
  },
  {
   "cell_type": "code",
   "execution_count": null,
   "metadata": {
    "hide-output": false
   },
   "outputs": [],
   "source": [
    "def mean(numbers):\n",
    "    total = sum(numbers)\n",
    "    N = len(numbers)\n",
    "    answer = total / N\n",
    "\n",
    "    return answer"
   ]
  },
  {
   "cell_type": "markdown",
   "metadata": {},
   "source": [
    "Here we defined a function `mean` that has one input (`numbers`),\n",
    "does three steps, and has one output (`answer`)\n",
    "\n",
    "Let’s see what happens when we call this function on the list of numbers\n",
    "`[1, 2, 3, 4]`"
   ]
  },
  {
   "cell_type": "code",
   "execution_count": null,
   "metadata": {
    "hide-output": false
   },
   "outputs": [],
   "source": [
    "x = [1, 2, 3, 4]\n",
    "the_mean = mean(x)\n",
    "the_mean"
   ]
  },
  {
   "cell_type": "markdown",
   "metadata": {},
   "source": [
    "### Scope\n",
    "\n",
    "Notice that we named the input to the function `x` and we called the output\n",
    "`the_mean`\n",
    "\n",
    "When we defined the function the input was called `numbers` and the output\n",
    "`answer`… what gives?\n",
    "\n",
    "This is an example of a programming concept called\n",
    "[variable scope](http://python-textbok.readthedocs.io/en/1.0/Variables_and_Scope.html)\n",
    "\n",
    "In Python, functions define their own scope for variables\n",
    "\n",
    "In English, this means that regardless of what name we give a variable that will\n",
    "be used as an input (`x` in this example), *inside* the body of the `mean`\n",
    "function the input will always be referred to as `numbers`\n",
    "\n",
    "It also means that although we called the output `answer` inside of the\n",
    "function `mean`, that this variable name was only valid inside of our\n",
    "function\n",
    "\n",
    "To use the output of the function we had to give it our own name (`the_mean`\n",
    "in this example)\n",
    "\n",
    "Another point to make here is that the intermediate variables we defined inside\n",
    "`mean` (`total` and `N`) are only defined inside of the `mean` function\n",
    "– we can’t access them from outside. We can verify this by trying to see what\n",
    "the value of `total` is:"
   ]
  },
  {
   "cell_type": "code",
   "execution_count": null,
   "metadata": {
    "hide-output": false
   },
   "outputs": [],
   "source": [
    "# uncomment the line below and execute to see the error\n",
    "# total"
   ]
  },
  {
   "cell_type": "markdown",
   "metadata": {},
   "source": [
    "The final point we want to make about scope is that function inputs and output\n",
    "don’t have to be given a name outside the function\n",
    "\n",
    "Here’s an example"
   ]
  },
  {
   "cell_type": "code",
   "execution_count": null,
   "metadata": {
    "hide-output": false
   },
   "outputs": [],
   "source": [
    "mean([10, 20, 30])"
   ]
  },
  {
   "cell_type": "markdown",
   "metadata": {},
   "source": [
    "Notice that we didn’t name the input or the output, but the function was\n",
    "called successfully\n",
    "\n",
    "<blockquote>\n",
    "\n",
    "**Check for understanding**\n",
    "\n",
    "Turn to your neighbor and talk about variable scope\n",
    "\n",
    "Have one partner describe why trying to display the value of `answer`\n",
    "would cause Python to complain about a `NameError`\n",
    "\n",
    "Have the other partner describe why we would see an error if we tried to\n",
    "`print(N)`\n",
    "\n",
    "\n",
    "</blockquote>"
   ]
  },
  {
   "cell_type": "markdown",
   "metadata": {},
   "source": [
    "Now we’ll use our new knowledge to define a function which computes the output\n",
    "from a Cobb-Douglass production function with parameters $ z = 1 $ and\n",
    "$ \\alpha = 0.33 $ and takes inputs $ K $ and $ L $"
   ]
  },
  {
   "cell_type": "code",
   "execution_count": null,
   "metadata": {
    "hide-output": false
   },
   "outputs": [],
   "source": [
    "def cobb_douglass(K, L):\n",
    "\n",
    "    # Create alpha and z\n",
    "    z = 1\n",
    "    alpha = 0.33\n",
    "\n",
    "    return z * K**alpha * L**(1 - alpha)"
   ]
  },
  {
   "cell_type": "markdown",
   "metadata": {},
   "source": [
    "We can use this function just like we did the mean function"
   ]
  },
  {
   "cell_type": "code",
   "execution_count": null,
   "metadata": {
    "hide-output": false
   },
   "outputs": [],
   "source": [
    "cobb_douglass(1.0, 0.5)"
   ]
  },
  {
   "cell_type": "markdown",
   "metadata": {},
   "source": [
    "\n",
    "<a id='returns-to-scale'></a>"
   ]
  },
  {
   "cell_type": "markdown",
   "metadata": {},
   "source": [
    "### Re-using functions\n",
    "\n",
    "One question that economists are often interested in is, “how much does output\n",
    "change if we modify our inputs?”\n",
    "\n",
    "For example, take a production function $ Y_1 = F(K_1,L_1) $ which produces\n",
    "$ Y_1 $ units of the goods\n",
    "\n",
    "If we then multiply the inputs each by $ \\gamma $, so that\n",
    "$ K_2 = \\gamma K_1 $ and $ L_2 = \\gamma L_1 $ then the output is\n",
    "\n",
    "$$\n",
    "Y_2 = F(K_2, L_2) = F(\\gamma K_1, \\gamma L_1)\n",
    "$$\n",
    "\n",
    "How does $ Y_1 $ compare to $ Y_2 $?\n",
    "\n",
    "Answering this question involves something called *returns to scale*\n",
    "\n",
    "Returns to scale tells us whether our inputs are more or less productive as we\n",
    "have more of them\n",
    "\n",
    "For example, imagine that you run a restaurant. How would you expect the amount\n",
    "of food you could produce would change if you could build an exact replica of\n",
    "your restaurant and kitchen and hire the same number of cooks and waiters? You\n",
    "would probably expect it to double.\n",
    "\n",
    "If, for any $ K, L $, we multiply $ K, L $ by a value $ \\gamma $\n",
    "then\n",
    "\n",
    "- If $ \\frac{Y_2}{Y_1} < \\gamma $ then we say the production function has\n",
    "  decreasing returns to scale  \n",
    "- If $ \\frac{Y_2}{Y_1} = \\gamma $ then we say the production function has\n",
    "  constant returns to scale  \n",
    "- If $ \\frac{Y_2}{Y_1} > \\gamma $ then we say the production function has\n",
    "  increasing returns to scale  \n",
    "\n",
    "\n",
    "Let’s try it and see what our function is!"
   ]
  },
  {
   "cell_type": "code",
   "execution_count": null,
   "metadata": {
    "hide-output": false
   },
   "outputs": [],
   "source": [
    "y1 = cobb_douglass(1.0, 0.5)\n",
    "print(y1)\n",
    "y2 = cobb_douglass(2*1.0, 2*0.5)\n",
    "print(y2)"
   ]
  },
  {
   "cell_type": "markdown",
   "metadata": {},
   "source": [
    "How did $ Y_1 $ and $ Y_2 $ relate?"
   ]
  },
  {
   "cell_type": "code",
   "execution_count": null,
   "metadata": {
    "hide-output": false
   },
   "outputs": [],
   "source": [
    "y2 - 2*y1"
   ]
  },
  {
   "cell_type": "markdown",
   "metadata": {},
   "source": [
    "$ Y_2 $ was exactly double $ Y_1 $!\n",
    "\n",
    "Let’s write a function that will compute the returns to scale for different\n",
    "values of $ K $ and $ L $\n",
    "\n",
    "This is an example of how writing functions can allow us to re-use code\n",
    "in ways we might not originally anticipate (you didn’t know we’d be\n",
    "writing a `returns_to_scale` function when we wrote `cobb_douglass`)"
   ]
  },
  {
   "cell_type": "code",
   "execution_count": null,
   "metadata": {
    "hide-output": false
   },
   "outputs": [],
   "source": [
    "def returns_to_scale(K, L, gamma):\n",
    "    y1 = cobb_douglass(K, L)\n",
    "    y2 = cobb_douglass(gamma*K, gamma*L)\n",
    "    y_ratio = y2 / y1\n",
    "    return y_ratio / gamma"
   ]
  },
  {
   "cell_type": "code",
   "execution_count": null,
   "metadata": {
    "hide-output": false
   },
   "outputs": [],
   "source": [
    "returns_to_scale(1.0, 0.5, 2.0)"
   ]
  },
  {
   "cell_type": "markdown",
   "metadata": {},
   "source": [
    "<blockquote>\n",
    "\n",
    "**Check for understanding**\n",
    "\n",
    "What happens if we try different inputs in our Cobb-Douglass production\n",
    "function?\n",
    "\n",
    "\n",
    "</blockquote>"
   ]
  },
  {
   "cell_type": "code",
   "execution_count": null,
   "metadata": {
    "hide-output": false
   },
   "outputs": [],
   "source": [
    "# Compute returns to scale with different values of `K` and `L` and `gamma`"
   ]
  },
  {
   "cell_type": "markdown",
   "metadata": {},
   "source": [
    "<blockquote>\n",
    "\n",
    "</blockquote>"
   ]
  },
  {
   "cell_type": "markdown",
   "metadata": {},
   "source": [
    "It turns out that with a little bit of algebra, we can check that this will\n",
    "always hold for our [Cobb-Douglass example](#cobb-douglass-example) above\n",
    "\n",
    "To show this, take an arbitrary $ K, L $ and multiply the inputs by an\n",
    "arbitrary $ \\gamma $\n",
    "\n",
    "$$\n",
    "\\begin{aligned}\n",
    "    F(\\gamma K, \\gamma L) &= z (\\gamma K)^{\\alpha} (\\gamma L)^{1-\\alpha}\\\\\n",
    "    &=  z \\gamma^{\\alpha}\\gamma^{1-\\alpha} K^{\\alpha} L^{1-\\alpha}\\\\\n",
    "    &= \\gamma z K^{\\alpha} L^{1-\\alpha} = \\gamma F(K, L)\n",
    "\\end{aligned}\n",
    "$$\n",
    "\n",
    "To give an example of a production function that is not CRS, look at a\n",
    "generalization of the Cobb-Douglass production function to have different\n",
    "“output elasticities” for the 2 inputs\n",
    "\n",
    "$$\n",
    "Y = z K^{\\alpha_1} L^{\\alpha_2}\n",
    "$$\n",
    "\n",
    "Note that if $ \\alpha_2 = 1 - \\alpha_1 $ this is our Cobb-Douglass\n",
    "production function\n",
    "\n",
    "<blockquote>\n",
    "\n",
    "**Check for understanding**\n",
    "\n",
    "Define a function named `var` that takes a list (call it `x`) and\n",
    "computes the variance. This function should use the mean function that we\n",
    "defined earlier.\n",
    "\n",
    "Hint: $ \\text{variance} = \\sum_i (x_i - \\text{mean}(x))^2 $\n",
    "\n",
    "\n",
    "</blockquote>"
   ]
  },
  {
   "cell_type": "markdown",
   "metadata": {},
   "source": [
    "<blockquote>\n",
    "\n",
    "**Check for understanding**\n",
    "\n",
    "Try to get help for the functions `cobb_douglass` and\n",
    "`returns_to_scale` using the `?`\n",
    "\n",
    "Did it work? Remember this, we’ll come back to it shortly\n",
    "\n",
    "\n",
    "</blockquote>"
   ]
  },
  {
   "cell_type": "markdown",
   "metadata": {},
   "source": [
    "\n",
    "<a id='marginal-products'></a>"
   ]
  },
  {
   "cell_type": "markdown",
   "metadata": {},
   "source": [
    "### Multiple returns\n",
    "\n",
    "Another valuable element to analyze on production functions is to consider how\n",
    "output changes as we change only one of the inputs. We will call this the\n",
    "marginal product.\n",
    "\n",
    "For example, compare the output using $ K, L $ units of inputs to that with\n",
    "an $ \\epsilon $ units of labor\n",
    "\n",
    "Then the marginal product of labor (MPL) is defined as\n",
    "\n",
    "$$\n",
    "\\frac{F(K, L + \\varepsilon) - F(K, L)}{\\varepsilon}\n",
    "$$\n",
    "\n",
    "This tells us how much additional output is created relative to the additional\n",
    "input (Spoiler alert: this should look like the definition for a partial\n",
    "derivative!)\n",
    "\n",
    "If the input can be divided into small units, then we can use calculus to take\n",
    "this limit, using the partial derivative of the production function relative to\n",
    "that input\n",
    "\n",
    "In this case, we define the marginal product of labor (MPL) and marginal product\n",
    "of capital (MPK) as\n",
    "\n",
    "$$\n",
    "\\begin{aligned}\n",
    "MPL(K, L) &= \\frac{\\partial F(K, L)}{\\partial L}\\\\\n",
    "MPK(K, L) &= \\frac{\\partial F(K, L)}{\\partial K}\n",
    "\\end{aligned}\n",
    "$$\n",
    "\n",
    "In the [Cobb-Douglass](#cobb-douglass-example) example above, this becomes\n",
    "\n",
    "$$\n",
    "\\begin{aligned}\n",
    "MPK(K, L) &= z  \\alpha \\left(\\frac{K}{L} \\right)^{\\alpha - 1}\\\\\n",
    "MPL(K, L) &= (1-\\alpha) z \\left(\\frac{K}{L} \\right)^{\\alpha}\\\\\n",
    "\\end{aligned}\n",
    "$$\n",
    "\n",
    "Let’s test it out with Python! We’ll also see that we can actually return\n",
    "multiple things in a Python function.\n",
    "\n",
    "The syntax for a return statement with multiple items is return item1, item2, …\n",
    "\n",
    "In this case, we’ll compute both the MPL and the MPK and return both"
   ]
  },
  {
   "cell_type": "code",
   "execution_count": null,
   "metadata": {
    "hide-output": false
   },
   "outputs": [],
   "source": [
    "def marginal_products(K, L):\n",
    "\n",
    "    mpl = (cobb_douglass(K, L + 1e-4) - cobb_douglass(K, L)) / 1e-4\n",
    "    mpk = (cobb_douglass(K + 1e-4, L) - cobb_douglass(K, L)) / 1e-4\n",
    "\n",
    "    return mpl, mpk"
   ]
  },
  {
   "cell_type": "code",
   "execution_count": null,
   "metadata": {
    "hide-output": false
   },
   "outputs": [],
   "source": [
    "marginal_products(1.0, 0.5)"
   ]
  },
  {
   "cell_type": "markdown",
   "metadata": {},
   "source": [
    "### Documentation\n",
    "\n",
    "In a previous exercise we asked you to find help for the `cobb_douglass` and\n",
    "`returns_to_scale` functions using `?`\n",
    "\n",
    "It didn’t provide any useful information\n",
    "\n",
    "In order to be able to provide this type of help information, we need to\n",
    "add what Python programmers call a “docstring” to our functions\n",
    "\n",
    "This is done by putting a string (not assigned to any variable name) as\n",
    "the first line of the *body* of the function (after the line with\n",
    "`def`)\n",
    "\n",
    "Below is a new version of the template we used to define functions"
   ]
  },
  {
   "cell_type": "code",
   "execution_count": null,
   "metadata": {
    "hide-output": false
   },
   "outputs": [],
   "source": [
    "def function_name(inputs):\n",
    "    \"\"\"\n",
    "    Docstring\n",
    "    \"\"\"\n",
    "    # step 1\n",
    "    # step 2\n",
    "    # ...\n",
    "    return outputs"
   ]
  },
  {
   "cell_type": "markdown",
   "metadata": {},
   "source": [
    "Let’s re-define our `cobb_douglass` function to include a docstring"
   ]
  },
  {
   "cell_type": "code",
   "execution_count": null,
   "metadata": {
    "hide-output": false
   },
   "outputs": [],
   "source": [
    "def cobb_douglass(K, L):\n",
    "    \"\"\"\n",
    "    Computes the production F(K, L) for a Cobb-Douglas production function\n",
    "\n",
    "    Takes the form F(K, L) = z K^{\\alpha} L^{1 - \\alpha}\n",
    "\n",
    "    We restrict z = 1 and alpha = 0.33\n",
    "    \"\"\"\n",
    "    return 1.0 * K**(0.33) * L**(1.0 - 0.33)"
   ]
  },
  {
   "cell_type": "markdown",
   "metadata": {},
   "source": [
    "Now when we have Jupyter evaluate `cobb_douglass?` function our message is\n",
    "displayed"
   ]
  },
  {
   "cell_type": "markdown",
   "metadata": {
    "hide-output": false
   },
   "source": [
    "```python3\n",
    "cobb_douglass?\n",
    "```\n"
   ]
  },
  {
   "cell_type": "markdown",
   "metadata": {},
   "source": [
    "We recommend that you always include at least a very simple docstring in\n",
    "your functions\n",
    "\n",
    "This is in the same spirit as adding comments to your code — it makes it easier\n",
    "for future readers/users (including yourself) to understand what the code does\n",
    "\n",
    "<blockquote>\n",
    "\n",
    "**Check for understanding**\n",
    "\n",
    "Redefine the `returns_to_scale` function and add a docstring\n",
    "\n",
    "Confirm that it works by running the cell containing `returns_to_scale?` below\n",
    "\n",
    "*Note*: you do not need to change the actual code in the function — just\n",
    "copy/paste and add a docstring in the correct line\n",
    "\n",
    "\n",
    "\n",
    "```python3\n",
    "# re-define the `returns_to_scale` function here\n",
    "```\n",
    "\n",
    "</blockquote>"
   ]
  },
  {
   "cell_type": "code",
   "execution_count": null,
   "metadata": {
    "hide-output": true
   },
   "outputs": [],
   "source": [
    "# test it here\n",
    "returns_to_scale?"
   ]
  },
  {
   "cell_type": "markdown",
   "metadata": {},
   "source": [
    "<blockquote>\n",
    "\n",
    "</blockquote>"
   ]
  },
  {
   "cell_type": "markdown",
   "metadata": {},
   "source": [
    "### Default and keyword arguments\n",
    "\n",
    "Functions can have optional arguments\n",
    "\n",
    "To accomplish this we must these arguments a *default value* by saying\n",
    "`name=default_value` instead of just `name` as we list the arguments\n",
    "\n",
    "To demonstrate this functionality, let’s now make $ z $ and $ \\alpha $\n",
    "arguments to our cobb_douglass function!"
   ]
  },
  {
   "cell_type": "code",
   "execution_count": null,
   "metadata": {
    "hide-output": false
   },
   "outputs": [],
   "source": [
    "def cobb_douglass(K, L, alpha=0.33, z=1):\n",
    "    \"\"\"\n",
    "    Computes the production F(K, L) for a Cobb-Douglas production function\n",
    "\n",
    "    Takes the form F(K, L) = z K^{\\alpha} L^{1 - \\alpha}\n",
    "    \"\"\"\n",
    "    return z * K**(alpha) * L**(1.0 - alpha)"
   ]
  },
  {
   "cell_type": "markdown",
   "metadata": {},
   "source": [
    "We can now call this function by passing in just K and L. Notice that it will\n",
    "produce same result as earlier because `alpha` and `z` are the same as we\n",
    "set them earlier"
   ]
  },
  {
   "cell_type": "code",
   "execution_count": null,
   "metadata": {
    "hide-output": false
   },
   "outputs": [],
   "source": [
    "cobb_douglass(1.0, 0.5)"
   ]
  },
  {
   "cell_type": "markdown",
   "metadata": {},
   "source": [
    "However, we can also set the other arguments of the function by passing\n",
    "more than just K/L"
   ]
  },
  {
   "cell_type": "code",
   "execution_count": null,
   "metadata": {
    "hide-output": false
   },
   "outputs": [],
   "source": [
    "cobb_douglass(1.0, 0.5, 0.35, 1.6)"
   ]
  },
  {
   "cell_type": "markdown",
   "metadata": {},
   "source": [
    "In the example above we used `alpha = 0.35`, `z = 1.6`\n",
    "\n",
    "We can also refer to function arguments by their name, instead of only their\n",
    "position (order)\n",
    "\n",
    "To do this we would write `func_name(arg=value)` for as many of the arguments\n",
    "as we want\n",
    "\n",
    "Here’s how to do that with our `cobb_douglass` example"
   ]
  },
  {
   "cell_type": "code",
   "execution_count": null,
   "metadata": {
    "hide-output": false
   },
   "outputs": [],
   "source": [
    "cobb_douglass(1.0, 0.5, z=1.5)"
   ]
  },
  {
   "cell_type": "markdown",
   "metadata": {},
   "source": [
    "<blockquote>\n",
    "\n",
    "**Check for understanding**\n",
    "\n",
    "Experiment with the `sep` and `end` arguments to the `print` function\n",
    "\n",
    "These can *only* be set by name\n",
    "\n",
    "Look up the docstring if you are unsure of how they work\n",
    "\n",
    "\n",
    "</blockquote>"
   ]
  },
  {
   "cell_type": "code",
   "execution_count": null,
   "metadata": {
    "hide-output": true
   },
   "outputs": [],
   "source": [
    "# Look up the docstring\n",
    "print?"
   ]
  },
  {
   "cell_type": "markdown",
   "metadata": {},
   "source": [
    "<blockquote>\n",
    "\n",
    "</blockquote>"
   ]
  },
  {
   "cell_type": "markdown",
   "metadata": {},
   "source": [
    "### Aside: Methods\n",
    "\n",
    "As we learned earlier, all variables in Python have a type associated\n",
    "with them\n",
    "\n",
    "Different types of variables have different functions or operations\n",
    "defined for them\n",
    "\n",
    "For example, I can divide one number by another, or make a string uppercase\n",
    "\n",
    "It wouldn’t make sense to divide one string by another or make a number\n",
    "uppercase\n",
    "\n",
    "When certain functionality is closely tied to the type of an object, it\n",
    "is often implemented as a special kind of function known as a **method**\n",
    "\n",
    "For now you only need to know two things about methods:\n",
    "\n",
    "1. We call them by doing `variable.method_name(other_arguments)`\n",
    "  instead of `function_name(variable, other_arguments)`  \n",
    "1. A method is a function, even though we call it using a different\n",
    "  notation  \n",
    "\n",
    "\n",
    "When we introduced the core data types, we saw many methods defined on\n",
    "these types\n",
    "\n",
    "Let’s revisit them for the `str`, or string type\n",
    "\n",
    "Notice that we call each of these functions using the `dot` syntax\n",
    "described above"
   ]
  },
  {
   "cell_type": "code",
   "execution_count": null,
   "metadata": {
    "hide-output": false
   },
   "outputs": [],
   "source": [
    "s = \"This is my handy string!\""
   ]
  },
  {
   "cell_type": "code",
   "execution_count": null,
   "metadata": {
    "hide-output": false
   },
   "outputs": [],
   "source": [
    "s.upper()"
   ]
  },
  {
   "cell_type": "code",
   "execution_count": null,
   "metadata": {
    "hide-output": false
   },
   "outputs": [],
   "source": [
    "s.title()"
   ]
  },
  {
   "cell_type": "markdown",
   "metadata": {},
   "source": [
    "<blockquote>\n",
    "\n",
    "**Check for understanding**\n",
    "\n",
    "Try making `s` uppercase by calling `upper(s)`\n",
    "\n",
    "What happens?\n",
    "\n",
    "Explain *why* this happened to your neighbor\n",
    "\n",
    "\n",
    "</blockquote>"
   ]
  }
 ],
 "metadata": {
  "filename": "functions.rst",
  "kernelspec": {
   "display_name": "Python 3",
   "language": "python",
   "name": "python3"
  },
  "language_info": {
   "codemirror_mode": {
    "name": "ipython",
    "version": 3
   },
   "file_extension": ".py",
   "mimetype": "text/x-python",
   "name": "python",
   "nbconvert_exporter": "python",
   "pygments_lexer": "ipython3",
   "version": "3.7.3"
  },
  "title": "Functions"
 },
 "nbformat": 4,
 "nbformat_minor": 2
}
