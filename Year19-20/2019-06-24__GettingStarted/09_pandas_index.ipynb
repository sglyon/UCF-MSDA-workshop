{
 "cells": [
  {
   "cell_type": "markdown",
   "metadata": {},
   "source": [
    "# Pandas\n",
    "\n",
    "This section of the workshop covers data ingestion, cleaning,\n",
    "manipulation, analysis, and visualization in Python\n",
    "\n",
    "We build on the skills learned in the [Python\n",
    "fundamentals](../pyfun/index) section and teach the\n",
    "[pandas](https://pandas.pydata.org) library\n",
    "\n",
    "At the end of this section, you will be able to\n",
    "\n",
    "- Access data stored in a variety of formats  \n",
    "- Combine multiple datasets based on observations that link them\n",
    "  together  \n",
    "- Perform custom operations on tables of data  \n",
    "- Use the split-apply-combine method for analyzing sub-groups of data  \n",
    "- Automate static analysis on changing data  \n",
    "- Produce publication quality visualizations  \n",
    "\n",
    "\n",
    "In the end, our goal with this section is to give you the skills\n",
    "necessary to – at a minimum – **immediately** replicate your current\n",
    "data analysis workflow in Python with no loss of total (computer +\n",
    "human) time\n",
    "\n",
    "This is a lower bound on the benefits you should expect to receive by\n",
    "studying this section\n",
    "\n",
    "The expression “practice makes perfect” is especially true here\n",
    "\n",
    "As you work with these tools, both the time to write and the time to run\n",
    "your programs will fall dramatically\n",
    "\n",
    "- [Introduction](intro.ipynb)\n",
    "  - [Pandas](intro.ipynb#pandas)\n",
    "  - [Series](intro.ipynb#series)\n",
    "  - [DataFrame](intro.ipynb#dataframe)\n",
    "  - [Data types](intro.ipynb#data-types)\n",
    "  - [Changing DataFrames](intro.ipynb#changing-dataframes)\n",
    "- [Basic functionality](basics.ipynb)\n",
    "  - [State unemployment Data](basics.ipynb#state-unemployment-data)\n",
    "  - [Dates in Pandas](basics.ipynb#dates-in-pandas)\n",
    "  - [DataFrame aggregations](basics.ipynb#dataframe-aggregations)\n",
    "  - [Transforms](basics.ipynb#transforms)\n",
    "  - [Boolean Selection](basics.ipynb#boolean-selection)"
   ]
  },
  {
   "cell_type": "code",
   "execution_count": null,
   "metadata": {},
   "outputs": [],
   "source": []
  }
 ],
 "metadata": {
  "filename": "index.rst",
  "kernelspec": {
   "display_name": "Python 3",
   "language": "python",
   "name": "python3"
  },
  "language_info": {
   "codemirror_mode": {
    "name": "ipython",
    "version": 3
   },
   "file_extension": ".py",
   "mimetype": "text/x-python",
   "name": "python",
   "nbconvert_exporter": "python",
   "pygments_lexer": "ipython3",
   "version": "3.7.3"
  },
  "title": "Pandas"
 },
 "nbformat": 4,
 "nbformat_minor": 2
}
