{
 "cells": [
  {
   "cell_type": "markdown",
   "metadata": {},
   "source": [
    "# MSDA Seminar Series\n",
    "\n",
    "**Spencer Lyon**\n",
    "\n",
    "**Week 2: 2019-06-24**\n",
    "\n",
    "Link to update materials:\n",
    "- [locally](http://localhost:8888/git-pull?repo=https%3A%2F%2Fgithub.com%2Fsglyon%2FUCF-MSDA-workshop&urlpath=lab%2Ftree%2FUCF-MSDA-workshop%2F)\n",
    "- On AWS server **TODO**\n",
    "\n",
    "- - -\n",
    "\n",
    "\n",
    "Today we start learning Python\n",
    "\n",
    "**Warning**: The materials will start out slowly (very slowly if you already know Python), but will pick up quickly\n",
    "\n",
    "We need to cover the very basics to make sure everyone can keep up and follow along when we get to more exciting topics in the comings weeks\n",
    "\n",
    "We'll do a \"pre-evaluation\" so I can guage how much detail we need for covering the basics\n",
    "\n",
    "\n",
    "Outline:\n",
    "\n",
    "- [Introduction](02_intro.ipynb) (35 minutes)\n",
    "    - Why Python? (5 minutes)\n",
    "    - [Installation](03_local_install.ipynb) (15 minutes)\n",
    "    - Jupyter basics (back to [intro file](02_intro.ipynb)) (15 minutes)\n",
    "- [Python basics](04_pyfun.ipynb) (25-?? minutes)\n",
    "    - Fast track pre-eval\n",
    "    - In depth materials\n",
    "- Break/QA time (5-10 minutes)\n",
    "- [Intro to pandas](09_pandas_index.ipynb) (?? minutes)\n",
    "    - [Intro](10_pandas_intro.ipynb)\n",
    "    - [Basics](11_pandas_basics.ipynb)"
   ]
  },
  {
   "cell_type": "markdown",
   "metadata": {},
   "source": []
  }
 ],
 "metadata": {
  "kernelspec": {
   "display_name": "Python 3",
   "language": "python",
   "name": "python3"
  },
  "language_info": {
   "codemirror_mode": {
    "name": "ipython",
    "version": 3
   },
   "file_extension": ".py",
   "mimetype": "text/x-python",
   "name": "python",
   "nbconvert_exporter": "python",
   "pygments_lexer": "ipython3",
   "version": "3.7.3"
  }
 },
 "nbformat": 4,
 "nbformat_minor": 2
}
