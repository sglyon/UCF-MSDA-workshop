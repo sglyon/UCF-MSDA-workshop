{
 "cells": [
  {
   "cell_type": "markdown",
   "metadata": {},
   "source": [
    "# Python fundamentals\n",
    "\n",
    "The materials in this section are written for a *complete programming beginner* to learn the basics of the Python programming language\n",
    "\n",
    "The goal is to move from zero experience to competency with theh core Python concepts necessary to do data science work\n",
    "\n",
    "These materials come from a course I co-wrote to teach data science concepts and applications to economists -- thanks to my co-authors\n",
    "\n",
    "There will be a lot of writing that we will not cover directly in class: Consider this prose as a reference you can use to review or learn on your own\n",
    "\n",
    "The text should be self-contained, while the in-class discussion is the quick verison\n",
    "\n",
    "## Structure\n",
    "\n",
    "The materials are broken down into a handful of notebooks:\n",
    "\n",
    "Outline:\n",
    "\n",
    "- [Core data types](05_basics.ipynb): variable assignment, numbers, strings\n",
    "- [Collections](06_collections.ipynb): lists, tuples, dicts, and sets\n",
    "- [Control Folow](07_control_flow.ipynb): if/else, for, while\n",
    "- [Functions](08_functions.ipynb): user defined functions in Python\n",
    "\n",
    "This notebook also contains a set of exercises you should be able to complete after mastering the concepts in the \"content\" notebooks listed above\n",
    "\n",
    "You should feel comfortable in your Python skills when you can complete most or all of these exercises on your own (google is **always** allowed)"
   ]
  },
  {
   "cell_type": "markdown",
   "metadata": {},
   "source": [
    "## Fast track: Python fundamentals exercises\n",
    "\n",
    "Before starting from ground-zero, let's make sure we need to\n",
    "\n",
    "This notebook contains a number of exercises that will test your mastery of the basics of the Python language\n",
    "\n",
    "Please take some time to attempt them\n",
    "\n",
    "Feel free to work with your neighbor -- programming is more fun and outcomes are better when we work together!\n",
    "\n",
    "As you work please guage your \"fluency\" with the topics -- we'll collect results when we are finished\n",
    "\n",
    "If you can't complete any of the exercises, _don't panic!_\n",
    "\n",
    "These are meant to guage how experienced you are with the language and nothing else\n",
    "\n",
    "Note that beneath each `Question # `heading there will be a link titled `Reference notebook` that sends you to the correct notebook from the detailed materials for studying the topics addressed in the question\n",
    "\n",
    "### Feedback\n",
    "\n",
    "After you work on a question, if you found it difficult please let us know by clicking on the question number at [this poll](https://pollev.com/spencerlyon364)\n",
    "\n",
    "This poll is live and we can keep track of which questions were the most difficult by looking [here](https://www.polleverywhere.com/multiple_choice_polls/PhtgyOb8NBNlcXhDQCvh4?preview=true)"
   ]
  },
  {
   "cell_type": "markdown",
   "metadata": {},
   "source": [
    "## Question 1\n",
    "\n",
    "[*Reference notebook*](02_intro.ipynb)\n",
    "\n",
    "Below this cell, add\n",
    "\n",
    "1. A markdown cell with\n",
    "  -  two levels of headings;\n",
    "  -  a numbered list;\n",
    "  -  an unnumbered list;\n",
    "  -  text with a `%` and a `\\$` sign (hint: look at this cell and [escape characters](https://www.markdownguide.org/basic-syntax/#characters-you-can-escape))\n",
    "  -  backticked code (see [https://github.com/adam-p/markdown-here/wiki/Markdown-Cheatsheet](https://github.com/adam-p/markdown-here/wiki/Markdown-Cheatsheet))  \n",
    "1. A markdown cell with\n",
    "  - the [quadratic formula](https://en.wikipedia.org/wiki/Quadratic_formula) using [LaTeX](https://jupyter-notebook.readthedocs.io/en/stable/examples/Notebook/Typesetting%20Equations.html) embedded in the cell  "
   ]
  },
  {
   "cell_type": "markdown",
   "metadata": {},
   "source": [
    "## Question 2\n",
    "\n",
    "[*Reference notebook*](05_basics.ipynb)\n",
    "\n",
    "Using the following code setting up variables `a, b,` and `c`, find the roots of the following with the quadratic formula\n",
    "\n",
    "$$\n",
    "a x^2 + b x + c = 0\n",
    "$$"
   ]
  },
  {
   "cell_type": "code",
   "execution_count": 23,
   "metadata": {
    "hide-output": false
   },
   "outputs": [],
   "source": [
    "a = 1.0\n",
    "b = 2.0\n",
    "c = 1.0\n",
    "# Your code goes here"
   ]
  },
  {
   "cell_type": "markdown",
   "metadata": {},
   "source": [
    "## Question 3\n",
    "\n",
    "[*Reference notebook*](05_basics.ipynb)\n",
    "\n",
    "In the cell below use tab completion to find a function from the time\n",
    "module that will display the **local** time.\n",
    "\n",
    "Use `time.FUNC_NAME?` (where `FUNC_NAME` is replaced with the name\n",
    "of the function you found) to see information about that function and\n",
    "then call the function. (Hint: look for something to do with the word\n",
    "`local`)."
   ]
  },
  {
   "cell_type": "code",
   "execution_count": 24,
   "metadata": {
    "hide-output": false
   },
   "outputs": [],
   "source": [
    "import time\n",
    "# Your code goes here\n",
    "# time. # uncomment and hit <TAB> to see functions"
   ]
  },
  {
   "cell_type": "markdown",
   "metadata": {},
   "source": [
    "## Question 4\n",
    "\n",
    "[*Reference notebook*](05_basics.ipynb)\n",
    "\n",
    "Create the following variables\n",
    "\n",
    "- `D`: A floating point number with the value 10,000  \n",
    "- `r`: A floating point number with value 0.025  \n",
    "- `T`: An integer with value 30  \n",
    "\n",
    "\n",
    "Compute the present discounted value of a payment (`D`) made\n",
    "in `T` years assuming an interest rate of 2.5%. Save this value to\n",
    "a new variable called `PDV` and print your output\n",
    "\n",
    "Hint: The formula is\n",
    "\n",
    "$$\n",
    "\\text{PDV} = \\frac{D}{(1 + r)^T}\n",
    "$$"
   ]
  },
  {
   "cell_type": "code",
   "execution_count": 25,
   "metadata": {
    "hide-output": false
   },
   "outputs": [],
   "source": [
    "# Your code goes here"
   ]
  },
  {
   "cell_type": "markdown",
   "metadata": {},
   "source": [
    "## Question 5\n",
    "\n",
    "[*Reference notebook*](05_basics.ipynb)\n",
    "\n",
    "Using the variables `x` and `y`, how could you create the sentence\n",
    "`Hello World`?\n",
    "\n",
    "Hint: Think about how to represent a space as a string."
   ]
  },
  {
   "cell_type": "code",
   "execution_count": 26,
   "metadata": {
    "hide-output": false
   },
   "outputs": [],
   "source": [
    "x = \"Hello\"\n",
    "y = \"World\"\n",
    "# Your code goes here"
   ]
  },
  {
   "cell_type": "markdown",
   "metadata": {},
   "source": [
    "## Question 6\n",
    "\n",
    "[*Reference notebook*](05_basics.ipynb)\n",
    "\n",
    "Suppose you are working with price data and come across the value\n",
    "`\"\\$6.50\"`\n",
    "\n",
    "When Python tries to interpret this value, it ends up being the string\n",
    "`\"\\$6.50\"`, instead of the number `6.50` (Quiz: why is this a\n",
    "problem? Think about the examples above)\n",
    "\n",
    "In this exercise, your task is to convert the variable `price` below\n",
    "into a number\n",
    "\n",
    "*Hint*: Once the string is in a suitable format, you can call write\n",
    "`float(clean_price)` to make it a number"
   ]
  },
  {
   "cell_type": "code",
   "execution_count": 27,
   "metadata": {
    "hide-output": false
   },
   "outputs": [],
   "source": [
    "price = \"\\$6.50\"\n",
    "# Your code goes here"
   ]
  },
  {
   "cell_type": "markdown",
   "metadata": {},
   "source": [
    "## Question 7\n",
    "\n",
    "[*Reference notebook*](05_basics.ipynb)\n",
    "\n",
    "Use Python formatting (e.g. `print(f\"text {somecode}\")` where `somecode` is a valid expression or variable name) to produce the following\n",
    "output"
   ]
  },
  {
   "cell_type": "markdown",
   "metadata": {
    "hide-output": false
   },
   "source": [
    "```text\n",
    "The 1st quarter revenue was \\$110M\n",
    "The 2nd quarter revenue was \\$95M\n",
    "The 3rd quarter revenue was \\$100M\n",
    "The 4th quarter revenue was \\$130M\n",
    "```\n"
   ]
  },
  {
   "cell_type": "code",
   "execution_count": 28,
   "metadata": {
    "hide-output": false
   },
   "outputs": [],
   "source": [
    "# Your code goes here"
   ]
  },
  {
   "cell_type": "markdown",
   "metadata": {},
   "source": [
    "## Question 8\n",
    "\n",
    "[*Reference notebook*](06_collections.ipynb)\n",
    "\n",
    "Define two lists y and z\n",
    "\n",
    "They can contain **anything you want**\n",
    "\n",
    "Check what happens when you do `y + z`\n",
    "When you have finished that, try `2*y` and `y*2`\n",
    "\n",
    "Briefly explain"
   ]
  },
  {
   "cell_type": "code",
   "execution_count": 29,
   "metadata": {
    "hide-output": false
   },
   "outputs": [],
   "source": [
    "y = [] # fill me in!\n",
    "z = [] # fill me in!\n",
    "# Your code goes here"
   ]
  },
  {
   "cell_type": "markdown",
   "metadata": {},
   "source": [
    "## Question 9 and 10\n",
    "\n",
    "Take the following stock market data, including a stock ticker, price, and company name:\n",
    "\n",
    "|Ticker|Price|Name|\n",
    "|:------:|:-------:|:----------------:|\n",
    "|AAPL|175.96|Apple Inc.|\n",
    "|GOOGL|0.00475|Alphabet Inc.|\n",
    "|TVIX|0.0045|Credit Suisse AG|"
   ]
  },
  {
   "cell_type": "markdown",
   "metadata": {},
   "source": [
    "### Question 9\n",
    "\n",
    "[*Reference notebook*](06_collections.ipynb)\n",
    "\n",
    "\n",
    "- Create a new dict which associates ticker with its price.  i.e. the dict key should be a string, the dict value should be a number and you can ignore the name  \n",
    "- Display a list of the underlying stock tickers using the dictionary.  Hint:\n",
    "  use `.<TAB>` on your dictionary to look for methods to get the list  "
   ]
  },
  {
   "cell_type": "code",
   "execution_count": 30,
   "metadata": {
    "hide-output": false
   },
   "outputs": [],
   "source": [
    "# Your code goes here"
   ]
  },
  {
   "cell_type": "markdown",
   "metadata": {},
   "source": [
    "### Question 10 (More Challenging)\n",
    "\n",
    "[*Reference notebook*](06_collections.ipynb)\n",
    "\n",
    "Using the same data,\n",
    "\n",
    "- Create a new dict, whose values are also dictionaries which will have a price and name key,\n",
    "  which associates the stock tickers with both its stock price and the company name  \n",
    "- Display a list of the underlying stock names (i.e. not the ticker symbol) using the dictionary. Hint: use a comprehension  "
   ]
  },
  {
   "cell_type": "code",
   "execution_count": 31,
   "metadata": {
    "hide-output": false
   },
   "outputs": [],
   "source": [
    "# Your code goes here"
   ]
  },
  {
   "cell_type": "code",
   "execution_count": null,
   "metadata": {},
   "outputs": [],
   "source": []
  },
  {
   "cell_type": "markdown",
   "metadata": {
    "slideshow": {
     "slide_type": "subslide"
    },
    "valorum": {
     "celltype": "exercise"
    }
   },
   "source": [
    "## Question 11\n",
    "\n",
    "[*Reference notebook*](07_control_flow.ipynb)\n",
    "\n",
    "Store your first name in a variable called `name`\n",
    "\n",
    "Store your neighbor's name in a variable called `friend`\n",
    "\n",
    "If `name > friend` then print the message `\"My name is greater\"`, otherwise print `\"My friend's name is greater\"`"
   ]
  },
  {
   "cell_type": "code",
   "execution_count": null,
   "metadata": {
    "collapsed": true
   },
   "outputs": [],
   "source": []
  },
  {
   "cell_type": "markdown",
   "metadata": {
    "slideshow": {
     "slide_type": "subslide"
    },
    "valorum": {
     "celltype": "exercise"
    }
   },
   "source": [
    "## Question 12\n",
    "\n",
    "[*Reference notebook*](07_control_flow.ipynb)\n",
    "\n",
    "Using the variable `price` below, write a conditional with an `if`, one `elif`, and an `else` that satisfies the following:\n",
    "\n",
    "- If `price` is greater than 0.9, print `\"Sell\"`\n",
    "- If `price` is between 0.3 and 0.9, print `\"Hold\"`\n",
    "- If `price` is less than 0.3, print `\"Buy\"`"
   ]
  },
  {
   "cell_type": "code",
   "execution_count": 32,
   "metadata": {
    "collapsed": true
   },
   "outputs": [],
   "source": [
    "import random\n",
    "\n",
    "# set payoff equal to a random number between [0, 1)\n",
    "price = random.random()"
   ]
  },
  {
   "cell_type": "markdown",
   "metadata": {},
   "source": [
    "**Bonus**: after you have written the code, try running the cell multiple times. Each time you do the `price` variable will change and the printed message might be different."
   ]
  },
  {
   "cell_type": "markdown",
   "metadata": {},
   "source": [
    "## Question 13\n",
    "\n",
    "[*Reference notebook*](07_control_flow.ipynb)\n",
    "\n",
    "\n",
    "Write a for loop that uses the lists of cities and states below and prints a message saying `“{city} is in {state}”` where `{city}` and `{state}` should be replaced by a different value on each iteration.  You are *not* allowed\n",
    "to use `zip`"
   ]
  },
  {
   "cell_type": "code",
   "execution_count": 33,
   "metadata": {
    "hide-output": false
   },
   "outputs": [],
   "source": [
    "cities = [\"Phoenix\", \"Austin\", \"San Diego\", \"New York\"]\n",
    "states = [\"Arizona\", \"Texas\", \"California\", \"New York\"]\n",
    "\n",
    "# Your code here"
   ]
  },
  {
   "cell_type": "markdown",
   "metadata": {},
   "source": [
    "Now, do the same thing with a `for` loop using `zip`"
   ]
  },
  {
   "cell_type": "code",
   "execution_count": 34,
   "metadata": {
    "hide-output": false
   },
   "outputs": [],
   "source": [
    "# Your code here"
   ]
  },
  {
   "cell_type": "markdown",
   "metadata": {},
   "source": [
    "Write a function that takes in a tuple as `(city, state)` and returns a string  `“{city} is in {state}”` with the\n",
    "values substituted"
   ]
  },
  {
   "cell_type": "code",
   "execution_count": 35,
   "metadata": {
    "hide-output": false
   },
   "outputs": [],
   "source": [
    "# Your function here"
   ]
  },
  {
   "cell_type": "markdown",
   "metadata": {},
   "source": [
    "Now, use your function and a `comprehension` to print out `“{city} is in {state}”` in the same way as the previous parts"
   ]
  },
  {
   "cell_type": "code",
   "execution_count": 36,
   "metadata": {
    "hide-output": false
   },
   "outputs": [],
   "source": [
    "# Your code here"
   ]
  },
  {
   "cell_type": "markdown",
   "metadata": {
    "slideshow": {
     "slide_type": "subslide"
    },
    "valorum": {
     "celltype": "exercise"
    }
   },
   "source": [
    "## Question 14\n",
    "\n",
    "[*Reference notebook*](07_control_flow.ipynb)\n",
    "\n",
    "\n",
    "Write a for loop that adds up all the values in `x` that are greater than or equal to 0.5\n",
    "\n",
    "Use the `continue` word to end the body of the loop early for all values of `x` that are less than 0.5\n",
    "\n",
    "*Note*: try starting your loop with `for value in x:` instead of iterating over the indices of `x`"
   ]
  },
  {
   "cell_type": "code",
   "execution_count": 37,
   "metadata": {},
   "outputs": [],
   "source": [
    "import numpy as np\n",
    "np.random.seed(42)\n",
    "x = np.random.rand(1000)\n",
    "\n",
    "# your code here"
   ]
  },
  {
   "cell_type": "markdown",
   "metadata": {
    "slideshow": {
     "slide_type": "subslide"
    },
    "valorum": {
     "celltype": "exercise"
    }
   },
   "source": [
    "## Question 15 \n",
    "\n",
    "[*Reference notebook*](08_functions.ipynb)\n",
    "\n",
    "Define a function named `info` that takes one input (call it `x`) and prints the information `\"You gave me a XXX\"` where `XXX` is replaced by the `type` of `x`\n",
    "\n",
    "This function should not return anything"
   ]
  },
  {
   "cell_type": "markdown",
   "metadata": {},
   "source": [
    "## Questions 16-18\n",
    "\n",
    "Questions  use the function `mean` and `var` as defined below"
   ]
  },
  {
   "cell_type": "code",
   "execution_count": 38,
   "metadata": {},
   "outputs": [],
   "source": [
    "def mean(numbers):\n",
    "    total = sum(numbers)\n",
    "    N = len(numbers)\n",
    "    answer = total / N\n",
    "\n",
    "    return answer\n",
    "\n",
    "def var(numbers):\n",
    "    xbar = mean(numbers)\n",
    "    tot = 0.0\n",
    "    for x in numbers:\n",
    "        tot = tot + (x - xbar)**2\n",
    "    N = len(numbers)\n",
    "    return tot / N"
   ]
  },
  {
   "cell_type": "markdown",
   "metadata": {},
   "source": [
    "## Question 16\n",
    "\n",
    "[*Reference notebook*](08_functions.ipynb)\n",
    "\n",
    "After evaluating the cell below, turn to your neighbor and talk about variable scope\n",
    "\n",
    "Have one partner describe why trying to display the value of `answer` would cause Python to complain about a `NameError`\n",
    "\n",
    "Have the other partner describe why we would see an error if we tried to `print(N)`"
   ]
  },
  {
   "cell_type": "code",
   "execution_count": 39,
   "metadata": {},
   "outputs": [
    {
     "data": {
      "text/plain": [
       "16.0"
      ]
     },
     "execution_count": 39,
     "metadata": {},
     "output_type": "execute_result"
    }
   ],
   "source": [
    "mean([10, 18, 20])"
   ]
  },
  {
   "cell_type": "markdown",
   "metadata": {},
   "source": [
    "## Question 17\n",
    "\n",
    "[*Reference notebook*](08_functions.ipynb)\n",
    "\n",
    "\n",
    "Try to get help for the `mean` and `var` functions using syntax like `mean?` in the code cell below\n"
   ]
  },
  {
   "cell_type": "code",
   "execution_count": null,
   "metadata": {},
   "outputs": [],
   "source": []
  },
  {
   "cell_type": "markdown",
   "metadata": {},
   "source": [
    "It didn't work!\n",
    "\n",
    "Fix the problem by adding an appropriate docstring to the functions above\n",
    "\n",
    "Verify that your docstrings appear by re-running the cell that defines the function and then the cell above where you checked the docstring"
   ]
  },
  {
   "cell_type": "markdown",
   "metadata": {},
   "source": [
    "## Question 18\n",
    "\n",
    "[*Reference notebook*](08_functions.ipynb)\n",
    "\n",
    "\n",
    "Write a function `moments` that accepts one argument (assumed to be a collection of numbers) and returns the mean and variance of those numbers\n",
    "\n",
    "You should call our `mean` and `var` functions from above"
   ]
  },
  {
   "cell_type": "code",
   "execution_count": null,
   "metadata": {},
   "outputs": [],
   "source": []
  }
 ],
 "metadata": {
  "kernelspec": {
   "display_name": "gpu",
   "language": "python",
   "name": "gpu"
  },
  "language_info": {
   "codemirror_mode": {
    "name": "ipython",
    "version": 3
   },
   "file_extension": ".py",
   "mimetype": "text/x-python",
   "name": "python",
   "nbconvert_exporter": "python",
   "pygments_lexer": "ipython3",
   "version": "3.6.7"
  }
 },
 "nbformat": 4,
 "nbformat_minor": 2
}
