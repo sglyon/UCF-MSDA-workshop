{
 "cells": [
  {
   "cell_type": "markdown",
   "metadata": {},
   "source": [
    "# Pracitcal Deep Learning\n",
    "\n",
    "We have arrived.. the moment you've all been waiting for\n",
    "\n",
    "Today we begin our study of deep learning techniques\n",
    "\n",
    "We will, for the most part, have a practical focus while studying these topics\n",
    "\n",
    "We will be using tensorflow 2.0 and primarly working with the `tensorflow.keras` to build networks and `tensorflow.data` to feed them\n",
    "\n",
    "We will cover just enough theory to understand the practical side\n",
    "\n",
    "I will be using [\"Hands-On Machine Learning with Scikit-Learn, Keras, and TensorFlow: Concepts, Tools, and Techniques to Build Intelligent Systems\"](https://www.amazon.com/Hands-Machine-Learning-Scikit-Learn-TensorFlow/dp/1492032646/ref=pd_sbs_14_img_0/147-3588525-5837203?_encoding=UTF8&pd_rd_i=1492032646&pd_rd_r=3799bc56-2bfa-44cf-981c-166f725fd4c7&pd_rd_w=mtZz6&pd_rd_wg=3wrnd&pf_rd_p=5cfcfe89-300f-47d2-b1ad-a4e27203a02a&pf_rd_r=B0KW56XSZ8VCDVQNG73W&psc=1&refRID=B0KW56XSZ8VCDVQNG73W) (\"Hands On book\") by Aurélien Géron as a reference for many of these materials\n",
    "\n",
    "If you are using the MSDA server you can download the repository containing all the code examples from that book by following this link: https://notebooks.msda.research.ucf.edu/hub/user-redirect/git-pull?repo=https%3A%2F%2Fgithub.com%2Fageron%2Fhandson-ml2&urlpath=lab%2Ftree%2Fhandson-ml2%2F\n",
    "\n",
    "You should do that now because well get started on those notebooks really soon.\n",
    "\n",
    "Let's dive in!\n"
   ]
  },
  {
   "cell_type": "markdown",
   "metadata": {},
   "source": [
    "## Intro to tensorflow\n",
    "\n",
    "What is tensorflow?\n",
    "\n",
    "Google says...\n",
    "\n",
    "> TensorFlow is an end-to-end open source platform for machine learning. It has a comprehensive, flexible ecosystem of tools, libraries and community resources that lets researchers push the state-of-the-art in ML and developers easily build and deploy ML powered applications.\n",
    "\n",
    "\n",
    "### Installation\n",
    "\n",
    "If you are on the MSDA server, tensorflow is ready to go for you\n",
    "\n",
    "If you are not on the server and want to install tensorflow on your own follow the [official installation instructions](https://www.tensorflow.org/install)\n",
    "\n",
    "The tl;dr is that you shoud be using python3 then do `pip install --upgrade tensorflow`. If you have access to an Nvidia GPU then you should follow the [GPU instructions](https://www.tensorflow.org/install/gpu) and use `pip install --upgrade tensorflow-gpu`\n",
    "\n"
   ]
  },
  {
   "cell_type": "markdown",
   "metadata": {},
   "source": [
    "### History\n",
    "\n",
    "Tensorflow was initially released  in November 2015 and has grown dramatically in popularity since then: https://trends.google.com/trends/explore?date=today%205-y&q=tensorflow,deep%20learning,pytorch\n",
    "\n",
    "With over 135,000 stars on github (as of 2019-10-04), it is the most widely used deep learning library\n",
    "\n",
    "On September 30, 2019 (4 days ago!!) version 2.0 was released. It is a \n",
    "\n",
    "The 2.0 release came with many breaking chagnes compared to 1.0\n",
    "\n",
    "Overall the 2.0 version is a *significant* improvement in terms of ease of use and internal API consistency\n",
    "\n",
    "However, the thousands of book pages and blog posts documenting tensorflow 1.0 best practices may not all apply to 2.0\n",
    "\n",
    "Here we will be using tensorflow 2.0 exclusively (embrace the future!)\n",
    "\n"
   ]
  },
  {
   "cell_type": "markdown",
   "metadata": {},
   "source": [
    "### Keras\n",
    "\n",
    "Keras is a python library (that has been ported to other languages like R) that sits on top of computational workhorse libraries like tensorflow and theano (the now un-maintained grandfather of deep learning libraries)\n",
    "\n",
    "It was released in March 2015 and is by far the most popular tool for writing code that defines, trains, and evaluates neural networks\n",
    "\n",
    "Keras is so popular, in fact, that the tensorflow team hired its main developer and decided that it would be the de-facto \"high level\" API for tensorflow 2.0\n",
    "\n",
    "Today we will begin learning about keras\n",
    "\n",
    "We will dive right in to using it to define/train neural networks\n",
    "\n",
    "We'll explain the necessary theory as it comes up\n",
    "\n",
    "We will also cover some of the foundational concepts of keras and tensorflow as needed to work through various examples\n",
    "\n",
    "### Hands on notebook\n",
    "\n",
    "At this time let's all open up the Notebook titled \"10_neural_nets_with_keras.ipynb\" from the Hands on book "
   ]
  }
 ],
 "metadata": {
  "kernelspec": {
   "display_name": "gpu",
   "language": "python",
   "name": "gpu"
  },
  "language_info": {
   "codemirror_mode": {
    "name": "ipython",
    "version": 3
   },
   "file_extension": ".py",
   "mimetype": "text/x-python",
   "name": "python",
   "nbconvert_exporter": "python",
   "pygments_lexer": "ipython3",
   "version": "3.6.8"
  }
 },
 "nbformat": 4,
 "nbformat_minor": 2
}
