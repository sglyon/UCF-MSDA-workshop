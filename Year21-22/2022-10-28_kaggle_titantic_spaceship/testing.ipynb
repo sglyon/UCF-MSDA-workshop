{
 "cells": [
  {
   "cell_type": "code",
   "execution_count": null,
   "metadata": {},
   "outputs": [],
   "source": [
    "%pip install mlflow pandas python-dotenv sklearn"
   ]
  },
  {
   "cell_type": "code",
   "execution_count": null,
   "metadata": {},
   "outputs": [],
   "source": [
    "import getpass\n",
    "import os\n",
    "\n",
    "import pandas as pd\n",
    "import dotenv\n",
    "import sklearn\n",
    "import mlflow\n",
    "mlflow.autolog()\n",
    "\n",
    "import mlflow.sklearn\n",
    "from sklearn import linear_model, model_selection, metrics\n",
    "\n",
    "dotenv.load_dotenv()\n",
    "\n",
    "if \"MLFLOW_TRACKING_PASSWORD\" not in os.environ:\n",
    "    raise ValueError(\"You need to properly configure the `.env` file\")\n",
    "else:\n",
    "    print(\"good work! mlflow ready to go\")\n",
    "\n",
    "mlflow.set_experiment(os.environ.get(\"MLFLOW_EXPERIMENT_NAME\", \"Default\"))"
   ]
  },
  {
   "cell_type": "code",
   "execution_count": null,
   "metadata": {},
   "outputs": [],
   "source": [
    "df = pd.read_csv(\"train.csv\")\n",
    "df.head()"
   ]
  },
  {
   "cell_type": "code",
   "execution_count": null,
   "metadata": {},
   "outputs": [],
   "source": [
    "feature_cols = [\"Age\", \"RoomService\", \"FoodCourt\", \"ShoppingMall\", \"Spa\", \"VRDeck\"]\n",
    "target_col = \"Transported\"\n",
    "\n",
    "no_na = df.dropna()\n",
    "\n",
    "X = no_na[feature_cols]\n",
    "y = no_na[target_col]"
   ]
  },
  {
   "cell_type": "code",
   "execution_count": null,
   "metadata": {},
   "outputs": [],
   "source": [
    "train_X, test_X, train_y, test_y = model_selection.train_test_split(X, y, test_size=0.2, random_state=42)"
   ]
  },
  {
   "cell_type": "code",
   "execution_count": null,
   "metadata": {},
   "outputs": [],
   "source": [
    "with mlflow.start_run(tags=dict(who=getpass.getuser())):\n",
    "    model = linear_model.LogisticRegression()\n",
    "    model.fit(train_X, train_y)\n",
    "    mlflow.sklearn.eval_and_log_metrics(model, test_X, test_y, prefix=\"val_\")"
   ]
  },
  {
   "cell_type": "code",
   "execution_count": null,
   "metadata": {},
   "outputs": [],
   "source": []
  }
 ],
 "metadata": {
  "kernelspec": {
   "display_name": "Python 3 (ipykernel)",
   "language": "python",
   "name": "python3"
  },
  "language_info": {
   "codemirror_mode": {
    "name": "ipython",
    "version": 3
   },
   "file_extension": ".py",
   "mimetype": "text/x-python",
   "name": "python",
   "nbconvert_exporter": "python",
   "pygments_lexer": "ipython3",
   "version": "3.9.7"
  },
  "vscode": {
   "interpreter": {
    "hash": "49fec3325e3c6483d46e45c6d58f905a50410b54f63518e385c5f22331e49f80"
   }
  }
 },
 "nbformat": 4,
 "nbformat_minor": 2
}
