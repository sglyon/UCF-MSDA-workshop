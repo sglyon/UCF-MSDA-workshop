{
 "cells": [
  {
   "cell_type": "markdown",
   "metadata": {
    "slideshow": {
     "slide_type": "slide"
    }
   },
   "source": [
    "# Polynomial Regression Example\n",
    "\n",
    "**Spencer Lyon**\n",
    "\n",
    "*UCF MSDA Big Data Seminar*\n"
   ]
  },
  {
   "cell_type": "markdown",
   "metadata": {
    "slideshow": {
     "slide_type": "subslide"
    }
   },
   "source": [
    "- In this notebook we will look at an example of how feature engineering is necessary for ML success\n",
    "- We'll start by importing some libraries and importing the dataset"
   ]
  },
  {
   "cell_type": "code",
   "execution_count": 1,
   "metadata": {
    "slideshow": {
     "slide_type": "subslide"
    }
   },
   "outputs": [],
   "source": [
    "import pandas as pd\n",
    "import numpy as np\n",
    "import matplotlib.pyplot as plt\n",
    "import seaborn as sns\n",
    "\n",
    "sns.set()\n",
    "\n",
    "from matplotlib.axes._axes import _log as matplotlib_axes_logger\n",
    "matplotlib_axes_logger.setLevel('ERROR')"
   ]
  },
  {
   "cell_type": "code",
   "execution_count": 2,
   "metadata": {
    "slideshow": {
     "slide_type": "slide"
    }
   },
   "outputs": [
    {
     "data": {
      "image/png": "[encoded data removed]",
      "text/plain": [
       "<Figure size 432x288 with 1 Axes>"
      ]
     },
     "metadata": {},
     "output_type": "display_data"
    }
   ],
   "source": [
    "df = pd.read_csv(\"cubic_data.csv\")\n",
    "df.plot.scatter(x=\"x\", y=\"y\", color=\"k\");"
   ]
  },
  {
   "cell_type": "markdown",
   "metadata": {
    "slideshow": {
     "slide_type": "slide"
    }
   },
   "source": [
    "- We will now use the scikit-learn library to fit a linear model\n",
    "- The model has the form $$y = w_0 + w_1 x$$"
   ]
  },
  {
   "cell_type": "code",
   "execution_count": 4,
   "metadata": {},
   "outputs": [],
   "source": [
    "from sklearn import linear_model\n",
    "from sklearn import metrics"
   ]
  },
  {
   "cell_type": "code",
   "execution_count": 5,
   "metadata": {},
   "outputs": [
    {
     "data": {
      "text/plain": [
       "LinearRegression()"
      ]
     },
     "execution_count": 5,
     "metadata": {},
     "output_type": "execute_result"
    }
   ],
   "source": [
    "mod = linear_model.LinearRegression()\n",
    "mod.fit(df[[\"x\"]], df[\"y\"])"
   ]
  },
  {
   "cell_type": "code",
   "execution_count": 6,
   "metadata": {
    "slideshow": {
     "slide_type": "subslide"
    }
   },
   "outputs": [
    {
     "data": {
      "text/plain": [
       "(0.2869534114957022, array([0.99350208]))"
      ]
     },
     "execution_count": 6,
     "metadata": {},
     "output_type": "execute_result"
    }
   ],
   "source": [
    "mod.intercept_, mod.coef_"
   ]
  },
  {
   "cell_type": "markdown",
   "metadata": {},
   "source": [
    "- For this dataset, $w_0 = 0.2896$ and $w_1 = 0.9935$\n",
    "- A common metric for regression tasks is the mean squared error:"
   ]
  },
  {
   "cell_type": "code",
   "execution_count": 7,
   "metadata": {},
   "outputs": [
    {
     "data": {
      "text/plain": [
       "0.27253591903962443"
      ]
     },
     "execution_count": 7,
     "metadata": {},
     "output_type": "execute_result"
    }
   ],
   "source": [
    "linear_prediction = mod.predict(df[[\"x\"]])\n",
    "metrics.mean_squared_error(df[\"y\"], linear_prediction) # mean((y_i - yhat_i)**2)"
   ]
  },
  {
   "cell_type": "markdown",
   "metadata": {
    "slideshow": {
     "slide_type": "subslide"
    }
   },
   "source": [
    "Below we will visualize the model and its fit"
   ]
  },
  {
   "cell_type": "code",
   "execution_count": 8,
   "metadata": {},
   "outputs": [
    {
     "data": {
      "image/png": "[encoded data removed]",
      "text/plain": [
       "<Figure size 432x288 with 1 Axes>"
      ]
     },
     "metadata": {},
     "output_type": "display_data"
    }
   ],
   "source": [
    "fig, ax = plt.subplots()\n",
    "df.plot.scatter(x=\"x\", y=\"y\", ax=ax, color=\"k\")\n",
    "ax.plot(df[\"x\"], linear_prediction);"
   ]
  },
  {
   "cell_type": "markdown",
   "metadata": {},
   "source": [
    "- After examining the dataset, we see that there may be a cubic pattern (why?)\n",
    "- Let's use sklearn to fit a cubic model of the form $$y = w_0 + w_1 x + w_2 x^2 + w_3 x^3$$"
   ]
  },
  {
   "cell_type": "code",
   "execution_count": 19,
   "metadata": {
    "slideshow": {
     "slide_type": "subslide"
    }
   },
   "outputs": [
    {
     "data": {
      "text/plain": [
       "LinearRegression()"
      ]
     },
     "execution_count": 19,
     "metadata": {},
     "output_type": "execute_result"
    }
   ],
   "source": [
    "cubic = linear_model.LinearRegression()\n",
    "features = df[\"x\"].to_numpy()[:,None] ** np.array([1, 2, 3])[None, :]\n",
    "cubic.fit(features, df[\"y\"])"
   ]
  },
  {
   "cell_type": "markdown",
   "metadata": {
    "slideshow": {
     "slide_type": "subslide"
    }
   },
   "source": [
    "- Let's take a look a the coefficients and mse"
   ]
  },
  {
   "cell_type": "code",
   "execution_count": 20,
   "metadata": {},
   "outputs": [
    {
     "data": {
      "text/plain": [
       "(0.2532178764135722, array([ 2.79738384, -2.28920167,  0.61766012]))"
      ]
     },
     "execution_count": 20,
     "metadata": {},
     "output_type": "execute_result"
    }
   ],
   "source": [
    "cubic.intercept_, cubic.coef_"
   ]
  },
  {
   "cell_type": "code",
   "execution_count": 21,
   "metadata": {},
   "outputs": [
    {
     "data": {
      "text/plain": [
       "0.049019853011425224"
      ]
     },
     "execution_count": 21,
     "metadata": {},
     "output_type": "execute_result"
    }
   ],
   "source": [
    "cubic_prediction = cubic.predict(features)\n",
    "metrics.mean_squared_error(df[\"y\"], cubic_prediction)"
   ]
  },
  {
   "cell_type": "markdown",
   "metadata": {},
   "source": [
    "This is a much better MSE\n",
    "\n",
    "We can also visually see that the fit is better:"
   ]
  },
  {
   "cell_type": "code",
   "execution_count": 12,
   "metadata": {},
   "outputs": [
    {
     "data": {
      "image/png": "[encoded data removed]",
      "text/plain": [
       "<Figure size 432x288 with 1 Axes>"
      ]
     },
     "metadata": {},
     "output_type": "display_data"
    }
   ],
   "source": [
    "fig, ax = plt.subplots()\n",
    "df.plot.scatter(x=\"x\", y=\"y\", ax=ax, color=\"k\")\n",
    "ax.scatter(df[\"x\"], cubic_prediction);"
   ]
  },
  {
   "cell_type": "markdown",
   "metadata": {},
   "source": [
    "## Outcome\n",
    "\n",
    "- The cubic model fit this dataset far better than the linear model\n",
    "- This was a contrived example (the data is a cubic polynomial, plus some noise)\n",
    "- We knew the underlying relationship was cubic (domain expertiese) and transformed the data appropriately (feature enginnering)\n"
   ]
  },
  {
   "cell_type": "markdown",
   "metadata": {},
   "source": [
    "## Neural Networks\n",
    "\n",
    "- A common benefit of Neural networks is that they will do the feature engineering automatically\n",
    "- Let's try it out on this simple dataset\n",
    "- Don't worry about specifics of what the network is doing, we'll get back to that soon"
   ]
  },
  {
   "cell_type": "code",
   "execution_count": 22,
   "metadata": {},
   "outputs": [],
   "source": [
    "from sklearn import neural_network"
   ]
  },
  {
   "cell_type": "code",
   "execution_count": 24,
   "metadata": {},
   "outputs": [
    {
     "data": {
      "image/png": "[encoded data removed]",
      "text/plain": [
       "<Figure size 432x288 with 1 Axes>"
      ]
     },
     "metadata": {},
     "output_type": "display_data"
    }
   ],
   "source": [
    "## np.random.seed(42)\n",
    "nn = neural_network.MLPRegressor(hidden_layer_sizes=(25, 25, 25, 20), max_iter=10000)\n",
    "\n",
    "# fit with only x\n",
    "nn.fit(df[[\"x\"]], df[\"y\"])\n",
    "\n",
    "fig, ax = plt.subplots()\n",
    "df.plot.scatter(x=\"x\", y=\"y\", ax=ax, color=\"k\")\n",
    "ax.scatter(df[\"x\"], nn.predict(df[[\"x\"]]));"
   ]
  },
  {
   "cell_type": "markdown",
   "metadata": {
    "slideshow": {
     "slide_type": "subslide"
    }
   },
   "source": [
    "- With linear models we could look at model weights (coefficients) to understand behavior\n",
    "- There isn't an obvious/straightforward way to understand what the model is doing "
   ]
  },
  {
   "cell_type": "code",
   "execution_count": 25,
   "metadata": {},
   "outputs": [
    {
     "data": {
      "text/plain": [
       "[array([[ 2.30429901e-10, -1.54083318e-01, -3.22425569e-02,\n",
       "         -4.60486475e-01, -5.72789986e-02, -1.47898408e-01,\n",
       "         -3.94709866e-02, -8.13947362e-02, -1.15294096e-01,\n",
       "         -8.58791542e-02, -1.61707157e-02, -1.32865441e-01,\n",
       "          2.16125725e-01, -4.43535201e-02,  3.05704491e-01,\n",
       "          1.04037355e-01,  2.37479473e-01,  4.31906187e-01,\n",
       "         -3.20590785e-01, -1.09713541e-01, -7.25985685e-02,\n",
       "         -1.00650939e-01,  4.50629965e-02, -1.85506249e-01,\n",
       "          3.86105262e-01]]),\n",
       " array([[-6.67310598e-03,  5.76993695e-02,  3.92491299e-06,\n",
       "         -2.29233858e-03,  5.20563350e-02,  3.59366331e-02,\n",
       "         -8.97628303e-02,  4.02868240e-02, -3.92542715e-04,\n",
       "          3.48884779e-02, -1.06801929e-01, -2.89287019e-02,\n",
       "          4.25215078e-02, -5.30591828e-02, -5.58417180e-04,\n",
       "          9.62741743e-02, -1.76432913e-05,  1.08717858e-01,\n",
       "         -4.61439202e-02,  3.64420678e-02, -5.07273425e-03,\n",
       "          1.05604493e-07,  1.54959388e-05,  5.21934222e-05,\n",
       "         -4.01588414e-03],\n",
       "        [ 1.10516268e-08,  2.35794943e-05,  4.35570941e-02,\n",
       "         -5.41117231e-02,  3.97212452e-03,  1.17098636e-07,\n",
       "          3.31705538e-03,  3.33177990e-04,  7.00159140e-02,\n",
       "          4.21454689e-02, -1.08640448e-01,  1.49844908e-02,\n",
       "          8.86137612e-02, -4.70096302e-02, -2.61665436e-02,\n",
       "          4.28149063e-03, -4.49112970e-02,  5.01106660e-02,\n",
       "         -1.10995805e-01,  9.73248854e-02,  9.85084525e-05,\n",
       "         -5.69732826e-02,  1.51524721e-03,  1.01329909e-08,\n",
       "         -1.42659990e-02],\n",
       "        [-9.77990336e-02,  1.12645154e-02, -3.00944464e-05,\n",
       "         -1.41750365e-02,  1.09486541e-01,  2.29183799e-02,\n",
       "          3.45898838e-02, -7.93530345e-02,  6.67731799e-02,\n",
       "         -2.80900887e-03,  2.36114534e-06,  3.84023364e-02,\n",
       "          7.40957737e-06, -5.50356307e-02,  1.40582505e-02,\n",
       "          5.10728569e-03, -5.94567886e-02,  3.33750589e-02,\n",
       "         -9.77191573e-04, -3.75950920e-02,  4.37013367e-02,\n",
       "         -1.42813465e-03, -2.66160094e-02, -5.44419167e-02,\n",
       "         -1.13161339e-02],\n",
       "        [-3.66503423e-01,  2.07921139e-01,  3.45872500e-02,\n",
       "         -9.60661562e-02, -1.00845245e-01,  2.96170274e-01,\n",
       "         -1.27734243e-02,  5.62238493e-06,  1.82703546e-01,\n",
       "          1.03151663e-01, -6.80603558e-03,  1.38147961e-09,\n",
       "         -8.65477671e-02,  3.15054037e-01,  5.98934806e-02,\n",
       "         -3.29939142e-01, -3.42001593e-02,  3.54107529e-01,\n",
       "         -7.63911655e-02,  1.20877020e-02,  5.16892368e-03,\n",
       "          2.56520840e-01,  1.16446705e-01,  4.01598687e-01,\n",
       "          2.24169198e-01],\n",
       "        [ 1.69423656e-01, -2.18244552e-01, -8.14474268e-03,\n",
       "         -1.68646297e-04, -1.03085152e-01,  4.45051243e-01,\n",
       "          7.05720812e-02, -4.86036028e-02, -2.41358985e-01,\n",
       "          2.40462113e-01,  4.69947654e-02, -8.88737324e-06,\n",
       "         -5.34304626e-02,  2.25466434e-01, -8.86060515e-02,\n",
       "          1.41794907e-01, -2.04364793e-01, -1.40987451e-01,\n",
       "          3.66499319e-01, -4.31252323e-05,  7.20440665e-03,\n",
       "         -4.12382023e-01, -3.50903597e-01,  5.05963287e-01,\n",
       "         -4.58320603e-03],\n",
       "        [-3.41953928e-01,  2.75607455e-01, -3.15255567e-03,\n",
       "          1.09765377e-01, -1.95523858e-01,  5.69992196e-01,\n",
       "         -2.98230397e-02, -4.76438884e-03,  1.11858634e-01,\n",
       "         -2.26160957e-01,  3.74760172e-01, -1.21347740e-07,\n",
       "          2.83563574e-01,  2.70307771e-01, -4.49742868e-02,\n",
       "         -1.71873162e-01, -1.90850039e-01, -6.42053799e-03,\n",
       "          2.30261662e-01,  7.56785505e-02, -5.20780306e-02,\n",
       "         -2.91515451e-01, -9.36822631e-02,  3.66911666e-02,\n",
       "          9.85286134e-02],\n",
       "        [-2.03957694e-01,  2.09887387e-01, -1.12780152e-01,\n",
       "         -7.82539821e-03, -2.23223739e-01,  4.11981175e-01,\n",
       "          3.59583256e-02, -5.46941440e-02,  5.07922503e-02,\n",
       "         -1.06050147e-01,  2.04347186e-01, -4.67303826e-05,\n",
       "          3.80508780e-01,  4.83980434e-02, -1.58284286e-01,\n",
       "          3.06552803e-01, -3.17619830e-01,  1.09644365e-01,\n",
       "          7.44102736e-02,  7.48859452e-02, -4.78047235e-09,\n",
       "         -2.85003417e-01, -1.06499449e-01, -4.70563377e-02,\n",
       "         -2.75783797e-01],\n",
       "        [-8.16743794e-03, -1.05491885e-04, -2.83254468e-05,\n",
       "          1.21437696e-03,  1.14033387e-07,  4.81947511e-02,\n",
       "         -7.92886722e-02,  4.14202270e-02, -4.72792466e-02,\n",
       "         -3.35914892e-03, -8.35869145e-02,  3.60101151e-04,\n",
       "          1.02790508e-01, -1.27787261e-04, -1.81615058e-07,\n",
       "          1.01449615e-01, -7.83749458e-02, -1.13021916e-01,\n",
       "         -3.58662300e-02,  2.95225134e-02, -3.21491934e-06,\n",
       "         -5.15152157e-02, -1.54023940e-03,  2.30724941e-02,\n",
       "          1.80485209e-03],\n",
       "        [ 1.08423156e-01, -5.80997471e-02,  2.11423416e-02,\n",
       "         -8.56693584e-02, -6.49252391e-02,  6.65805682e-02,\n",
       "          1.25587044e-07, -3.79535475e-03,  5.08537226e-03,\n",
       "          4.46960329e-02, -8.42950150e-02, -2.12120767e-03,\n",
       "         -7.22183048e-02,  2.84280055e-03, -4.84856863e-03,\n",
       "         -9.46111388e-02,  6.08497379e-02, -8.69303846e-03,\n",
       "          3.52021160e-02,  9.83688080e-08, -1.42096346e-05,\n",
       "          9.08180108e-06, -5.86033800e-04, -1.61723365e-02,\n",
       "         -7.53656372e-02],\n",
       "        [ 3.43076526e-02, -1.55728209e-01,  1.09800168e-02,\n",
       "         -1.65734146e-02, -1.79221778e-01,  6.10362591e-02,\n",
       "         -2.12380974e-02, -4.81471701e-03, -1.29166681e-01,\n",
       "         -3.12887111e-01,  6.55740521e-02,  1.32723425e-03,\n",
       "         -1.35738598e-01,  1.20642858e-01,  1.12964036e-03,\n",
       "         -2.22157390e-01, -4.72237612e-01,  1.96808279e-01,\n",
       "         -3.04905920e-02,  4.95514139e-03,  2.08997808e-02,\n",
       "         -5.95541542e-01, -1.84740159e-01,  4.16965208e-01,\n",
       "         -2.04551832e-01],\n",
       "        [-1.09669788e-01, -1.98439209e-01,  2.62895526e-07,\n",
       "          2.55943313e-02, -4.08159802e-02,  2.05215692e-01,\n",
       "         -2.47765258e-03, -1.04496261e-01, -2.67959354e-01,\n",
       "         -1.61348358e-02,  2.07419767e-01, -4.14763747e-04,\n",
       "         -1.83696478e-01,  9.15062420e-02, -5.17759446e-02,\n",
       "         -2.70895219e-01, -9.04454183e-02, -2.24114376e-02,\n",
       "         -5.44780873e-02,  8.37179989e-03, -1.06294478e-01,\n",
       "          1.33440572e-02,  1.23959991e-01,  4.68438406e-01,\n",
       "          2.37386252e-01],\n",
       "        [-1.90334028e-01, -9.92380738e-02, -2.04695055e-02,\n",
       "         -7.40104472e-03, -2.16319374e-01,  5.01598122e-01,\n",
       "         -6.55171597e-09, -8.12577438e-02, -1.54662899e-02,\n",
       "         -4.41349448e-02,  5.41527499e-02, -1.23894097e-02,\n",
       "          3.35809308e-01,  2.21210436e-01,  8.19562530e-02,\n",
       "         -1.27511776e-02, -2.21030801e-01,  3.04385590e-01,\n",
       "          6.45663536e-02,  1.49008780e-02, -4.97014752e-02,\n",
       "         -5.11001046e-01, -7.33697831e-02,  2.62584709e-01,\n",
       "          1.86400927e-01],\n",
       "        [ 5.36175212e-02, -9.08415691e-02, -7.11332978e-04,\n",
       "          8.39568871e-02, -4.78643766e-02, -2.87384433e-01,\n",
       "         -5.50609174e-02, -1.69708092e-03,  2.24357603e-01,\n",
       "          2.88084849e-01,  3.78763907e-01,  2.51091984e-02,\n",
       "         -7.87225282e-02,  1.07036321e-02,  2.47482686e-01,\n",
       "          7.37142054e-02,  1.79825654e-01, -1.36927955e-01,\n",
       "          2.88754257e-01, -3.14844150e-04,  7.63661157e-02,\n",
       "          1.48634537e-01,  2.03618368e-01,  1.66880396e-01,\n",
       "         -1.96567038e-01],\n",
       "        [-2.27126724e-01, -2.45081225e-01, -9.76731114e-08,\n",
       "         -4.78713856e-02,  2.00672386e-01, -9.59157952e-02,\n",
       "         -1.88607884e-02,  1.12458048e-02, -3.58121012e-01,\n",
       "          2.32244923e-01, -9.88660605e-02, -5.21681914e-03,\n",
       "          1.38924816e-01, -2.57148498e-01,  2.60442715e-01,\n",
       "          2.76351496e-01, -2.70533068e-02, -1.33636084e-01,\n",
       "         -1.17023607e-01, -9.68324399e-02, -5.43425691e-03,\n",
       "         -1.83173135e-01,  1.35791214e-01,  2.87655675e-01,\n",
       "         -1.94291419e-01],\n",
       "        [-1.12233587e-02, -3.82189618e-01,  7.58841757e-04,\n",
       "         -1.24950520e-02,  1.82674322e-01, -1.92455869e-01,\n",
       "          6.19295871e-02,  1.19459307e-08, -2.00488044e-01,\n",
       "          1.46221834e-01,  3.60639461e-01, -1.35868616e-02,\n",
       "          3.75400428e-01,  2.96228794e-02,  2.19313936e-01,\n",
       "         -1.56949363e-01,  2.28633293e-01,  1.97627850e-01,\n",
       "          1.54778572e-01,  8.52276632e-03, -6.80476723e-06,\n",
       "          2.71443903e-01, -3.37982151e-02,  2.25686528e-01,\n",
       "          3.92305994e-01],\n",
       "        [-3.19240857e-01, -7.79195187e-02,  2.54971717e-03,\n",
       "         -1.10055707e-01, -3.26972022e-02,  5.31498057e-02,\n",
       "          4.62644373e-02, -3.59981918e-02,  2.74927475e-01,\n",
       "         -2.46750526e-02, -3.66207707e-02, -2.14461678e-04,\n",
       "         -1.78888906e-01, -1.82910886e-01, -3.90857141e-01,\n",
       "          2.13238557e-01,  3.75371537e-01, -3.20961425e-01,\n",
       "          2.08724837e-01, -1.49609093e-08, -1.13626129e-06,\n",
       "          8.94536376e-02, -3.66130105e-01, -1.80471455e-01,\n",
       "          3.74367938e-01],\n",
       "        [ 1.55837001e-01, -1.45022881e-01, -5.64613009e-02,\n",
       "          1.41324406e-03,  5.24701277e-01, -2.86029763e-02,\n",
       "          3.82542927e-03, -3.80782026e-08,  2.88840777e-01,\n",
       "         -2.23185587e-01, -2.47440186e-01, -5.22131355e-02,\n",
       "         -1.35908918e-01,  1.90319296e-05, -2.57402905e-01,\n",
       "          1.97694986e-01,  6.62260601e-02, -2.67176018e-01,\n",
       "         -1.49570536e-01,  7.40865229e-04, -4.69511227e-06,\n",
       "          8.18285477e-02, -1.43913926e-01, -1.71142144e-01,\n",
       "          3.23874527e-02],\n",
       "        [-1.87433415e-01,  1.41462623e-01,  5.27580173e-07,\n",
       "         -5.82041238e-02,  3.10148040e-01, -7.23051195e-02,\n",
       "         -1.04049041e-01, -1.03840042e-07,  3.15634921e-01,\n",
       "         -1.45221080e-01,  1.41367966e-01,  1.63443894e-02,\n",
       "         -2.10810393e-01, -2.84217051e-01,  8.44068109e-02,\n",
       "          1.14709074e-01,  1.91813205e-01,  1.96075844e-01,\n",
       "         -1.11424516e-01, -2.58707581e-02, -8.01927448e-03,\n",
       "          1.72842719e-01, -4.03737330e-02, -3.52374551e-01,\n",
       "         -4.09584431e-02],\n",
       "        [-3.93827543e-01,  2.61775439e-01,  3.31550109e-02,\n",
       "          1.62951023e-07,  1.45089673e-01, -5.32115860e-02,\n",
       "         -8.83719359e-04,  2.38873228e-02,  1.15589241e-01,\n",
       "         -2.98525914e-01, -2.23402324e-01, -1.52437396e-02,\n",
       "          1.89308934e-01,  1.87500701e-01,  1.14093744e-01,\n",
       "         -3.33434295e-01, -3.10419946e-02,  9.42486985e-02,\n",
       "          4.29273588e-03, -3.73927176e-02,  8.82129110e-02,\n",
       "         -3.41935282e-01, -2.67434032e-01,  4.15804521e-01,\n",
       "         -3.50431189e-01],\n",
       "        [-2.25830202e-01, -2.18818821e-02, -1.10735143e-04,\n",
       "         -2.25283694e-02, -2.63136802e-01,  1.14894790e-01,\n",
       "         -2.41576950e-02, -9.05554473e-04, -4.82953195e-01,\n",
       "          2.75402251e-01, -8.36741411e-02,  1.41381502e-04,\n",
       "         -5.83626102e-02, -2.90825847e-01,  1.49665694e-01,\n",
       "         -1.62189303e-01, -1.98366506e-01, -7.90820291e-03,\n",
       "          3.60775474e-01, -6.44225818e-08,  1.55847003e-07,\n",
       "         -3.92607451e-01, -2.64889342e-01,  6.59305753e-02,\n",
       "         -2.32955015e-01],\n",
       "        [ 2.91658779e-02,  1.25888863e-02, -5.30583484e-02,\n",
       "          4.95212201e-02,  2.19739214e-01, -1.14163102e-01,\n",
       "          6.14517970e-02,  4.89932957e-03,  6.89372571e-02,\n",
       "         -2.59019804e-01, -4.54496359e-02, -4.30768414e-05,\n",
       "          2.34569217e-02,  3.42341027e-01, -5.56141110e-02,\n",
       "          2.01579605e-01,  1.00069675e-01, -2.36948169e-01,\n",
       "          2.13784828e-01, -6.84808726e-04,  5.75422950e-02,\n",
       "         -2.69487980e-01,  7.83086454e-02, -1.84624196e-01,\n",
       "         -1.01206196e-01],\n",
       "        [-3.28760085e-09,  4.49024608e-02, -9.99856956e-02,\n",
       "         -2.79768509e-02, -8.87101659e-05,  8.63932445e-02,\n",
       "         -1.09309178e-01,  3.12644761e-03,  2.04187345e-02,\n",
       "          2.56382646e-03,  5.68637502e-03, -2.21229120e-06,\n",
       "         -8.63548211e-09,  5.14076805e-02,  3.63557495e-05,\n",
       "         -1.65873059e-02,  1.10781391e-02, -3.63277371e-03,\n",
       "         -7.41671977e-10,  2.22959716e-02, -4.12773209e-03,\n",
       "         -9.25733008e-02, -1.24647450e-03, -1.90321899e-02,\n",
       "          7.50848288e-03],\n",
       "        [-7.88097085e-03,  2.06721053e-01, -3.84615359e-02,\n",
       "          1.58070429e-03,  1.72348544e-01,  3.47089904e-01,\n",
       "         -1.71762436e-07,  6.61471809e-02, -2.49519223e-01,\n",
       "          2.02177782e-01, -8.00749765e-02, -1.81129642e-07,\n",
       "          2.55860942e-01,  3.06484053e-01, -2.00696287e-01,\n",
       "          3.52030040e-01, -7.79251898e-02,  1.69957550e-01,\n",
       "         -1.79116880e-01,  3.00302286e-03,  1.46891284e-02,\n",
       "          1.20153785e-01,  2.90415642e-01,  4.34597702e-01,\n",
       "          1.34352068e-01],\n",
       "        [-9.56233257e-03,  2.30544797e-02,  6.48735340e-03,\n",
       "         -4.00821182e-03, -1.67614222e-06,  2.67375632e-02,\n",
       "         -6.10664825e-09, -3.27701258e-09,  8.38852698e-02,\n",
       "         -5.90766433e-02, -9.68395644e-10, -2.57416488e-02,\n",
       "         -5.49360191e-04, -1.02991323e-02,  5.76586930e-03,\n",
       "          8.94040323e-06, -1.34284015e-02,  1.11399853e-03,\n",
       "          9.19483872e-03, -2.44926719e-08,  5.26191725e-03,\n",
       "          2.37755047e-05, -1.05937037e-01,  5.91038723e-09,\n",
       "         -4.38557328e-03],\n",
       "        [ 3.77244894e-01, -1.16073862e-01,  3.59741700e-06,\n",
       "          3.06022747e-04,  3.11345591e-01, -8.22603757e-02,\n",
       "          2.72038804e-10, -7.41450075e-03,  3.36795221e-01,\n",
       "         -8.70067641e-02, -9.16408195e-02, -1.71546362e-02,\n",
       "         -1.82165390e-01, -2.36168365e-01, -1.00651841e-01,\n",
       "          5.76632081e-02,  1.20185797e-01, -1.43462099e-01,\n",
       "          3.85888479e-01, -6.88585044e-02,  2.96008634e-05,\n",
       "         -1.91120708e-01, -6.24622077e-02, -2.49836595e-01,\n",
       "          5.79451240e-02]]),\n",
       " array([[-1.60628455e-01, -5.48667813e-03, -4.26475734e-03,\n",
       "          3.84081211e-04, -1.86899578e-01,  4.62537155e-01,\n",
       "         -9.26372231e-02,  1.00180900e-01,  2.29615563e-01,\n",
       "          4.75260346e-02,  1.83657010e-01, -9.00762497e-02,\n",
       "          8.17331207e-06,  2.92567429e-02,  1.04613918e-03,\n",
       "         -9.90052391e-02,  4.19064104e-01, -1.29908567e-09,\n",
       "         -1.28783591e-07, -1.36358541e-01, -3.73031112e-01,\n",
       "         -7.62771426e-02,  2.78563417e-01, -2.63993648e-01,\n",
       "         -3.68598757e-01],\n",
       "        [-4.54583090e-01, -7.75716476e-02,  7.22836919e-02,\n",
       "          2.57336739e-03, -3.03719238e-01,  2.66342138e-02,\n",
       "          2.13293503e-01, -2.34515608e-01, -9.82723298e-02,\n",
       "         -1.97581629e-02,  1.53702784e-02,  3.74791977e-08,\n",
       "          6.76371950e-02,  2.13845263e-02,  2.50976988e-08,\n",
       "         -1.74123262e-01, -1.18080386e-01,  3.72659502e-02,\n",
       "         -4.28300627e-02,  1.12333872e-01, -1.80088568e-01,\n",
       "         -2.02299429e-01,  5.85631752e-02, -2.19930358e-01,\n",
       "          1.31211338e-01],\n",
       "        [-1.07820940e-01, -3.47436333e-03, -3.12647403e-04,\n",
       "         -2.83296984e-02, -1.33785369e-05, -1.57238710e-04,\n",
       "         -9.79060723e-02,  1.02069061e-01, -8.46335582e-02,\n",
       "         -1.20572883e-04,  1.08216536e-05,  7.00634445e-02,\n",
       "         -8.17732806e-03,  6.79193311e-02,  6.75265420e-02,\n",
       "          6.45326122e-02,  2.58876698e-02,  1.32755015e-07,\n",
       "         -1.05080179e-01, -7.60556374e-02,  9.96447190e-05,\n",
       "          6.13732383e-02, -1.51918450e-02,  8.94177113e-03,\n",
       "         -9.42663909e-04],\n",
       "        [ 4.64559104e-02, -1.29863009e-07,  4.17614801e-02,\n",
       "          7.21039810e-02,  3.73329540e-03,  5.44164326e-02,\n",
       "          1.18715919e-03, -1.31579883e-02, -7.11953325e-02,\n",
       "         -8.39417957e-02, -2.85856246e-03,  4.01284658e-02,\n",
       "          1.52712036e-08,  1.74633259e-07, -7.30108981e-03,\n",
       "          2.70969076e-02,  7.59185199e-02, -5.34930929e-03,\n",
       "         -8.90777952e-02, -7.49025802e-02,  7.28749268e-02,\n",
       "         -9.12392790e-02, -5.93895909e-04,  6.69889203e-02,\n",
       "         -1.01228111e-01],\n",
       "        [-5.68937466e-01, -1.55851787e-02,  4.89985630e-02,\n",
       "         -9.39036536e-02,  3.22155747e-01,  4.52145786e-01,\n",
       "         -1.78563380e-01,  2.06396010e-02,  3.95872464e-02,\n",
       "         -6.34892469e-02, -1.31424890e-01, -3.27678552e-02,\n",
       "         -1.24312256e-02, -7.93151473e-03,  2.26212257e-02,\n",
       "         -1.24683733e-01,  2.57927497e-01, -4.46468666e-03,\n",
       "         -9.04979144e-02, -1.33457820e-01, -1.14568694e-01,\n",
       "          7.95032396e-02, -1.00895030e-01,  3.21879973e-01,\n",
       "         -1.12143886e-01],\n",
       "        [ 5.05077403e-01, -2.43925476e-02, -3.39712940e-10,\n",
       "          4.12105405e-02, -4.70357244e-01, -2.46389687e-01,\n",
       "          2.62621086e-01, -4.13686224e-01, -7.23715775e-01,\n",
       "          1.09672759e-01,  7.17295726e-02, -3.04516260e-02,\n",
       "         -1.03220270e-04,  5.21466295e-03,  9.10756242e-04,\n",
       "         -8.30612109e-02, -3.31412236e-01, -1.10365337e-01,\n",
       "         -4.18364352e-02,  2.98524418e-01,  4.49782360e-01,\n",
       "          2.63613054e-01,  1.31524522e-01,  1.74042495e-01,\n",
       "         -3.74680863e-02],\n",
       "        [-1.17181336e-03,  7.57248833e-02,  8.17066653e-04,\n",
       "          7.65279266e-02,  5.78630802e-03, -1.49667431e-08,\n",
       "          1.41398764e-08,  9.25615015e-02,  6.59022840e-02,\n",
       "         -8.64754697e-07,  3.17238986e-02,  1.13763599e-03,\n",
       "          1.68481600e-02,  7.74247652e-02, -1.42814069e-03,\n",
       "          3.92115052e-07,  5.68982673e-04, -5.93445577e-04,\n",
       "         -2.63660860e-02, -7.26567546e-02,  5.02090748e-03,\n",
       "         -1.88741144e-02,  1.02169715e-03, -1.73245035e-02,\n",
       "         -4.67568762e-02],\n",
       "        [-7.53867507e-02,  2.21181928e-02, -2.38174334e-03,\n",
       "         -5.69786131e-04, -4.45621067e-09,  4.73100068e-02,\n",
       "          4.16125101e-02, -8.51858400e-05,  7.82416330e-02,\n",
       "         -5.42748906e-02, -6.71362988e-09,  1.06088766e-01,\n",
       "          7.02594087e-02,  4.54438284e-02,  5.43727159e-04,\n",
       "          2.79644944e-03, -1.43198470e-07, -1.28649617e-08,\n",
       "          8.89954944e-02, -1.08453738e-06, -3.52375097e-04,\n",
       "          1.49500865e-02,  1.01727287e-02,  3.22438652e-08,\n",
       "          1.01268847e-01],\n",
       "        [-2.24299380e-01, -5.22734075e-02,  2.59250662e-02,\n",
       "         -4.10578887e-03,  3.51656276e-01,  5.06414742e-01,\n",
       "         -2.84395470e-01,  3.65000010e-01,  7.13634445e-02,\n",
       "         -1.44485402e-02, -5.07309778e-02,  8.24204837e-03,\n",
       "         -1.94782061e-05, -8.85896027e-02,  7.33980300e-02,\n",
       "         -2.52195253e-01,  4.13588959e-01,  8.23824727e-02,\n",
       "          5.08358217e-02,  1.32103548e-02, -3.41673604e-01,\n",
       "         -1.33571928e-01, -8.31296743e-02,  4.38072726e-01,\n",
       "         -1.14352831e-01],\n",
       "        [ 2.31314488e-01,  1.40238762e-04,  5.60340706e-03,\n",
       "          1.57321877e-07, -1.72183188e-01, -2.53065190e-01,\n",
       "         -1.28965153e-01, -5.85176109e-02, -3.20379782e-01,\n",
       "         -7.32849666e-03,  3.53639158e-01, -2.70841992e-03,\n",
       "         -1.83175086e-02, -9.23699561e-02,  2.40613392e-02,\n",
       "          2.04264400e-01,  3.35421389e-01,  1.17006587e-09,\n",
       "          9.57424296e-02,  1.42214470e-01,  3.00967446e-01,\n",
       "          1.76378078e-01,  1.16106939e-01, -1.40295706e-02,\n",
       "         -3.20428889e-01],\n",
       "        [-2.10628246e-01, -7.38291884e-02, -9.05940118e-02,\n",
       "         -4.53518656e-04, -1.92743060e-01, -3.37230800e-01,\n",
       "         -9.00457596e-02,  9.68509159e-02,  2.81184899e-01,\n",
       "          1.24009385e-08,  3.13840125e-01, -1.15647909e-02,\n",
       "          3.95699371e-02,  1.44780640e-02, -5.27786262e-05,\n",
       "         -1.82523935e-01,  3.90165514e-01, -6.93622496e-02,\n",
       "          5.66686525e-08,  1.27324095e-01,  3.09088433e-01,\n",
       "          3.63844406e-01,  5.87501251e-02,  8.82909158e-02,\n",
       "          1.13915189e-01],\n",
       "        [-4.14427900e-02,  1.11511149e-08,  1.52020689e-08,\n",
       "         -1.07611705e-01, -1.02665670e-01, -1.06550005e-02,\n",
       "          5.67982551e-10, -1.10458620e-07,  5.50114547e-02,\n",
       "          1.12630019e-03,  4.48608409e-03, -1.17717637e-02,\n",
       "          2.94843125e-03, -3.97845130e-04,  7.75024675e-02,\n",
       "         -7.43055355e-02, -3.75389167e-04, -4.14541317e-02,\n",
       "         -1.11366737e-01, -1.09391778e-01,  1.10257172e-08,\n",
       "          2.14006712e-04, -6.86067295e-05,  2.28898438e-04,\n",
       "         -1.65222749e-02],\n",
       "        [-3.76388304e-02,  9.13923778e-03, -1.17200034e-09,\n",
       "          1.62010851e-04, -2.60906956e-01,  2.63562973e-04,\n",
       "         -1.86511506e-02,  3.32556236e-01,  6.32941034e-02,\n",
       "         -8.74953861e-02, -1.56720747e-01,  2.46324066e-04,\n",
       "         -1.00039183e-01,  6.21610231e-02, -3.73861784e-02,\n",
       "          1.56987296e-01,  8.57198085e-02, -3.89759651e-02,\n",
       "          7.86912744e-10,  6.36833769e-02,  2.55284259e-01,\n",
       "          9.27021456e-02, -2.23906929e-01, -1.56651357e-01,\n",
       "         -1.28679368e-01],\n",
       "        [-1.58200339e-01, -1.00079892e-03,  7.01441358e-02,\n",
       "          1.03094104e-04,  2.70352217e-05,  9.67228254e-02,\n",
       "          1.54168198e-01, -1.60124751e-01, -5.92939769e-02,\n",
       "          4.62046575e-05, -2.58368542e-01, -1.17703915e-05,\n",
       "         -1.46558415e-02,  4.14139451e-02, -3.76287980e-04,\n",
       "         -3.26930131e-01,  9.42429976e-02, -1.59923648e-04,\n",
       "          1.25376040e-03,  9.45880126e-02,  3.33452059e-01,\n",
       "         -2.14478915e-01, -6.75553031e-02, -5.72922301e-02,\n",
       "          2.16363063e-01],\n",
       "        [-2.32949968e-01, -9.98367159e-02, -4.39573357e-02,\n",
       "          1.26065407e-02, -1.39939506e-01,  7.85253909e-02,\n",
       "         -7.53052129e-02, -1.85091271e-01, -2.38633830e-02,\n",
       "          5.41835786e-04,  3.29647360e-01, -8.72718360e-02,\n",
       "          2.05610207e-03, -1.97116870e-02, -1.24804611e-02,\n",
       "         -2.70895834e-02, -2.01763427e-01,  8.36814020e-02,\n",
       "         -8.38005557e-02, -1.10059042e-01, -1.93214502e-01,\n",
       "         -1.31530993e-01, -3.21839401e-01, -2.91027200e-01,\n",
       "          1.52051554e-01],\n",
       "        [-6.27321088e-02,  1.04295402e-05, -9.47241678e-05,\n",
       "          4.51025849e-02,  1.45389972e-01,  1.71621671e-01,\n",
       "         -2.36981284e-01, -5.41241410e-02, -6.30735924e-02,\n",
       "         -1.08139085e-01,  3.78753928e-01,  2.95737883e-02,\n",
       "          1.69218444e-03, -1.09500058e-08, -1.07326516e-01,\n",
       "          2.64308777e-01, -5.15843146e-03, -6.31270091e-02,\n",
       "          4.63220949e-02, -2.00522004e-01, -2.72345795e-01,\n",
       "         -2.33073108e-02,  2.25439353e-01,  1.11303756e-01,\n",
       "         -4.96834025e-04],\n",
       "        [-3.58283895e-01,  2.26909824e-05,  1.38788389e-04,\n",
       "          8.62737962e-03,  3.69268225e-01,  3.23370950e-01,\n",
       "         -7.42866471e-02, -2.21334429e-03,  1.18294211e-01,\n",
       "         -5.47533374e-07, -1.21538256e-01, -2.10755370e-02,\n",
       "          9.64816304e-02, -4.15089611e-03, -8.59322651e-02,\n",
       "          4.08752186e-01,  2.84447632e-01,  1.41145891e-09,\n",
       "         -1.09538759e-01, -2.44993306e-02,  2.27145817e-02,\n",
       "          2.80762669e-01,  1.19919249e-01,  2.73544434e-01,\n",
       "         -2.92373424e-01],\n",
       "        [-6.22977168e-02, -2.94077715e-02,  2.49763136e-02,\n",
       "          6.14006006e-04, -1.43998158e-01, -2.24102976e-01,\n",
       "          2.15863894e-01, -4.01919822e-01, -1.84353916e-01,\n",
       "         -4.82294421e-09,  4.96590305e-02, -2.78212952e-02,\n",
       "         -8.17893545e-02,  1.09373747e-01,  5.51391255e-02,\n",
       "          1.74589190e-01,  6.27897370e-02,  1.80975897e-02,\n",
       "         -1.32432186e-09,  6.96645546e-02,  5.28231551e-02,\n",
       "         -4.14310908e-01,  1.81166221e-01, -2.75888254e-01,\n",
       "          2.32184459e-01],\n",
       "        [ 2.61107576e-01, -2.96798514e-02,  2.78480976e-03,\n",
       "         -7.66537827e-02, -4.03940340e-02, -2.35923138e-01,\n",
       "         -2.93502466e-01,  3.29638704e-01,  2.75545884e-01,\n",
       "         -5.00597760e-05,  1.02224152e-01, -6.11744453e-02,\n",
       "         -4.24423067e-06, -2.08737095e-04,  3.12049537e-03,\n",
       "          2.26699948e-01,  1.17697977e-01,  1.78041038e-07,\n",
       "          9.25004307e-02,  2.56290025e-01,  3.15454804e-01,\n",
       "         -5.74060735e-02,  1.91923021e-01, -1.89559275e-01,\n",
       "         -2.06531701e-01],\n",
       "        [-1.05138246e-01,  1.29746591e-02,  4.45534993e-04,\n",
       "          4.59753096e-04,  1.28817102e-03, -8.97200156e-10,\n",
       "          7.84278387e-08, -1.73987666e-02,  2.59956026e-08,\n",
       "          3.07975551e-02,  2.27095639e-03, -3.96362256e-03,\n",
       "          1.09293982e-01,  1.11779249e-05, -2.06012157e-02,\n",
       "         -5.90527241e-02,  1.20163382e-09, -3.98756542e-02,\n",
       "          5.66945336e-04, -3.37659973e-03,  8.22312704e-02,\n",
       "          6.75326348e-02,  2.30403409e-02,  8.05146006e-02,\n",
       "          3.60210877e-03],\n",
       "        [-1.00761394e-02,  8.65365942e-02, -1.42943342e-02,\n",
       "          6.89731268e-04,  6.90017142e-02,  2.41457261e-03,\n",
       "         -5.65066551e-03, -8.05407982e-02, -4.03992014e-02,\n",
       "         -3.38209964e-03, -8.42437521e-02, -4.50656060e-02,\n",
       "          4.83515452e-02, -1.75559597e-07, -1.71464572e-02,\n",
       "         -1.05921930e-02, -9.41154475e-02, -2.35346052e-02,\n",
       "          2.08977964e-03, -3.43154575e-04,  5.50969261e-03,\n",
       "          1.13104546e-07,  2.93001147e-03,  3.22096952e-02,\n",
       "          6.09412812e-02],\n",
       "        [-2.37475324e-01,  3.47430750e-04, -4.65186177e-02,\n",
       "          1.43195541e-02,  3.93497219e-01,  5.14916052e-01,\n",
       "          2.68782668e-02, -9.19648027e-02,  3.95202166e-01,\n",
       "         -1.75040293e-07,  2.04201327e-01,  2.77350784e-04,\n",
       "          1.00982350e-01, -5.25991169e-02, -1.06565100e-01,\n",
       "          3.41110067e-02,  2.37404831e-01,  1.65280348e-02,\n",
       "          7.14741599e-05, -1.81545082e-01,  1.08830864e-02,\n",
       "          2.50673740e-01,  1.85406900e-01, -2.09099505e-01,\n",
       "          7.33714366e-02],\n",
       "        [ 8.91382414e-03,  7.53195485e-03,  1.85380962e-02,\n",
       "         -7.80171999e-02, -1.34771784e-01,  2.98156417e-01,\n",
       "          7.94084727e-02, -1.45438315e-01,  1.53594306e-02,\n",
       "          1.65466646e-02, -2.21918701e-01, -8.56410676e-02,\n",
       "          1.59043472e-03,  3.78858953e-02,  5.43799640e-02,\n",
       "         -2.79272896e-01,  8.41697499e-02,  2.36224531e-02,\n",
       "         -2.49046115e-02, -3.02973462e-02, -4.88158831e-02,\n",
       "         -1.12345082e-01,  1.34717929e-01,  1.79711655e-01,\n",
       "          2.38857879e-01],\n",
       "        [ 1.05046180e-01, -1.03108900e-01,  8.92618830e-03,\n",
       "          2.53392575e-02, -1.88664633e-01, -2.95699742e-01,\n",
       "          3.31497580e-01, -2.58684068e-01, -5.52713960e-01,\n",
       "         -1.29217406e-02, -4.35358501e-01, -6.46314867e-02,\n",
       "          2.35083605e-06, -1.85654223e-02,  3.15096652e-02,\n",
       "          6.00212090e-02, -4.59495820e-01, -9.49469886e-02,\n",
       "         -1.16603550e-02,  8.00916909e-02,  2.04593186e-01,\n",
       "          2.12023165e-01, -1.97511855e-01,  7.36331584e-02,\n",
       "         -2.57381640e-01],\n",
       "        [ 1.68114727e-01, -3.25848443e-05, -1.92789351e-02,\n",
       "          5.78919813e-03, -6.81899438e-02, -2.14826868e-01,\n",
       "         -2.56455405e-02,  3.43178056e-01, -2.73817442e-01,\n",
       "          1.73910047e-07,  4.02560952e-01, -1.68346231e-03,\n",
       "         -9.92012893e-03, -7.88310422e-02, -4.54125095e-02,\n",
       "          3.55404286e-01,  1.73344132e-01,  7.19544258e-02,\n",
       "         -4.43629414e-03, -1.25432880e-01, -2.37727098e-01,\n",
       "          3.17453615e-01, -3.27897472e-01,  1.81776782e-01,\n",
       "          2.43644768e-01]]),\n",
       " array([[ 2.88838894e-01, -2.75553901e-01,  9.16399890e-02,\n",
       "          1.35049703e-03, -4.95409171e-02, -4.18497639e-02,\n",
       "          1.83796492e-01,  3.92125337e-01,  7.10303566e-02,\n",
       "          3.77474058e-01,  8.23834803e-02,  1.26251752e-01,\n",
       "          5.88467185e-01,  1.71048369e-07, -3.43593523e-01,\n",
       "          1.46876069e-01,  1.38129483e-01,  4.77194605e-01,\n",
       "          5.54537164e-01,  1.02888475e-01],\n",
       "        [-4.45952920e-02,  4.31983631e-02,  7.92230272e-02,\n",
       "          6.14200555e-02,  3.78086019e-02, -7.30056662e-08,\n",
       "          8.51622307e-05, -1.47556338e-03,  2.06802823e-02,\n",
       "         -7.97222764e-07, -1.16105682e-01,  5.58372491e-02,\n",
       "          1.10208076e-01, -4.12531969e-10, -7.95821854e-03,\n",
       "          5.93909717e-04,  1.01313782e-01, -3.43967205e-02,\n",
       "         -3.89596731e-02, -2.00459665e-03],\n",
       "        [-2.18682523e-03,  9.42402921e-02,  3.17288294e-05,\n",
       "          1.77497921e-02,  1.06703903e-01, -2.38453805e-05,\n",
       "          5.44388473e-02,  3.12985024e-03,  1.47897034e-03,\n",
       "         -1.31284082e-02,  9.05476772e-02, -4.46428585e-06,\n",
       "         -6.08878713e-02,  8.52324614e-02, -1.18501032e-01,\n",
       "          4.51255570e-03, -3.42476839e-03, -7.39547412e-02,\n",
       "         -6.98715758e-02, -9.47312076e-05],\n",
       "        [ 7.75175832e-04,  2.83232144e-09,  4.63097653e-02,\n",
       "          6.54644716e-02, -1.60389574e-02, -2.74225868e-02,\n",
       "         -1.00884165e-02,  1.90987767e-02,  2.21152970e-02,\n",
       "         -5.21354599e-08, -1.71634700e-02, -8.86575767e-02,\n",
       "         -1.01008390e-02,  1.52764114e-05, -2.93258704e-02,\n",
       "          1.36927899e-03, -3.01316304e-04,  7.14025232e-02,\n",
       "         -6.93298844e-02, -2.47006751e-02],\n",
       "        [-1.75384829e-01, -2.70897605e-01,  5.10329724e-01,\n",
       "          1.34056191e-02,  3.07986975e-01,  1.14922351e-01,\n",
       "          2.58376148e-01,  3.47338391e-01,  3.15543180e-01,\n",
       "          4.69898117e-01,  4.09387670e-03, -1.10875586e-02,\n",
       "          1.23939695e-01, -3.43940862e-04, -1.36904676e-01,\n",
       "          2.27227039e-01,  1.61391983e-01,  1.46085036e-01,\n",
       "          2.86783923e-01, -5.39366048e-02],\n",
       "        [-1.78857116e-01, -2.18072434e-01,  2.56949650e-01,\n",
       "         -9.32571835e-02, -8.33377846e-02,  3.59986000e-02,\n",
       "          3.27819247e-01,  3.66823548e-01, -1.56577792e-01,\n",
       "         -4.25803871e-02,  9.42427744e-02,  7.13072408e-02,\n",
       "         -9.84498479e-02,  5.13510314e-02, -4.21280086e-01,\n",
       "          1.06431888e-01, -6.02775269e-02,  6.55514909e-02,\n",
       "          2.87722251e-01,  2.65377667e-01],\n",
       "        [-5.59552740e-01,  6.69914331e-02, -4.14847150e-02,\n",
       "         -4.51475308e-03, -1.27773446e-02, -1.14875447e-02,\n",
       "         -2.22910686e-01, -4.61568007e-01,  2.69748814e-01,\n",
       "         -5.04417067e-01, -3.92143131e-03, -6.81993776e-03,\n",
       "         -2.47366844e-01,  5.57048463e-03,  3.17952284e-01,\n",
       "          2.13273777e-01, -3.01387581e-01, -3.23144165e-01,\n",
       "         -2.27832978e-01,  3.80302312e-02],\n",
       "        [-4.62481882e-02, -2.34748424e-01,  3.51416856e-01,\n",
       "         -6.92778937e-03, -3.20423216e-01,  4.20327555e-02,\n",
       "          2.42057058e-01, -1.50021710e-01, -2.00549733e-01,\n",
       "          5.20972360e-02,  1.11401855e-02, -7.66028901e-02,\n",
       "          1.65722479e-02,  3.33553881e-02,  1.03817214e-01,\n",
       "         -3.52684729e-01, -1.38956949e-01,  2.99420665e-01,\n",
       "          4.03944670e-01, -2.00224189e-01],\n",
       "        [-1.68550856e-01,  1.05823656e-02,  2.21423548e-01,\n",
       "         -2.67522881e-02,  2.49831772e-01, -2.14035092e-02,\n",
       "          4.83527728e-01, -8.16927854e-02,  1.13588111e-01,\n",
       "         -7.24251962e-02, -2.60817574e-09,  6.18939412e-02,\n",
       "          2.01374090e-01, -1.67004340e-02, -3.50369145e-01,\n",
       "         -1.79792024e-01,  1.00880826e-01,  7.50317041e-02,\n",
       "          2.56103281e-01, -4.14830134e-01],\n",
       "        [-3.38248994e-02, -1.41192909e-08, -1.37800368e-02,\n",
       "         -8.96362452e-02, -9.27962972e-02,  6.22856302e-06,\n",
       "          1.00522527e-01,  6.40141215e-02,  9.32833710e-02,\n",
       "          1.28035247e-08, -8.75504066e-05,  2.17963714e-04,\n",
       "          2.24895444e-02, -8.75437597e-02, -3.22446735e-05,\n",
       "          1.11930521e-01, -6.19627314e-02,  6.88907950e-02,\n",
       "         -9.90110898e-02,  1.43462257e-03],\n",
       "        [ 1.18346343e-02,  3.31552176e-01, -1.96540769e-01,\n",
       "         -8.91366611e-02, -3.36209383e-01, -1.30965533e-08,\n",
       "         -1.69974129e-01,  2.79113353e-01,  2.11808985e-01,\n",
       "          1.87748861e-01,  1.16150793e-01, -9.81675369e-03,\n",
       "         -1.22059215e-01, -3.30160837e-02,  4.97447590e-02,\n",
       "         -2.69052742e-01,  3.38051593e-01,  1.34475062e-01,\n",
       "          1.08630740e-01,  1.61188235e-01],\n",
       "        [-9.78070886e-02,  1.23491361e-07, -4.33949815e-02,\n",
       "         -5.21832458e-04, -2.26098538e-02,  7.16385285e-02,\n",
       "          3.16464933e-05,  9.61780778e-08, -8.55782961e-02,\n",
       "         -1.21375640e-02, -7.40716211e-02, -8.04737395e-04,\n",
       "          1.63608051e-02,  3.70051597e-03, -2.79001354e-02,\n",
       "         -9.74712738e-02,  1.21464601e-01, -7.16094790e-02,\n",
       "          6.13232608e-04,  4.39942431e-07],\n",
       "        [-5.30832082e-03, -1.32400852e-02, -7.72915910e-02,\n",
       "         -1.05472999e-01,  8.36462835e-02, -1.09834601e-01,\n",
       "          6.45331466e-02,  1.54526981e-02, -7.00681474e-05,\n",
       "         -1.13439393e-02,  1.53606971e-02, -2.53902661e-02,\n",
       "         -8.76684049e-03,  1.34467832e-04, -1.78016798e-02,\n",
       "          2.30155017e-02,  8.53032780e-03, -5.40255152e-02,\n",
       "         -4.42674118e-02, -1.59777119e-07],\n",
       "        [-4.94385023e-02, -4.56919695e-02,  1.29157909e-06,\n",
       "         -3.83097867e-02,  2.11533156e-02, -1.11803166e-08,\n",
       "          1.06229522e-01,  1.51386459e-08,  1.21704247e-07,\n",
       "          7.37381606e-02, -2.00859027e-02, -1.06764552e-01,\n",
       "          8.04997833e-08,  9.91531850e-02, -7.14813367e-02,\n",
       "         -9.43400045e-10, -6.48111891e-02,  3.40818100e-02,\n",
       "         -7.03198855e-03, -4.56275428e-04],\n",
       "        [-4.22618711e-03,  3.76380301e-02, -5.28658215e-05,\n",
       "         -1.75081642e-07, -1.39946739e-04,  4.98772764e-08,\n",
       "          1.78478765e-07, -1.14367819e-08, -1.13900564e-01,\n",
       "          8.20521071e-02, -8.21210196e-02,  6.27264916e-02,\n",
       "         -3.11191364e-09,  3.55179236e-03, -7.98798088e-02,\n",
       "          8.34517498e-02, -2.27815352e-02, -4.77547415e-03,\n",
       "         -1.11263942e-01,  3.15214550e-09],\n",
       "        [-2.61036238e-01,  2.31519911e-01, -3.04435106e-01,\n",
       "         -6.88362374e-02, -1.47017966e-01, -1.19569921e-01,\n",
       "          7.87044221e-02,  3.96965856e-01, -3.78783473e-01,\n",
       "          2.64390489e-01, -9.46645034e-02, -6.17028562e-02,\n",
       "          1.31390186e-01, -1.64754193e-02,  2.63296601e-01,\n",
       "          6.28522420e-02,  9.48606120e-02, -6.29176911e-03,\n",
       "         -5.98528810e-02, -2.00653069e-01],\n",
       "        [ 4.14798148e-01, -7.12712556e-02,  4.38801006e-01,\n",
       "          1.59755947e-02, -1.74107314e-01,  3.18120276e-02,\n",
       "         -4.21993083e-02,  2.28095422e-01, -2.93239765e-01,\n",
       "         -1.92106567e-02, -5.26325903e-02, -5.46802022e-02,\n",
       "         -2.48873029e-01, -1.60833185e-05, -5.83171365e-02,\n",
       "          2.55317882e-01, -1.02863373e-01,  9.25097924e-02,\n",
       "          1.72668772e-01,  3.19998002e-02],\n",
       "        [-9.85642208e-02,  7.22363938e-08,  1.22808634e-01,\n",
       "          1.47148831e-08,  4.91979888e-02, -1.00624523e-02,\n",
       "          2.09566124e-03,  3.81523444e-02, -4.31193437e-03,\n",
       "          2.86592867e-04,  1.83764130e-03, -9.29968412e-02,\n",
       "          3.76052584e-06, -9.07559135e-05, -5.65847695e-03,\n",
       "         -7.62212145e-03, -6.28579509e-02,  4.72267108e-02,\n",
       "         -1.27491434e-05, -1.11365165e-03],\n",
       "        [ 7.80271604e-03,  3.88782313e-02,  7.61365719e-03,\n",
       "          1.72017205e-05, -4.73664745e-02, -1.27775375e-05,\n",
       "          9.72879023e-02,  9.13766067e-03,  1.97632569e-02,\n",
       "         -8.63215542e-02,  4.05603940e-02, -3.57286562e-02,\n",
       "         -1.32251550e-03,  3.87574770e-02,  6.91029657e-03,\n",
       "         -8.28933329e-02, -2.50689473e-02,  2.72250206e-03,\n",
       "         -9.95034462e-04,  1.12699682e-01],\n",
       "        [-9.59305259e-02, -4.93972502e-02, -4.42920156e-01,\n",
       "         -7.26718363e-03,  3.59867311e-03, -1.79948417e-07,\n",
       "          1.38602683e-01, -1.71053994e-01, -2.40184995e-01,\n",
       "         -2.35498623e-01, -3.47819161e-04,  1.82335578e-03,\n",
       "         -2.52101440e-01, -1.19107963e-01,  2.79728010e-01,\n",
       "         -3.27290485e-02, -3.24424347e-01,  8.33607331e-02,\n",
       "         -2.28746450e-01, -3.60419350e-02],\n",
       "        [ 2.14537872e-01, -4.81083422e-01, -4.31779127e-01,\n",
       "          2.53458165e-02, -2.72950438e-02,  1.09205810e-03,\n",
       "         -2.00791072e-01, -1.62010643e-01,  1.90914827e-01,\n",
       "         -2.78730468e-01,  2.20651166e-03, -8.60225279e-05,\n",
       "         -1.54643006e-01,  2.18123297e-02,  1.89290186e-01,\n",
       "          5.39840921e-02,  1.36856255e-01,  2.46688841e-01,\n",
       "         -2.68719244e-01,  9.26648576e-02],\n",
       "        [ 3.51602434e-01, -1.68287757e-01, -2.06380245e-01,\n",
       "         -1.07171854e-01, -1.75461454e-01, -8.13217083e-02,\n",
       "          2.54010762e-01,  1.43975678e-02,  1.35048667e-02,\n",
       "          3.75252582e-01,  9.33374413e-05, -1.32227619e-02,\n",
       "          2.12225221e-01, -2.43537550e-02, -9.24594302e-02,\n",
       "          6.28658601e-02, -1.50640096e-01, -2.72440553e-01,\n",
       "         -1.27397623e-01, -3.37588757e-01],\n",
       "        [-2.54989799e-01,  7.44329024e-03,  3.97206638e-02,\n",
       "          2.05208937e-02,  2.94686294e-01, -5.07630648e-02,\n",
       "          2.69614981e-01, -2.20638540e-01,  2.70489717e-01,\n",
       "          2.65334399e-01,  9.98425865e-03,  2.01240649e-02,\n",
       "         -8.62318063e-02,  3.87883716e-02, -6.17750655e-02,\n",
       "         -3.95821342e-01,  8.27995934e-02,  7.43976998e-02,\n",
       "          7.18848620e-02,  1.80814536e-01],\n",
       "        [-1.20563803e-01, -1.26266371e-01,  3.69212881e-01,\n",
       "         -4.88330093e-08,  2.56341664e-01, -7.95750309e-02,\n",
       "          4.37633764e-01,  4.37228306e-01,  3.34693932e-01,\n",
       "         -3.44251570e-02, -1.19216487e-01,  3.70859663e-02,\n",
       "          8.80845690e-02,  2.18215854e-04,  1.94895366e-01,\n",
       "         -2.80298179e-02, -1.61127750e-02, -1.83235496e-01,\n",
       "          3.21924571e-01,  3.00324079e-01],\n",
       "        [-3.33371921e-01,  2.84980456e-01, -1.74781694e-01,\n",
       "         -2.90509253e-02,  1.24069317e-01,  4.51790755e-02,\n",
       "         -5.93836884e-02, -2.70468727e-01, -5.26304985e-02,\n",
       "          3.05157703e-01,  1.12930543e-01, -3.46013449e-02,\n",
       "         -2.65416788e-01, -9.34772038e-04, -3.81702591e-01,\n",
       "          2.47589170e-01, -2.90404630e-01, -2.77916077e-01,\n",
       "         -2.72962989e-01,  1.92234606e-01]]),\n",
       " array([[ 3.13326799e-01],\n",
       "        [ 2.54874558e-01],\n",
       "        [ 4.15745454e-01],\n",
       "        [-5.01917989e-02],\n",
       "        [-3.77325874e-01],\n",
       "        [ 1.21602514e-02],\n",
       "        [ 6.58438205e-01],\n",
       "        [ 4.28440486e-01],\n",
       "        [-2.38604253e-01],\n",
       "        [ 4.26513458e-01],\n",
       "        [-1.23151433e-01],\n",
       "        [-2.58755762e-01],\n",
       "        [ 6.16339081e-02],\n",
       "        [-4.42557020e-04],\n",
       "        [-3.15465724e-01],\n",
       "        [-4.76718419e-01],\n",
       "        [ 1.08305004e-01],\n",
       "        [ 2.39581300e-02],\n",
       "        [ 4.12629391e-01],\n",
       "        [-1.60957494e-01]])]"
      ]
     },
     "execution_count": 25,
     "metadata": {},
     "output_type": "execute_result"
    }
   ],
   "source": [
    "nn.coefs_"
   ]
  },
  {
   "cell_type": "markdown",
   "metadata": {},
   "source": [
    "- This is known as *interpretability* and is something we will come back to\n",
    "- For now we'll look a"
   ]
  },
  {
   "cell_type": "code",
   "execution_count": null,
   "metadata": {},
   "outputs": [],
   "source": []
  }
 ],
 "metadata": {
  "celltoolbar": "Slideshow",
  "kernelspec": {
   "display_name": "css",
   "language": "python",
   "name": "css"
  },
  "language_info": {
   "codemirror_mode": {
    "name": "ipython",
    "version": 3
   },
   "file_extension": ".py",
   "mimetype": "text/x-python",
   "name": "python",
   "nbconvert_exporter": "python",
   "pygments_lexer": "ipython3",
   "version": "3.9.2"
  }
 },
 "nbformat": 4,
 "nbformat_minor": 4
}
