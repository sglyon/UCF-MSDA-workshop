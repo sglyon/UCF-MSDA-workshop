{
 "cells": [
  {
   "cell_type": "markdown",
   "metadata": {},
   "source": [
    "## Intro to tensorflow\n",
    "\n",
    "What is tensorflow?\n",
    "\n",
    "Google says...\n",
    "\n",
    "> TensorFlow is an end-to-end open source platform for machine learning. It has a comprehensive, flexible ecosystem of tools, libraries and community resources that lets researchers push the state-of-the-art in ML and developers easily build and deploy ML powered applications.\n",
    "\n",
    "\n",
    "### Installation\n",
    "\n",
    "\n",
    "To install tensorflow on your own follow the [official installation instructions](https://www.tensorflow.org/install)\n",
    "\n",
    "The tl;dr is that you shoud be using python3 then do `pip install --upgrade tensorflow`. If you have access to an Nvidia GPU then you should follow the [GPU instructions](https://www.tensorflow.org/install/gpu) and use `pip install --upgrade tensorflow-gpu`\n",
    "\n"
   ]
  },
  {
   "cell_type": "markdown",
   "metadata": {},
   "source": [
    "### History\n",
    "\n",
    "Tensorflow was initially released  in November 2015 and has grown dramatically in popularity since then: https://trends.google.com/trends/explore?date=today%205-y&q=tensorflow,deep%20learning,pytorch\n",
    "\n",
    "With over 166,000 stars on github (as of 2022-06-24), it is the most widely used deep learning library (followed closely by pytorch)"
   ]
  },
  {
   "cell_type": "markdown",
   "metadata": {},
   "source": [
    "### Keras\n",
    "\n",
    "Keras is a python library (that has been ported to other languages like R) that sits on top of computational workhorse libraries like tensorflow and theano (the now un-maintained grandfather of deep learning libraries)\n",
    "\n",
    "It was released in March 2015 and is by far the most popular tool for writing code that defines, trains, and evaluates neural networks for tensorflow\n",
    "\n",
    "Keras is so popular, in fact, that the tensorflow team hired its main developer and decided that it would be the de-facto \"high level\" API for tensorflow 2.0\n",
    "\n",
    "Today we will begin learning about keras\n",
    "\n",
    "We will dive right in to using it to define/train neural networks\n",
    "\n",
    "We'll explain the necessary theory as it comes up\n",
    "\n",
    "We will also cover some of the foundational concepts of keras and tensorflow as needed to work through various examples\n",
    "\n",
    "### Hands on notebook\n",
    "\n",
    "To showcase some of what tensorflow can do we will use materials from the excellent book \"Hands-On Machine Learning with Scikit-Learn, Keras, and TensorFlow: Concepts, Tools, and Techniques to Build Intelligent Systems\" by  Aurélien Géron.  \n",
    "\n",
    "I reccommend [obtaining a copy](https://www.amazon.com/Hands-Machine-Learning-Scikit-Learn-TensorFlow/dp/1492032646) of the book if possible. \n",
    "\n",
    "The author has made all of the code examples available as Jupyter notebooks hosted on a [public GitHub repository](https://github.com/ageron/handson-ml2). \n",
    "\n",
    "We'll load up the code samples from chapter 10 of the book on Google Colab by clicking the following link: https://colab.research.google.com/github/ageron/handson-ml2/blob/master/10_neural_nets_with_keras.ipynb\n",
    "\n",
    "In the notebook we will focus on the following sections:\n",
    "\n",
    "- Building an image classifier\n",
    "- Regression MLP\n",
    "- Using callbacks during training\n",
    "- Tensorboard\n",
    "\n",
    "### Transfer Learning\n",
    "\n",
    "Finally, we'll open up one more notebok from the hands on book and look at the concept of transfer learning.\n",
    "\n",
    "We will again use colab to open up the [notebook for chapter 14](https://colab.research.google.com/github/ageron/handson-ml2/blob/master/14_deep_computer_vision_with_cnns.ipynb) and study the \"Using a Pretrained Model\" and \"Pretrained Models for Transfer Learning\" sections.\n",
    "\n",
    "> Note: I have included both notebooks here for convenience."
   ]
  },
  {
   "cell_type": "markdown",
   "metadata": {},
   "source": []
  }
 ],
 "metadata": {
  "kernelspec": {
   "display_name": "Python 3.9.7 ('base')",
   "language": "python",
   "name": "python3"
  },
  "language_info": {
   "name": "python",
   "version": "3.9.7"
  },
  "orig_nbformat": 4,
  "vscode": {
   "interpreter": {
    "hash": "9c34f8300255a89503f4189d280ab6e13ebb06f781e83b0937e65d49b3ce033c"
   }
  }
 },
 "nbformat": 4,
 "nbformat_minor": 2
}
