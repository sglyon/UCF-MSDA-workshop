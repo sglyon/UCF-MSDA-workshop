{
 "cells": [
  {
   "cell_type": "markdown",
   "id": "dccfc832-a208-48eb-8bf7-2dff419d6c47",
   "metadata": {
    "slideshow": {
     "slide_type": "slide"
    },
    "tags": []
   },
   "source": [
    "## About me\n",
    "\n",
    "- Wife and 5 kids moved to FL about three years ago\n",
    "- Physics and Economics undergrad at BYU (2013)\n",
    "- Economics PhD from NYU Stern (2018)\n",
    "- Appointment at UCF:\n",
    "    - Primarily to teach data analytics, machine learning, deep learning (this seminar series, CAP-6318)\n",
    "    - Also contribute software/data analytics advice for research projects\n",
    "- Core member of [quantecon](https://quantecon.org) team for last 9 years\n",
    "    - Imlpemented Julia libraries + bootstrapped website\n",
    "    - Lead author of the [QuantEcon datascience lectures](https://datascience.quantecon.org/)\n",
    "- Authored multiple course textbooks on data analytics (with emphasis in economics) in Python and Julia\n",
    "- Work on various startups:\n",
    "    - ExtraDough (CTO):  platform for people to buy/sell home baked goods from their neighbors\n",
    "    - Coinsul (CEO): Help *everyone* **understand** and **manage** investment opportunities in crypto/blockchain space\n",
    "    - Valorum Data (CEO): understand client business => gather data => build model => make better decisions => client 💲 ⬆️ \n",
    "- Hobbies/outside interests: \n",
    "    - Church\n",
    "    - Family\n",
    "    - Sports (basketball/volleyball/tennis)\n",
    "    - Open source development (@sglyon on github)"
   ]
  },
  {
   "cell_type": "markdown",
   "id": "2d59a131-fcc4-44e7-b20f-b014cc7f5c1d",
   "metadata": {
    "slideshow": {
     "slide_type": "slide"
    },
    "tags": []
   },
   "source": [
    "## About you\n",
    "\n",
    "- How far in program?\n",
    "- What topics have you studied?\n",
    "- What topics would you like to study?\n",
    "- Is anybody working while doing the MSDA? If so, where?\n",
    "- Internships?"
   ]
  },
  {
   "cell_type": "markdown",
   "id": "06f3e159-9070-457c-a4fc-1a33b9a66ecd",
   "metadata": {
    "slideshow": {
     "slide_type": "slide"
    },
    "tags": []
   },
   "source": [
    "## About this series\n",
    "\n",
    "- Hands on workshop series"
   ]
  },
  {
   "cell_type": "markdown",
   "id": "fdfac593-5aa3-480b-af54-db82abeb1dc8",
   "metadata": {
    "slideshow": {
     "slide_type": "fragment"
    }
   },
   "source": [
    "- Focused on **tools** and **techniques** for a robust data science workflow\n",
    "    - Includes algorithms and models: supervised learning, unsupervised learning, and (perhaps) reinforcement learning\n",
    "    - Programming languages: Julia, Python, R ... whatever is right for the job\n",
    "    - Libraries: scikit-learn, tensorflow, pytorch\n",
    "    - Topics: data collecting (scraping), data cleaning, visualization, modeling, automation, deployment\n",
    "    - Tools: version control (git), unit testing, editing envrionments (e.g. text editors, jupyter)"
   ]
  },
  {
   "cell_type": "markdown",
   "id": "840e7c56-17cd-4840-96af-3c62ae6620ce",
   "metadata": {
    "slideshow": {
     "slide_type": "fragment"
    }
   },
   "source": [
    "- Will intersperse **instruction**, **examples**, and **projects/competitions**"
   ]
  },
  {
   "cell_type": "markdown",
   "id": "6b417b63-2b6f-4dd5-9e4c-10ba72f99d4b",
   "metadata": {
    "slideshow": {
     "slide_type": "fragment"
    }
   },
   "source": [
    "- Goals:\n",
    "    - Work together\n",
    "    - Get hands-on experience\n",
    "    - Have fun!"
   ]
  },
  {
   "cell_type": "markdown",
   "id": "26ce02a4-95bf-48b3-b9d4-33a87dad43e0",
   "metadata": {
    "slideshow": {
     "slide_type": "slide"
    }
   },
   "source": [
    "# Looking ahead\n",
    "\n",
    "- Content driven by **you**, prepared by **faculty/PhD students** (me), explored **together**\n",
    "- TODO (see below)"
   ]
  },
  {
   "cell_type": "markdown",
   "id": "6a112291-dd88-4edc-9ae1-2e18661bc615",
   "metadata": {
    "slideshow": {
     "slide_type": "slide"
    },
    "tags": []
   },
   "source": [
    "## Examples\n",
    "\n",
    "The following list contains topics we *could* study if **we** want to\n",
    "\n",
    "- Python + Pandas: **foundational**\n",
    "- SQL\n",
    "- Markov Chains\n",
    "- Applied Network Science\n",
    "- Blockchains\n",
    "- Machine Learning best practices\n",
    "- Deep Learning without the fuss\n",
    "- Transfer Learning\n",
    "- Generative models\n",
    "- Natural Language Processing\n",
    "- Reinforcement Learning\n",
    "- Software enginnering best practices (testing, version control)\n",
    "- Data Engineering \n",
    "- Developer Operations (DevOps)\n"
   ]
  },
  {
   "cell_type": "code",
   "execution_count": null,
   "id": "b5340e4b-5ebc-4fe7-a086-0efef9b461ed",
   "metadata": {},
   "outputs": [],
   "source": []
  }
 ],
 "metadata": {
  "kernelspec": {
   "display_name": "css",
   "language": "python",
   "name": "css"
  },
  "language_info": {
   "codemirror_mode": {
    "name": "ipython",
    "version": 3
   },
   "file_extension": ".py",
   "mimetype": "text/x-python",
   "name": "python",
   "nbconvert_exporter": "python",
   "pygments_lexer": "ipython3",
   "version": "3.9.2"
  }
 },
 "nbformat": 4,
 "nbformat_minor": 5
}
