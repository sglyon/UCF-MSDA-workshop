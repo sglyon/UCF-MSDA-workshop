{
 "cells": [
  {
   "cell_type": "markdown",
   "metadata": {
    "slideshow": {
     "slide_type": "slide"
    }
   },
   "source": [
    "# Intro to Julia\n",
    "\n",
    "In this lecture we will learn about one of my favorite programming languages: Julia\n",
    "\n",
    "Julia is a new language:\n",
    "\n",
    "- first public release (v0.1) in 2013\n",
    "- First API stable release (v1.0) in 2018\n",
    "- I've been actively using and developing Julia libraries since 2014 (v0.2)\n",
    "\n",
    "Without Julia the code for my PhD would still be running and I wouldn't be Dr. Lyon..."
   ]
  },
  {
   "cell_type": "markdown",
   "metadata": {
    "slideshow": {
     "slide_type": "subslide"
    }
   },
   "source": [
    "## Why Julia?\n",
    "\n",
    "Julia is a generic programming language: \n",
    "\n",
    "- Can be used for any task\n",
    "- Is used for a variety of applications such as data analytics, web programming, microservices\n",
    "\n",
    "However, it is also built with numerical/technical computing in mind\n",
    "\n",
    "Has many features that help the scientific programmer:\n",
    "\n",
    "- Built in nd-array types\n",
    "- Extensive standard library (shipped with Julia itself): `Dates`, `Test`, `SparseArrays`, `Distributed`, `LinearAlgebra`, `Random`, `Markdown`, and many more!\n",
    "- Built in tools for multi threaded concurrency and distributed parallel computation\n",
    "- Julia code is *very fast*\n"
   ]
  },
  {
   "cell_type": "code",
   "execution_count": 1,
   "metadata": {},
   "outputs": [
    {
     "data": {
      "text/plain": [
       "2"
      ]
     },
     "execution_count": 1,
     "metadata": {},
     "output_type": "execute_result"
    }
   ],
   "source": [
    "1+1"
   ]
  },
  {
   "cell_type": "code",
   "execution_count": 2,
   "metadata": {},
   "outputs": [
    {
     "data": {
      "text/plain": [
       "foo (generic function with 1 method)"
      ]
     },
     "execution_count": 2,
     "metadata": {},
     "output_type": "execute_result"
    }
   ],
   "source": [
    "function foo()\n",
    "    out = BigInt(0)\n",
    "    for i in 1:10_000_000_000    # range(1, 10_000_000_000)\n",
    "        out += i\n",
    "    end\n",
    "    return out\n",
    "end"
   ]
  },
  {
   "cell_type": "code",
   "execution_count": null,
   "metadata": {},
   "outputs": [],
   "source": [
    "@time foo()"
   ]
  },
  {
   "cell_type": "code",
   "execution_count": 3,
   "metadata": {},
   "outputs": [
    {
     "data": {
      "text/plain": [
       "CodeInfo(\n",
       "\u001b[90m1 ─\u001b[39m       out = Main.BigInt(0)\n",
       "\u001b[90m│  \u001b[39m %2  = 1:10000000000\n",
       "\u001b[90m│  \u001b[39m       @_2 = Base.iterate(%2)\n",
       "\u001b[90m│  \u001b[39m %4  = @_2 === nothing\n",
       "\u001b[90m│  \u001b[39m %5  = Base.not_int(%4)\n",
       "\u001b[90m└──\u001b[39m       goto #4 if not %5\n",
       "\u001b[90m2 ┄\u001b[39m %7  = @_2\n",
       "\u001b[90m│  \u001b[39m       i = Core.getfield(%7, 1)\n",
       "\u001b[90m│  \u001b[39m %9  = Core.getfield(%7, 2)\n",
       "\u001b[90m│  \u001b[39m       out = out + i\n",
       "\u001b[90m│  \u001b[39m       @_2 = Base.iterate(%2, %9)\n",
       "\u001b[90m│  \u001b[39m %12 = @_2 === nothing\n",
       "\u001b[90m│  \u001b[39m %13 = Base.not_int(%12)\n",
       "\u001b[90m└──\u001b[39m       goto #4 if not %13\n",
       "\u001b[90m3 ─\u001b[39m       goto #2\n",
       "\u001b[90m4 ┄\u001b[39m       return out\n",
       ")"
      ]
     },
     "execution_count": 3,
     "metadata": {},
     "output_type": "execute_result"
    }
   ],
   "source": [
    "@code_lowered foo()"
   ]
  },
  {
   "cell_type": "code",
   "execution_count": 4,
   "metadata": {},
   "outputs": [
    {
     "data": {
      "text/plain": [
       "CodeInfo(\n",
       "\u001b[90m1 ──\u001b[39m %1  = Base.GMP.MPZ.set_si\u001b[36m::typeof(Base.GMP.MPZ.set_si)\u001b[39m\n",
       "\u001b[90m│   \u001b[39m %2  = invoke %1(0::Int64)\u001b[36m::BigInt\u001b[39m\n",
       "\u001b[90m└───\u001b[39m       goto #16 if not true\n",
       "\u001b[90m2 ┄─\u001b[39m %4  = φ (#1 => 1, #15 => %35)\u001b[36m::Int64\u001b[39m\n",
       "\u001b[90m│   \u001b[39m %5  = φ (#1 => 1, #15 => %36)\u001b[36m::Int64\u001b[39m\n",
       "\u001b[90m│   \u001b[39m %6  = φ (#1 => %2, #15 => %28)\u001b[36m::BigInt\u001b[39m\n",
       "\u001b[90m│   \u001b[39m %7  = Base.slt_int(%4, 0)\u001b[36m::Bool\u001b[39m\n",
       "\u001b[90m└───\u001b[39m       goto #4 if not %7\n",
       "\u001b[90m3 ──\u001b[39m %9  = Base.bitcast(UInt64, %4)\u001b[36m::UInt64\u001b[39m\n",
       "\u001b[90m│   \u001b[39m %10 = Base.neg_int(%9)\u001b[36m::UInt64\u001b[39m\n",
       "\u001b[90m│   \u001b[39m %11 = Base.GMP.MPZ.sub_ui\u001b[36m::typeof(Base.GMP.MPZ.sub_ui)\u001b[39m\n",
       "\u001b[90m│   \u001b[39m %12 = invoke %11(%6::BigInt, %10::UInt64)\u001b[36m::BigInt\u001b[39m\n",
       "\u001b[90m└───\u001b[39m       goto #11\n",
       "\u001b[90m4 ──\u001b[39m %14 = Core.lshr_int(%4, 63)\u001b[36m::Int64\u001b[39m\n",
       "\u001b[90m│   \u001b[39m %15 = Core.trunc_int(Core.UInt8, %14)\u001b[36m::UInt8\u001b[39m\n",
       "\u001b[90m│   \u001b[39m %16 = Core.eq_int(%15, 0x01)\u001b[36m::Bool\u001b[39m\n",
       "\u001b[90m└───\u001b[39m       goto #6 if not %16\n",
       "\u001b[90m5 ──\u001b[39m       invoke Core.throw_inexacterror(:check_top_bit::Symbol, UInt64::Type{UInt64}, %4::Int64)\u001b[90m::Union{}\u001b[39m\n",
       "\u001b[90m└───\u001b[39m       unreachable\n",
       "\u001b[90m6 ──\u001b[39m       goto #7\n",
       "\u001b[90m7 ──\u001b[39m %21 = Core.bitcast(Core.UInt64, %4)\u001b[36m::UInt64\u001b[39m\n",
       "\u001b[90m└───\u001b[39m       goto #8\n",
       "\u001b[90m8 ──\u001b[39m       goto #9\n",
       "\u001b[90m9 ──\u001b[39m       goto #10\n",
       "\u001b[90m10 ─\u001b[39m %25 = Base.GMP.MPZ.add_ui\u001b[36m::typeof(Base.GMP.MPZ.add_ui)\u001b[39m\n",
       "\u001b[90m│   \u001b[39m %26 = invoke %25(%6::BigInt, %21::UInt64)\u001b[36m::BigInt\u001b[39m\n",
       "\u001b[90m└───\u001b[39m       goto #11\n",
       "\u001b[90m11 ┄\u001b[39m %28 = φ (#3 => %12, #10 => %26)\u001b[36m::BigInt\u001b[39m\n",
       "\u001b[90m│   \u001b[39m %29 = (%5 === 10000000000)\u001b[36m::Bool\u001b[39m\n",
       "\u001b[90m└───\u001b[39m       goto #13 if not %29\n",
       "\u001b[90m12 ─\u001b[39m       Base.nothing\u001b[90m::Nothing\u001b[39m\n",
       "\u001b[90m└───\u001b[39m       goto #14\n",
       "\u001b[90m13 ─\u001b[39m %33 = Base.add_int(%5, 1)\u001b[36m::Int64\u001b[39m\n",
       "\u001b[90m└───\u001b[39m       goto #14\n",
       "\u001b[90m14 ┄\u001b[39m %35 = φ (#13 => %33)\u001b[36m::Int64\u001b[39m\n",
       "\u001b[90m│   \u001b[39m %36 = φ (#13 => %33)\u001b[36m::Int64\u001b[39m\n",
       "\u001b[90m│   \u001b[39m %37 = φ (#12 => true, #13 => false)\u001b[36m::Bool\u001b[39m\n",
       "\u001b[90m│   \u001b[39m %38 = Base.not_int(%37)\u001b[36m::Bool\u001b[39m\n",
       "\u001b[90m└───\u001b[39m       goto #16 if not %38\n",
       "\u001b[90m15 ─\u001b[39m       goto #2\n",
       "\u001b[90m16 ┄\u001b[39m %41 = φ (#14 => %28, #1 => %2)\u001b[36m::BigInt\u001b[39m\n",
       "\u001b[90m└───\u001b[39m       return %41\n",
       ") => BigInt"
      ]
     },
     "execution_count": 4,
     "metadata": {},
     "output_type": "execute_result"
    }
   ],
   "source": [
    "@code_typed foo()"
   ]
  },
  {
   "cell_type": "code",
   "execution_count": 5,
   "metadata": {},
   "outputs": [
    {
     "name": "stdout",
     "output_type": "stream",
     "text": [
      "\u001b[90m;  @ In[2]:1 within `foo`\u001b[39m\n",
      "\u001b[95mdefine\u001b[39m \u001b[95mnonnull\u001b[39m \u001b[33m{\u001b[39m\u001b[33m}\u001b[39m\u001b[0m* \u001b[93m@julia_foo_1898\u001b[39m\u001b[33m(\u001b[39m\u001b[33m)\u001b[39m \u001b[0m#0 \u001b[33m{\u001b[39m\n",
      "\u001b[91mtop:\u001b[39m\n",
      "  \u001b[0m%gcframe9 \u001b[0m= \u001b[96m\u001b[1malloca\u001b[22m\u001b[39m \u001b[33m[\u001b[39m\u001b[33m3\u001b[39m \u001b[0mx \u001b[33m{\u001b[39m\u001b[33m}\u001b[39m\u001b[0m*\u001b[33m]\u001b[39m\u001b[0m, \u001b[95malign\u001b[39m \u001b[33m16\u001b[39m\n",
      "  \u001b[0m%gcframe9.sub \u001b[0m= \u001b[96m\u001b[1mgetelementptr\u001b[22m\u001b[39m \u001b[95minbounds\u001b[39m \u001b[33m[\u001b[39m\u001b[33m3\u001b[39m \u001b[0mx \u001b[33m{\u001b[39m\u001b[33m}\u001b[39m\u001b[0m*\u001b[33m]\u001b[39m\u001b[0m, \u001b[33m[\u001b[39m\u001b[33m3\u001b[39m \u001b[0mx \u001b[33m{\u001b[39m\u001b[33m}\u001b[39m\u001b[0m*\u001b[33m]\u001b[39m\u001b[0m* \u001b[0m%gcframe9\u001b[0m, \u001b[36mi64\u001b[39m \u001b[33m0\u001b[39m\u001b[0m, \u001b[36mi64\u001b[39m \u001b[33m0\u001b[39m\n",
      "  \u001b[0m%0 \u001b[0m= \u001b[96m\u001b[1mbitcast\u001b[22m\u001b[39m \u001b[33m[\u001b[39m\u001b[33m3\u001b[39m \u001b[0mx \u001b[33m{\u001b[39m\u001b[33m}\u001b[39m\u001b[0m*\u001b[33m]\u001b[39m\u001b[0m* \u001b[0m%gcframe9 \u001b[95mto\u001b[39m \u001b[36mi8\u001b[39m\u001b[0m*\n",
      "  \u001b[96m\u001b[1mcall\u001b[22m\u001b[39m \u001b[36mvoid\u001b[39m \u001b[93m@llvm.memset.p0i8.i32\u001b[39m\u001b[33m(\u001b[39m\u001b[36mi8\u001b[39m\u001b[0m* \u001b[95mnonnull\u001b[39m \u001b[95malign\u001b[39m \u001b[33m16\u001b[39m \u001b[95mdereferenceable\u001b[39m\u001b[33m(\u001b[39m\u001b[33m24\u001b[39m\u001b[33m)\u001b[39m \u001b[0m%0\u001b[0m, \u001b[36mi8\u001b[39m \u001b[33m0\u001b[39m\u001b[0m, \u001b[36mi32\u001b[39m \u001b[33m24\u001b[39m\u001b[0m, \u001b[36mi1\u001b[39m \u001b[95mfalse\u001b[39m\u001b[33m)\u001b[39m\n",
      "  \u001b[0m%thread_ptr \u001b[0m= \u001b[95mcall\u001b[39m \u001b[36mi8\u001b[39m\u001b[0m* \u001b[95masm\u001b[39m \u001b[0m\"movq %fs:0, $0\"\u001b[0m, \u001b[0m\"=r\"\u001b[33m(\u001b[39m\u001b[33m)\u001b[39m \u001b[0m#4\n",
      "  \u001b[0m%ppgcstack_i8 \u001b[0m= \u001b[96m\u001b[1mgetelementptr\u001b[22m\u001b[39m \u001b[36mi8\u001b[39m\u001b[0m, \u001b[36mi8\u001b[39m\u001b[0m* \u001b[0m%thread_ptr\u001b[0m, \u001b[36mi64\u001b[39m \u001b[33m-8\u001b[39m\n",
      "  \u001b[0m%ppgcstack \u001b[0m= \u001b[96m\u001b[1mbitcast\u001b[22m\u001b[39m \u001b[36mi8\u001b[39m\u001b[0m* \u001b[0m%ppgcstack_i8 \u001b[95mto\u001b[39m \u001b[33m{\u001b[39m\u001b[33m}\u001b[39m\u001b[0m****\n",
      "  \u001b[0m%pgcstack \u001b[0m= \u001b[96m\u001b[1mload\u001b[22m\u001b[39m \u001b[33m{\u001b[39m\u001b[33m}\u001b[39m\u001b[0m***\u001b[0m, \u001b[33m{\u001b[39m\u001b[33m}\u001b[39m\u001b[0m**** \u001b[0m%ppgcstack\u001b[0m, \u001b[95malign\u001b[39m \u001b[33m8\u001b[39m\n",
      "\u001b[90m;  @ In[2]:2 within `foo`\u001b[39m\n",
      "\u001b[90m; ┌ @ gmp.jl:291 within `BigInt`\u001b[39m\n",
      "   \u001b[0m%1 \u001b[0m= \u001b[96m\u001b[1mbitcast\u001b[22m\u001b[39m \u001b[33m[\u001b[39m\u001b[33m3\u001b[39m \u001b[0mx \u001b[33m{\u001b[39m\u001b[33m}\u001b[39m\u001b[0m*\u001b[33m]\u001b[39m\u001b[0m* \u001b[0m%gcframe9 \u001b[95mto\u001b[39m \u001b[36mi64\u001b[39m\u001b[0m*\n",
      "   \u001b[96m\u001b[1mstore\u001b[22m\u001b[39m \u001b[36mi64\u001b[39m \u001b[33m4\u001b[39m\u001b[0m, \u001b[36mi64\u001b[39m\u001b[0m* \u001b[0m%1\u001b[0m, \u001b[95malign\u001b[39m \u001b[33m16\u001b[39m\n",
      "   \u001b[0m%2 \u001b[0m= \u001b[96m\u001b[1mgetelementptr\u001b[22m\u001b[39m \u001b[95minbounds\u001b[39m \u001b[33m[\u001b[39m\u001b[33m3\u001b[39m \u001b[0mx \u001b[33m{\u001b[39m\u001b[33m}\u001b[39m\u001b[0m*\u001b[33m]\u001b[39m\u001b[0m, \u001b[33m[\u001b[39m\u001b[33m3\u001b[39m \u001b[0mx \u001b[33m{\u001b[39m\u001b[33m}\u001b[39m\u001b[0m*\u001b[33m]\u001b[39m\u001b[0m* \u001b[0m%gcframe9\u001b[0m, \u001b[36mi64\u001b[39m \u001b[33m0\u001b[39m\u001b[0m, \u001b[36mi64\u001b[39m \u001b[33m1\u001b[39m\n",
      "   \u001b[0m%3 \u001b[0m= \u001b[96m\u001b[1mbitcast\u001b[22m\u001b[39m \u001b[33m{\u001b[39m\u001b[33m}\u001b[39m\u001b[0m** \u001b[0m%2 \u001b[95mto\u001b[39m \u001b[33m{\u001b[39m\u001b[33m}\u001b[39m\u001b[0m***\n",
      "   \u001b[0m%4 \u001b[0m= \u001b[96m\u001b[1mload\u001b[22m\u001b[39m \u001b[33m{\u001b[39m\u001b[33m}\u001b[39m\u001b[0m**\u001b[0m, \u001b[33m{\u001b[39m\u001b[33m}\u001b[39m\u001b[0m*** \u001b[0m%pgcstack\u001b[0m, \u001b[95malign\u001b[39m \u001b[33m8\u001b[39m\n",
      "   \u001b[96m\u001b[1mstore\u001b[22m\u001b[39m \u001b[33m{\u001b[39m\u001b[33m}\u001b[39m\u001b[0m** \u001b[0m%4\u001b[0m, \u001b[33m{\u001b[39m\u001b[33m}\u001b[39m\u001b[0m*** \u001b[0m%3\u001b[0m, \u001b[95malign\u001b[39m \u001b[33m8\u001b[39m\n",
      "   \u001b[0m%5 \u001b[0m= \u001b[96m\u001b[1mbitcast\u001b[22m\u001b[39m \u001b[33m{\u001b[39m\u001b[33m}\u001b[39m\u001b[0m*** \u001b[0m%pgcstack \u001b[95mto\u001b[39m \u001b[33m{\u001b[39m\u001b[33m}\u001b[39m\u001b[0m***\n",
      "   \u001b[96m\u001b[1mstore\u001b[22m\u001b[39m \u001b[33m{\u001b[39m\u001b[33m}\u001b[39m\u001b[0m** \u001b[0m%gcframe9.sub\u001b[0m, \u001b[33m{\u001b[39m\u001b[33m}\u001b[39m\u001b[0m*** \u001b[0m%5\u001b[0m, \u001b[95malign\u001b[39m \u001b[33m8\u001b[39m\n",
      "   \u001b[0m%6 \u001b[0m= \u001b[96m\u001b[1mcall\u001b[22m\u001b[39m \u001b[95mnonnull\u001b[39m \u001b[33m{\u001b[39m\u001b[33m}\u001b[39m\u001b[0m* \u001b[93m@j_set_si_1900\u001b[39m\u001b[33m(\u001b[39m\u001b[36mi64\u001b[39m \u001b[95msignext\u001b[39m \u001b[33m0\u001b[39m\u001b[33m)\u001b[39m \u001b[0m#0\n",
      "\u001b[90m; └\u001b[39m\n",
      "\u001b[90m;  @ In[2]:3 within `foo`\u001b[39m\n",
      "  \u001b[96m\u001b[1mbr\u001b[22m\u001b[39m \u001b[36mlabel\u001b[39m \u001b[91m%L28\u001b[39m\n",
      "\n",
      "\u001b[91mL28:\u001b[39m                                              \u001b[90m; preds = %L28, %top\u001b[39m\n",
      "  \u001b[0m%value_phi \u001b[0m= \u001b[96m\u001b[1mphi\u001b[22m\u001b[39m \u001b[36mi64\u001b[39m \u001b[33m[\u001b[39m \u001b[33m1\u001b[39m\u001b[0m, \u001b[91m%top\u001b[39m \u001b[33m]\u001b[39m\u001b[0m, \u001b[33m[\u001b[39m \u001b[0m%9\u001b[0m, \u001b[91m%L28\u001b[39m \u001b[33m]\u001b[39m\n",
      "  \u001b[0m%value_phi2 \u001b[0m= \u001b[96m\u001b[1mphi\u001b[22m\u001b[39m \u001b[33m{\u001b[39m\u001b[33m}\u001b[39m\u001b[0m* \u001b[33m[\u001b[39m \u001b[0m%6\u001b[0m, \u001b[91m%top\u001b[39m \u001b[33m]\u001b[39m\u001b[0m, \u001b[33m[\u001b[39m \u001b[0m%8\u001b[0m, \u001b[91m%L28\u001b[39m \u001b[33m]\u001b[39m\n",
      "  \u001b[0m%7 \u001b[0m= \u001b[96m\u001b[1mgetelementptr\u001b[22m\u001b[39m \u001b[95minbounds\u001b[39m \u001b[33m[\u001b[39m\u001b[33m3\u001b[39m \u001b[0mx \u001b[33m{\u001b[39m\u001b[33m}\u001b[39m\u001b[0m*\u001b[33m]\u001b[39m\u001b[0m, \u001b[33m[\u001b[39m\u001b[33m3\u001b[39m \u001b[0mx \u001b[33m{\u001b[39m\u001b[33m}\u001b[39m\u001b[0m*\u001b[33m]\u001b[39m\u001b[0m* \u001b[0m%gcframe9\u001b[0m, \u001b[36mi64\u001b[39m \u001b[33m0\u001b[39m\u001b[0m, \u001b[36mi64\u001b[39m \u001b[33m2\u001b[39m\n",
      "  \u001b[96m\u001b[1mstore\u001b[22m\u001b[39m \u001b[33m{\u001b[39m\u001b[33m}\u001b[39m\u001b[0m* \u001b[0m%value_phi2\u001b[0m, \u001b[33m{\u001b[39m\u001b[33m}\u001b[39m\u001b[0m** \u001b[0m%7\u001b[0m, \u001b[95malign\u001b[39m \u001b[33m16\u001b[39m\n",
      "\u001b[90m;  @ In[2]:4 within `foo`\u001b[39m\n",
      "\u001b[90m; ┌ @ gmp.jl:534 within `+` @ gmp.jl:528\u001b[39m\n",
      "   \u001b[0m%8 \u001b[0m= \u001b[96m\u001b[1mcall\u001b[22m\u001b[39m \u001b[95mnonnull\u001b[39m \u001b[33m{\u001b[39m\u001b[33m}\u001b[39m\u001b[0m* \u001b[93m@j_add_ui_1903\u001b[39m\u001b[33m(\u001b[39m\u001b[33m{\u001b[39m\u001b[33m}\u001b[39m\u001b[0m* \u001b[95mnonnull\u001b[39m \u001b[0m%value_phi2\u001b[0m, \u001b[36mi64\u001b[39m \u001b[95mzeroext\u001b[39m \u001b[0m%value_phi\u001b[33m)\u001b[39m \u001b[0m#0\n",
      "\u001b[90m; └\u001b[39m\n",
      "\u001b[90m; ┌ @ range.jl:837 within `iterate`\u001b[39m\n",
      "\u001b[90m; │┌ @ promotion.jl:468 within `==`\u001b[39m\n",
      "    \u001b[0m%.not \u001b[0m= \u001b[96m\u001b[1micmp\u001b[22m\u001b[39m \u001b[96m\u001b[1meq\u001b[22m\u001b[39m \u001b[36mi64\u001b[39m \u001b[0m%value_phi\u001b[0m, \u001b[33m10000000000\u001b[39m\n",
      "\u001b[90m; │└\u001b[39m\n",
      "   \u001b[0m%9 \u001b[0m= \u001b[96m\u001b[1madd\u001b[22m\u001b[39m \u001b[95mnuw\u001b[39m \u001b[95mnsw\u001b[39m \u001b[36mi64\u001b[39m \u001b[0m%value_phi\u001b[0m, \u001b[33m1\u001b[39m\n",
      "\u001b[90m; └\u001b[39m\n",
      "  \u001b[96m\u001b[1mbr\u001b[22m\u001b[39m \u001b[36mi1\u001b[39m \u001b[0m%.not\u001b[0m, \u001b[36mlabel\u001b[39m \u001b[91m%L41\u001b[39m\u001b[0m, \u001b[36mlabel\u001b[39m \u001b[91m%L28\u001b[39m\n",
      "\n",
      "\u001b[91mL41:\u001b[39m                                              \u001b[90m; preds = %L28\u001b[39m\n",
      "  \u001b[0m%10 \u001b[0m= \u001b[96m\u001b[1mload\u001b[22m\u001b[39m \u001b[33m{\u001b[39m\u001b[33m}\u001b[39m\u001b[0m*\u001b[0m, \u001b[33m{\u001b[39m\u001b[33m}\u001b[39m\u001b[0m** \u001b[0m%2\u001b[0m, \u001b[95malign\u001b[39m \u001b[33m8\u001b[39m\n",
      "  \u001b[0m%11 \u001b[0m= \u001b[96m\u001b[1mbitcast\u001b[22m\u001b[39m \u001b[33m{\u001b[39m\u001b[33m}\u001b[39m\u001b[0m*** \u001b[0m%pgcstack \u001b[95mto\u001b[39m \u001b[33m{\u001b[39m\u001b[33m}\u001b[39m\u001b[0m**\n",
      "  \u001b[96m\u001b[1mstore\u001b[22m\u001b[39m \u001b[33m{\u001b[39m\u001b[33m}\u001b[39m\u001b[0m* \u001b[0m%10\u001b[0m, \u001b[33m{\u001b[39m\u001b[33m}\u001b[39m\u001b[0m** \u001b[0m%11\u001b[0m, \u001b[95malign\u001b[39m \u001b[33m8\u001b[39m\n",
      "\u001b[90m;  @ In[2]:6 within `foo`\u001b[39m\n",
      "  \u001b[96m\u001b[1mret\u001b[22m\u001b[39m \u001b[33m{\u001b[39m\u001b[33m}\u001b[39m\u001b[0m* \u001b[0m%8\n",
      "\u001b[33m}\u001b[39m\n"
     ]
    }
   ],
   "source": [
    "@code_llvm foo()"
   ]
  },
  {
   "cell_type": "code",
   "execution_count": 6,
   "metadata": {},
   "outputs": [
    {
     "name": "stdout",
     "output_type": "stream",
     "text": [
      "\t\u001b[0m.text\n",
      "\u001b[90m; ┌ @ In[2]:1 within `foo`\u001b[39m\n",
      "\t\u001b[96m\u001b[1mpushq\u001b[22m\u001b[39m\t\u001b[0m%r15\n",
      "\t\u001b[96m\u001b[1mpushq\u001b[22m\u001b[39m\t\u001b[0m%r14\n",
      "\t\u001b[96m\u001b[1mpushq\u001b[22m\u001b[39m\t\u001b[0m%r12\n",
      "\t\u001b[96m\u001b[1mpushq\u001b[22m\u001b[39m\t\u001b[0m%rbx\n",
      "\t\u001b[96m\u001b[1msubq\u001b[22m\u001b[39m\t\u001b[33m$24\u001b[39m\u001b[0m, \u001b[0m%rsp\n",
      "\t\u001b[96m\u001b[1mvxorps\u001b[22m\u001b[39m\t\u001b[0m%xmm0\u001b[0m, \u001b[0m%xmm0\u001b[0m, \u001b[0m%xmm0\n",
      "\t\u001b[96m\u001b[1mmovq\u001b[22m\u001b[39m\t\u001b[33m$0\u001b[39m\u001b[0m, \u001b[33m16\u001b[39m\u001b[33m(\u001b[39m\u001b[0m%rsp\u001b[33m)\u001b[39m\n",
      "\t\u001b[96m\u001b[1mmovq\u001b[22m\u001b[39m\t\u001b[0m%fs\u001b[0m:\u001b[33m0\u001b[39m\u001b[0m, \u001b[0m%rax\n",
      "\t\u001b[96m\u001b[1mmovq\u001b[22m\u001b[39m\t\u001b[0m%rsp\u001b[0m, \u001b[0m%rcx\n",
      "\u001b[90m; │ @ In[2]:2 within `foo`\u001b[39m\n",
      "\u001b[90m; │┌ @ gmp.jl:291 within `BigInt`\u001b[39m\n",
      "\t\u001b[96m\u001b[1mxorl\u001b[22m\u001b[39m\t\u001b[0m%edi\u001b[0m, \u001b[0m%edi\n",
      "\t\u001b[96m\u001b[1mvmovaps\u001b[22m\u001b[39m\t\u001b[0m%xmm0\u001b[0m, \u001b[33m(\u001b[39m\u001b[0m%rsp\u001b[33m)\u001b[39m\n",
      "\t\u001b[96m\u001b[1mmovq\u001b[22m\u001b[39m\t\u001b[33m-8\u001b[39m\u001b[33m(\u001b[39m\u001b[0m%rax\u001b[33m)\u001b[39m\u001b[0m, \u001b[0m%r14\n",
      "\t\u001b[96m\u001b[1mmovq\u001b[22m\u001b[39m\t\u001b[33m$4\u001b[39m\u001b[0m, \u001b[33m(\u001b[39m\u001b[0m%rsp\u001b[33m)\u001b[39m\n",
      "\t\u001b[96m\u001b[1mmovq\u001b[22m\u001b[39m\t\u001b[33m(\u001b[39m\u001b[0m%r14\u001b[33m)\u001b[39m\u001b[0m, \u001b[0m%rax\n",
      "\t\u001b[96m\u001b[1mmovq\u001b[22m\u001b[39m\t\u001b[0m%rax\u001b[0m, \u001b[33m8\u001b[39m\u001b[33m(\u001b[39m\u001b[0m%rsp\u001b[33m)\u001b[39m\n",
      "\t\u001b[96m\u001b[1mmovabsq\u001b[22m\u001b[39m\t\u001b[93m$set_si\u001b[39m\u001b[0m, \u001b[0m%rax\n",
      "\t\u001b[96m\u001b[1mmovq\u001b[22m\u001b[39m\t\u001b[0m%rcx\u001b[0m, \u001b[33m(\u001b[39m\u001b[0m%r14\u001b[33m)\u001b[39m\n",
      "\t\u001b[96m\u001b[1mcallq\u001b[22m\u001b[39m\t\u001b[0m*\u001b[0m%rax\n",
      "\t\u001b[96m\u001b[1mmovl\u001b[22m\u001b[39m\t\u001b[33m$1\u001b[39m\u001b[0m, \u001b[0m%ebx\n",
      "\t\u001b[96m\u001b[1mmovabsq\u001b[22m\u001b[39m\t\u001b[93m$add_ui\u001b[39m\u001b[0m, \u001b[0m%r15\n",
      "\t\u001b[96m\u001b[1mmovabsq\u001b[22m\u001b[39m\t\u001b[33m$10000000001\u001b[39m\u001b[0m, \u001b[0m%r12              \u001b[90m# imm = 0x2540BE401\u001b[39m\n",
      "\t\u001b[96m\u001b[1mnopw\u001b[22m\u001b[39m\t\u001b[33m(\u001b[39m\u001b[0m%rax\u001b[0m,\u001b[0m%rax\u001b[33m)\u001b[39m\n",
      "\u001b[90m; │└\u001b[39m\n",
      "\u001b[90m; │ @ In[2]:4 within `foo`\u001b[39m\n",
      "\u001b[90m; │┌ @ gmp.jl:534 within `+` @ gmp.jl:528\u001b[39m\n",
      "\u001b[91mL112:\u001b[39m\n",
      "\t\u001b[96m\u001b[1mmovq\u001b[22m\u001b[39m\t\u001b[0m%rax\u001b[0m, \u001b[0m%rdi\n",
      "\t\u001b[96m\u001b[1mmovq\u001b[22m\u001b[39m\t\u001b[0m%rbx\u001b[0m, \u001b[0m%rsi\n",
      "\t\u001b[96m\u001b[1mmovq\u001b[22m\u001b[39m\t\u001b[0m%rax\u001b[0m, \u001b[33m16\u001b[39m\u001b[33m(\u001b[39m\u001b[0m%rsp\u001b[33m)\u001b[39m\n",
      "\t\u001b[96m\u001b[1mcallq\u001b[22m\u001b[39m\t\u001b[0m*\u001b[0m%r15\n",
      "\u001b[90m; │└\u001b[39m\n",
      "\u001b[90m; │┌ @ range.jl:837 within `iterate`\u001b[39m\n",
      "\t\u001b[96m\u001b[1mincq\u001b[22m\u001b[39m\t\u001b[0m%rbx\n",
      "\u001b[90m; ││┌ @ promotion.jl:468 within `==`\u001b[39m\n",
      "\t\u001b[96m\u001b[1mcmpq\u001b[22m\u001b[39m\t\u001b[0m%r12\u001b[0m, \u001b[0m%rbx\n",
      "\u001b[90m; │└└\u001b[39m\n",
      "\t\u001b[96m\u001b[1mjne\u001b[22m\u001b[39m\t\u001b[91mL112\u001b[39m\n",
      "\u001b[90m; │ @ In[2] within `foo`\u001b[39m\n",
      "\t\u001b[96m\u001b[1mmovq\u001b[22m\u001b[39m\t\u001b[33m8\u001b[39m\u001b[33m(\u001b[39m\u001b[0m%rsp\u001b[33m)\u001b[39m\u001b[0m, \u001b[0m%rcx\n",
      "\t\u001b[96m\u001b[1mmovq\u001b[22m\u001b[39m\t\u001b[0m%rcx\u001b[0m, \u001b[33m(\u001b[39m\u001b[0m%r14\u001b[33m)\u001b[39m\n",
      "\u001b[90m; │ @ In[2]:6 within `foo`\u001b[39m\n",
      "\t\u001b[96m\u001b[1maddq\u001b[22m\u001b[39m\t\u001b[33m$24\u001b[39m\u001b[0m, \u001b[0m%rsp\n",
      "\t\u001b[96m\u001b[1mpopq\u001b[22m\u001b[39m\t\u001b[0m%rbx\n",
      "\t\u001b[96m\u001b[1mpopq\u001b[22m\u001b[39m\t\u001b[0m%r12\n",
      "\t\u001b[96m\u001b[1mpopq\u001b[22m\u001b[39m\t\u001b[0m%r14\n",
      "\t\u001b[96m\u001b[1mpopq\u001b[22m\u001b[39m\t\u001b[0m%r15\n",
      "\t\u001b[96m\u001b[1mretq\u001b[22m\u001b[39m\n",
      "\t\u001b[96m\u001b[1mnopw\u001b[22m\u001b[39m\t\u001b[33m(\u001b[39m\u001b[0m%rax\u001b[0m,\u001b[0m%rax\u001b[33m)\u001b[39m\n",
      "\u001b[90m; └\u001b[39m\n"
     ]
    }
   ],
   "source": [
    "@code_native foo()"
   ]
  },
  {
   "cell_type": "code",
   "execution_count": null,
   "metadata": {},
   "outputs": [],
   "source": [
    "function bar(n)\n",
    "    return rand(n) .+ 10\n",
    "end"
   ]
  },
  {
   "cell_type": "markdown",
   "metadata": {},
   "source": [
    "```python\n",
    "def foo():\n",
    "    out = 0\n",
    "    for i in range(10):\n",
    "        out += 1\n",
    "    return out\n",
    "```           \n",
    "\n",
    "1. set out = 0\n",
    "2. set i = 0\n",
    "3. set out = out + 1 = 1\n",
    "4. set i = 1\n",
    "5. set out = out + 1 = 2\n",
    "4. set i = 2\n",
    "5. set out = out + 1 = 3\n",
    "4. set i = 3\n",
    "5. set out = out + 1 = 4\n",
    ". .........\n",
    "1. return 10"
   ]
  },
  {
   "cell_type": "markdown",
   "metadata": {
    "slideshow": {
     "slide_type": "subslide"
    }
   },
   "source": [
    "### Julia's Technology\n",
    "\n",
    "Julia's technology stack makes its unique value propositions possible\n",
    "\n",
    "Julia is a just in time (JIT) compiled language using the LLVM toolchain (powers Rust, modern C++ compilers, etc... **very** efficient)\n",
    "\n",
    "The JITted nature of Julia means:\n",
    "\n",
    "- All code is compiled to machine code before execution\n",
    "- This happens as needed, so it feels as dynamic as interpreted languages like Python\n",
    "- The machine code can be optimized end to end and execute at C-like speeds\n"
   ]
  },
  {
   "cell_type": "markdown",
   "metadata": {
    "slideshow": {
     "slide_type": "subslide"
    }
   },
   "source": [
    "### Julia is written in Julia\n",
    "\n",
    "Julia has a relatively small core written in C\n",
    "\n",
    "The vast majority of Julia itself, its standard libraries, and third party packages are written in Julia\n",
    "\n",
    "This means a few things:\n",
    "\n",
    "- Julia users can be library developers/contributors (open source FTW)\n",
    "- Julia user code has same standing as built in code (not true for languages like Python/R)\n",
    "- Julia doesn't often have \"two language problem\": users write most code in one language and are forced to use a second language to make it fast (e.g. Python + C)"
   ]
  },
  {
   "cell_type": "markdown",
   "metadata": {
    "slideshow": {
     "slide_type": "subslide"
    }
   },
   "source": [
    "### Other Language features\n",
    "\n",
    "Julia was originally created to make numerical computing better\n",
    "\n",
    "*warning, opinion coming!*\n",
    "\n",
    "As such, Julia's syntax is concice, expressive, and beautiful for doing numerical work\n",
    "\n",
    "Julia has advanced features like metaprogramming (code that writes code!), parametric types, symmetric coroutines, etc...\n",
    "\n",
    "The result is a system that allows an ecosystem of *composable* and *interoperable* components (a User can use features of one package with another package without either package knowing the other exists)"
   ]
  },
  {
   "cell_type": "markdown",
   "metadata": {
    "slideshow": {
     "slide_type": "subslide"
    }
   },
   "source": [
    "## Installation\n",
    "\n",
    "To install Julia on your machine...\n",
    "\n",
    "- Go to https://julialang.org/downloads/\n",
    "- Download the latest released version of Julia for your operating system and follow system-specific installation instructions\n",
    "- Install jupyter support (optional): Launch julia then at prompt type: `using Pkg; Pkg.add(\"IJulia\")`"
   ]
  },
  {
   "cell_type": "code",
   "execution_count": null,
   "metadata": {},
   "outputs": [],
   "source": []
  }
 ],
 "metadata": {
  "kernelspec": {
   "display_name": "Julia 1.7.2",
   "language": "julia",
   "name": "julia-1.7.2-1.7"
  },
  "language_info": {
   "file_extension": ".jl",
   "mimetype": "application/julia",
   "name": "julia",
   "version": "1.7.2"
  }
 },
 "nbformat": 4,
 "nbformat_minor": 4
}
